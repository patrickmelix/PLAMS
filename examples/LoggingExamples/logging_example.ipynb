{
 "cells": [
  {
   "cell_type": "markdown",
   "metadata": {},
   "source": [
    "# Logging"
   ]
  },
  {
   "cell_type": "markdown",
   "metadata": {},
   "source": [
    "## Logging in python"
   ]
  },
  {
   "cell_type": "code",
   "execution_count": 3,
   "metadata": {},
   "outputs": [
    {
     "name": "stderr",
     "output_type": "stream",
     "text": [
      "DEBUG:__main__:This message should go to the log file\n",
      "INFO:__main__:So should this\n",
      "WARNING:__main__:And this, too\n",
      "ERROR:__main__:And non-ASCII stuff, too, like Øresund and Malmö\n"
     ]
    }
   ],
   "source": [
    "import logging\n",
    "\n",
    "logger = logging.getLogger(__name__)\n",
    "logging.basicConfig(filename=None, level=logging.DEBUG)\n",
    "logger.debug(\"This message should go to the log file\")\n",
    "logger.info(\"So should this\")\n",
    "logger.warning(\"And this, too\")\n",
    "logger.error(\"And non-ASCII stuff, too, like Øresund and Malmö\")"
   ]
  },
  {
   "cell_type": "code",
   "execution_count": 4,
   "metadata": {},
   "outputs": [
    {
     "data": {
      "text/plain": [
       "(10, 20, 30, 40)"
      ]
     },
     "execution_count": 4,
     "metadata": {},
     "output_type": "execute_result"
    }
   ],
   "source": [
    "logging.DEBUG, logging.INFO, logging.WARNING, logging.ERROR"
   ]
  },
  {
   "cell_type": "markdown",
   "metadata": {},
   "source": [
    "## Logging in plams"
   ]
  },
  {
   "cell_type": "markdown",
   "metadata": {},
   "source": [
    "### Default logger"
   ]
  },
  {
   "cell_type": "code",
   "execution_count": 5,
   "metadata": {},
   "outputs": [
    {
     "name": "stdout",
     "output_type": "stream",
     "text": [
      "[22.11|16:30:31] asda\n"
     ]
    }
   ],
   "source": [
    "import scm.plams as plams\n",
    "\n",
    "plams.log(\"asda\", level=0)"
   ]
  },
  {
   "cell_type": "markdown",
   "metadata": {},
   "source": [
    "### Extra Loggers"
   ]
  },
  {
   "cell_type": "code",
   "execution_count": 6,
   "metadata": {},
   "outputs": [
    {
     "name": "stdout",
     "output_type": "stream",
     "text": [
      "[22.11|16:30:33] I am very important\n"
     ]
    }
   ],
   "source": [
    "from scm.plams.core.errors import FileError\n",
    "from scm.plams.core.logging import get_logger, LogManager\n",
    "from scm.plams.unit_tests.test_helpers import temp_file_path\n",
    "\n",
    "log_i = get_logger(\"my_special_workflow\")\n",
    "log_i.configure(stdout_level=7, logfile_level=0, logfile_path=None, include_date=True, include_time=True)\n",
    "log_i.log(\"I am not important\", 10)\n",
    "log_i.log(\"I am very important\", 0)"
   ]
  },
  {
   "cell_type": "markdown",
   "metadata": {},
   "source": [
    "### CVSLogger"
   ]
  },
  {
   "cell_type": "code",
   "execution_count": 1,
   "metadata": {},
   "outputs": [],
   "source": [
    "from scm.plams.core.errors import FileError\n",
    "from scm.plams.core.logging import get_logger, LogManager\n",
    "from scm.plams.unit_tests.test_helpers import temp_file_path\n",
    "from pathlib import Path"
   ]
  },
  {
   "cell_type": "code",
   "execution_count": 2,
   "metadata": {},
   "outputs": [],
   "source": [
    "logfile_path = Path(\"prova.log\")\n",
    "logfile_path.unlink(missing_ok=True)"
   ]
  },
  {
   "cell_type": "code",
   "execution_count": 3,
   "metadata": {},
   "outputs": [],
   "source": [
    "log_csv = get_logger(\"csv_format_log\", format=\"csv\")\n",
    "log_csv.configure(stdout_level=5, logfile_level=5, logfile_path=logfile_path, include_date=True, include_time=True)"
   ]
  },
  {
   "cell_type": "code",
   "execution_count": 4,
   "metadata": {},
   "outputs": [
    {
     "name": "stdout",
     "output_type": "stream",
     "text": [
      "asctime,p,v,SSS\n",
      "2024-11-22 16:31:58,25,asdadf,1000\n"
     ]
    }
   ],
   "source": [
    "log_csv.log(message={\"p\": 25, \"v\": \"asdadf\", \"SSS\": 1000}, level=3)"
   ]
  },
  {
   "cell_type": "code",
   "execution_count": 5,
   "metadata": {},
   "outputs": [
    {
     "name": "stdout",
     "output_type": "stream",
     "text": [
      "2024-11-22 16:31:59,25,asdadf,1000\n"
     ]
    }
   ],
   "source": [
    "log_csv.log(message={\"p\": 25, \"v\": \"asdadf\", \"SSS\": 1000}, level=3)"
   ]
  },
  {
   "cell_type": "markdown",
   "metadata": {},
   "source": [
    "### Logging jobs in csv"
   ]
  },
  {
   "cell_type": "code",
   "execution_count": null,
   "metadata": {},
   "outputs": [],
   "source": [
    "from scm.plams.core.job_csv_formatter import JobCSVFormatter\n",
    "from scm.plams.core.logging import get_logger\n",
    "from pathlib import Path\n",
    "import scm.plams as plams\n",
    "\n",
    "logfile_path = Path(\"prova.log\")\n",
    "logfile_path.unlink(missing_ok=True)\n",
    "log_csv_job = get_logger(\"job_csv_logger\", format=\"csv\")\n",
    "log_csv_job.configure(\n",
    "    stdout_level=0,\n",
    "    logfile_level=3,\n",
    "    logfile_path=logfile_path,\n",
    "    include_date=True,\n",
    "    include_time=True,\n",
    "    csv_formatter_cls=JobCSVFormatter,\n",
    "    counter_len=3,\n",
    ")"
   ]
  },
  {
   "cell_type": "code",
   "execution_count": 14,
   "metadata": {},
   "outputs": [
    {
     "name": "stdout",
     "output_type": "stream",
     "text": [
      "2024-11-22 16:33:54,plamsjob,created,,,,,,,\n"
     ]
    }
   ],
   "source": [
    "s = plams.Settings()\n",
    "s.input.ams.Task = \"SinglePoint\"\n",
    "s.input.dftb\n",
    "job = plams.AMSJob(molecule=plams.from_smiles(\"C\"), settings=s)\n",
    "log_csv_job.log(job, level=0)"
   ]
  },
  {
   "cell_type": "code",
   "execution_count": 15,
   "metadata": {},
   "outputs": [
    {
     "name": "stdout",
     "output_type": "stream",
     "text": [
      "2024-11-22 16:33:55,plamsjob,created,,,,,,,\n"
     ]
    }
   ],
   "source": [
    "job = plams.AMSJob(molecule=plams.from_smiles(\"C\"), settings=s)\n",
    "log_csv_job.log(job, level=0)"
   ]
  },
  {
   "cell_type": "markdown",
   "metadata": {},
   "source": [
    "### JobManager integrated job logger"
   ]
  },
  {
   "cell_type": "code",
   "execution_count": null,
   "metadata": {},
   "outputs": [
    {
     "name": "stdout",
     "output_type": "stream",
     "text": [
      "PLAMS working folder: /path/plams/plams_workdir.002\n",
      "[22.11|14:08:53] JOB plamsjob STARTED\n",
      "[22.11|14:08:53] JOB plamsjob RUNNING\n",
      "[22.11|14:08:55] JOB plamsjob FINISHED\n",
      "[22.11|14:08:55] JOB plamsjob SUCCESSFUL\n",
      "PLAMS run finished. Goodbye\n"
     ]
    }
   ],
   "source": [
    "import scm.plams as plams\n",
    "\n",
    "plams.init()\n",
    "s = plams.Settings()\n",
    "s.input.ams.Task = \"SinglePoint\"\n",
    "s.input.dftb\n",
    "job = plams.AMSJob(molecule=plams.from_smiles(\"C\"), settings=s)\n",
    "job.run()\n",
    "plams.finish()"
   ]
  },
  {
   "cell_type": "code",
   "execution_count": null,
   "metadata": {},
   "outputs": [],
   "source": [
    "plams.config.default_jobmanager.logger_csv.log(job, level=6)"
   ]
  }
 ],
 "metadata": {
  "kernelspec": {
   "display_name": "Python 3",
   "language": "python",
   "name": "python3"
  },
  "language_info": {
   "codemirror_mode": {
    "name": "ipython",
    "version": 3
   },
   "file_extension": ".py",
   "mimetype": "text/x-python",
   "name": "python",
   "nbconvert_exporter": "python",
   "pygments_lexer": "ipython3",
   "version": "3.8.12"
  }
 },
 "nbformat": 4,
 "nbformat_minor": 2
}
