{
 "cells": [
  {
   "cell_type": "markdown",
   "id": "59e02e86-0f75-481b-9501-31d21e43eb84",
   "metadata": {},
   "source": [
    "## Initialization"
   ]
  },
  {
   "cell_type": "code",
   "execution_count": 28,
   "id": "b190bf82-0b95-4eb6-b7fb-e78973d5a0b3",
   "metadata": {},
   "outputs": [],
   "source": [
    "from scm.plams import Settings, Molecule, init, AMSJob\n",
    "from scm.plams.recipes.adffragment import ADFFragmentJob\n",
    "\n",
    "# this line is not required in AMS2025+\n",
    "init()\n"
   ]
  },
  {
   "cell_type": "markdown",
   "id": "53117bc2-7848-43f3-9ffa-816450e36cd2",
   "metadata": {},
   "source": [
    "## define the molecules\n",
    "Fir convenience we define here two molecules, normally you would read them from xyz files"
   ]
  },
  {
   "cell_type": "code",
   "execution_count": 29,
   "id": "5c91b68f-e152-4128-b037-18de1c6f99ad",
   "metadata": {},
   "outputs": [],
   "source": [
    "def get_molecule(input_string):\n",
    "   job = AMSJob.from_input(input_string)\n",
    "   return job.molecule[\"\"]\n",
    "\n",
    "\n",
    "mol1=get_molecule(\"\"\"\n",
    "System\n",
    "    Atoms\n",
    "        C      -0.75086900       1.37782400      -2.43303700\n",
    "        C      -0.05392100       2.51281000      -2.41769100\n",
    "        H      -1.78964800       1.33942600      -2.09651100\n",
    "        H      -0.30849400       0.43896500      -2.76734700\n",
    "        H      -0.49177100       3.45043100      -2.06789100\n",
    "        H       0.98633900       2.54913500      -2.74329400\n",
    "    End\n",
    "End\n",
    "\"\"\")\n",
    "\n",
    "\n",
    "\n",
    "mol2=get_molecule(\"\"\"\n",
    "System\n",
    "    Atoms\n",
    "        C       0.14667300      -0.21503500       0.40053800\n",
    "        C       1.45297400      -0.07836900       0.12424400\n",
    "        C       2.23119700       1.15868100       0.12912100\n",
    "        C       1.78331500       2.39701500       0.38779700\n",
    "        H      -0.48348000       0.63110600       0.67664100\n",
    "        H      -0.33261900      -1.19332100       0.35411600\n",
    "        H       2.01546300      -0.97840100      -0.14506700\n",
    "        H       3.29046200       1.03872500      -0.12139700\n",
    "        H       2.45728900       3.25301000       0.35150400\n",
    "        H       0.74193400       2.60120700       0.64028800\n",
    "    End\n",
    "End\n",
    "\"\"\")\n"
   ]
  },
  {
   "cell_type": "markdown",
   "id": "439d8f35-16df-4d72-b84b-eb8f9e0057a7",
   "metadata": {},
   "source": [
    "## Setup and run the job"
   ]
  },
  {
   "cell_type": "code",
   "execution_count": 30,
   "id": "fd9005ee-f8d6-4eb9-8c5d-b36585748474",
   "metadata": {},
   "outputs": [
    {
     "name": "stdout",
     "output_type": "stream",
     "text": [
      "[04.03|18:09:37] JOB plamsjob STARTED\n",
      "[04.03|18:09:37] Renaming job plamsjob to plamsjob.006\n",
      "[04.03|18:09:37] JOB plamsjob.006 RUNNING\n",
      "[04.03|18:09:37] JOB plamsjob.006/frag1 STARTED\n",
      "[04.03|18:09:37] Job frag1 previously run as frag1, using old results\n",
      "[04.03|18:09:37] JOB plamsjob.006/frag1 COPIED\n",
      "[04.03|18:09:37] JOB plamsjob.006/frag2 STARTED\n",
      "[04.03|18:09:37] Job frag2 previously run as frag2, using old results\n",
      "[04.03|18:09:37] JOB plamsjob.006/frag2 COPIED\n",
      "[04.03|18:09:37] JOB plamsjob.006/full STARTED\n",
      "[04.03|18:09:37] JOB plamsjob.006/full RUNNING\n",
      "[04.03|18:09:45] JOB plamsjob.006/full FINISHED\n",
      "[04.03|18:09:45] JOB plamsjob.006/full SUCCESSFUL\n",
      "[04.03|18:09:45] JOB plamsjob.006 FINISHED\n",
      "[04.03|18:09:45] JOB plamsjob.006 SUCCESSFUL\n"
     ]
    }
   ],
   "source": [
    "common = Settings()  # common settings for all 3 jobs\n",
    "common.input.ams.Task = \"SinglePoint\"\n",
    "common.input.adf.basis.type = \"DZP\"\n",
    "common.input.adf.xc.gga = \"PBE\"\n",
    "common.input.adf.symmetry = \"NOSYM\"\n",
    "\n",
    "full = Settings()  # additional settings for full system calculation\n",
    "full.input.adf.etsnocv  # empty block\n",
    "full.input.adf.print = \"etslowdin\"\n",
    "\n",
    "# normally you would read here the two molecules from xyz files.\n",
    "#mol1 = Molecule(\"ethene.xyz\")\n",
    "#mol2 = Molecule(\"butadiene.xyz\")\n",
    "\n",
    "j = ADFFragmentJob(fragment1=mol1, fragment2=mol2, settings=common, full_settings=full)\n",
    "r = j.run()"
   ]
  },
  {
   "cell_type": "markdown",
   "id": "2f165ff0-56e0-4c36-a3d7-10415e78e48d",
   "metadata": {},
   "source": [
    "## Print the results"
   ]
  },
  {
   "cell_type": "code",
   "execution_count": 26,
   "id": "4c9d455e-a593-4916-a276-55ddde012563",
   "metadata": {},
   "outputs": [
    {
     "name": "stdout",
     "output_type": "stream",
     "text": [
      "Energy decomposition:\n",
      "Electrostatic Energy          :     -0.006\n",
      "Kinetic Energy                :     -0.011\n",
      "Elstat Interaction            :      0.028\n",
      "XC Energy                     :     -0.013\n",
      "[-0.09760616899282963, -0.0839680693533784, -0.045169644749770206, -0.013992208272227163, -0.012301293093349555, -0.012158578655819955, -0.010245597033887928, -0.008352392162127539, -0.008101163200595651, -0.006346241656103833, -0.006031998164807255, -0.0055642405756232876, -0.004644872989240481, -0.003768988405719008, -0.0031994186064484456, -0.0027555723506621286, -0.002451643817150559, -2.2492354983689858e-17, -7.446341352094137e-18, -4.044567181667314e-18, -3.967114069475562e-18, -3.656241175508233e-18, -3.5889570540429156e-18, -2.8711165497489773e-18, -2.4454986363960775e-18, -2.2792368086203324e-18, -1.8206678708869246e-18, -1.77295778676272e-18, -1.5036916759432292e-18, -1.2219216529514061e-18, -1.201402922095062e-18, -9.621373318276652e-19, -7.263648831663328e-19, -4.692844277306997e-19, -4.685214435680857e-19, -8.6727371984919e-20, -7.282857108553571e-20, -6.034383089287236e-20, -5.437375310178966e-20, -4.100652715301787e-20, -3.9027164315011785e-20, -3.138818482035649e-20, -2.9402949694843114e-20, -2.938498969243781e-20, -2.8160097353881034e-20, -2.5320232704260912e-20, -1.769832969385212e-20, -1.5776607312535546e-20, -1.2242893509325682e-20, -1.0315304752191566e-20, -8.112173418424301e-21, -6.920558167737062e-21, -5.701628609186364e-21, -5.571090566703588e-21, -4.944342210725312e-21, -4.4851140787631845e-21, -3.3539333305001227e-21, -3.173813247381477e-21, -2.76208792388172e-21, -2.0578041003182034e-21, -1.091590041489949e-21, -8.840379786668004e-22, -7.804823952646201e-22, -5.458982493778209e-22, -4.217911954388511e-22, -3.481720961696348e-23, 3.635131967730304e-23, 2.394599831978981e-22, 5.1757835917817895e-22, 6.18007627718356e-22, 6.583244552830281e-22, 1.0215193585843616e-21, 1.1895630101085334e-21, 1.3551610535416043e-21, 1.8002420977474672e-21, 2.0914812619723445e-21, 2.2801311609605276e-21, 4.361003015277832e-21, 5.337840930653604e-21, 5.8742971917561e-21, 6.802248728087376e-21, 6.80513205854182e-21, 1.2529365984622263e-20, 1.4348615190399378e-20, 1.7239608645430747e-20, 1.9139119649750465e-20, 2.3405368114099062e-20, 2.484207242034426e-20, 3.04220695033889e-20, 3.5659260544985895e-20, 3.658463124083889e-20, 5.647852662368973e-20, 5.871845660655376e-19, 7.10765520433817e-19, 8.124352479546348e-19, 1.033745075971269e-18, 1.1605210659258938e-18, 1.2269027902096232e-18, 1.2293844548446015e-18, 1.712037019376106e-18, 1.7459410143574107e-18, 1.9797514461682364e-18, 2.003657793925992e-18, 2.2744232921416084e-18, 3.3212084357114718e-18, 3.478834081760149e-18, 3.516143547423385e-18, 3.743663298800646e-18, 4.193039330163627e-18, 7.145619023344964e-18, 2.1324070129895625e-17, 0.0024516438171537907, 0.002755572350663727, 0.0031994186064502215, 0.003768988405719971, 0.004644872989241229, 0.005564240575622608, 0.006031998164806515, 0.006346241656106565, 0.008101163200599091, 0.008352392162128464, 0.010245597033888108, 0.012158578655820746, 0.012301293093350816, 0.013992208272227894, 0.04516964474977264, 0.08396806935338033, 0.09760616899282964]\n"
     ]
    }
   ],
   "source": [
    "print(\"Energy decomposition:\")\n",
    "decom = r.get_energy_decomposition()\n",
    "for energy_term in decom:\n",
    "    print(f'{energy_term:30s}: {decom[energy_term]:10.3f}')\n",
    "print('NOCV eigenvalues')\n",
    "nocv_eigenvalues=j.full.results.readrkf(\"NOCV\", \"NOCV_eigenvalues_restricted\", \"engine\")\n",
    "\n",
    "for index, \n"
   ]
  },
  {
   "cell_type": "code",
   "execution_count": null,
   "id": "871fe88f-5892-49d7-8912-2769b6728e6d",
   "metadata": {},
   "outputs": [],
   "source": []
  },
  {
   "cell_type": "code",
   "execution_count": null,
   "id": "88c3a58c-8aba-41f9-8ef9-bc0574258562",
   "metadata": {},
   "outputs": [],
   "source": []
  }
 ],
 "metadata": {
  "kernelspec": {
   "display_name": "Python 3",
   "language": "python",
   "name": "python3"
  },
  "language_info": {
   "codemirror_mode": {
    "name": "ipython",
    "version": 3
   },
   "file_extension": ".py",
   "mimetype": "text/x-python",
   "name": "python",
   "nbconvert_exporter": "python",
   "pygments_lexer": "ipython3",
   "version": "3.8.12"
  }
 },
 "nbformat": 4,
 "nbformat_minor": 5
}
