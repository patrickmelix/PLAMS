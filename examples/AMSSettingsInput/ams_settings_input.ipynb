{
 "cells": [
  {
   "cell_type": "markdown",
   "metadata": {},
   "source": [
    "## Task, Engine and Property Blocks\n",
    "\n"
   ]
  },
  {
   "cell_type": "code",
   "execution_count": 1,
   "metadata": {},
   "outputs": [],
   "source": [
    "from scm.plams import Settings, AMSJob"
   ]
  },
  {
   "cell_type": "markdown",
   "metadata": {},
   "source": [
    "To start with, in order to see the input that will be passed to AMS, create an AMSJob and print the input:"
   ]
  },
  {
   "cell_type": "code",
   "execution_count": 2,
   "metadata": {},
   "outputs": [],
   "source": [
    "def print_input(settings):\n",
    "    print(AMSJob(settings=settings).get_input())"
   ]
  },
  {
   "cell_type": "markdown",
   "metadata": {},
   "source": [
    "Tasks can be specified under the `input.AMS.Task` key:"
   ]
  },
  {
   "cell_type": "code",
   "execution_count": 3,
   "metadata": {},
   "outputs": [
    {
     "name": "stdout",
     "output_type": "stream",
     "text": [
      "GeometryOptimization\n",
      "  Convergence\n",
      "    Gradients 1e-05\n",
      "  End\n",
      "End\n",
      "\n",
      "Task GeometryOptimization\n",
      "\n",
      "\n"
     ]
    }
   ],
   "source": [
    "go_settings = Settings()\n",
    "go_settings.input.AMS.Task = \"GeometryOptimization\"\n",
    "go_settings.input.AMS.GeometryOptimization.Convergence.Gradients=1e-5\n",
    "print_input(go_settings)"
   ]
  },
  {
   "cell_type": "markdown",
   "metadata": {},
   "source": [
    "Properties can be specified under the `input.AMS.Properties` key:"
   ]
  },
  {
   "cell_type": "code",
   "execution_count": 4,
   "metadata": {},
   "outputs": [
    {
     "name": "stdout",
     "output_type": "stream",
     "text": [
      "Properties\n",
      "  NormalModes Yes\n",
      "End\n",
      "\n",
      "\n"
     ]
    }
   ],
   "source": [
    "nm_settings = Settings()\n",
    "nm_settings.input.ams.Properties.NormalModes = \"Yes\"\n",
    "print_input(nm_settings)"
   ]
  },
  {
   "cell_type": "markdown",
   "metadata": {},
   "source": [
    "Engine settings can be specified under the `input.AMS.<Engine>` key, for the engine of interest:"
   ]
  },
  {
   "cell_type": "code",
   "execution_count": 5,
   "metadata": {},
   "outputs": [
    {
     "name": "stdout",
     "output_type": "stream",
     "text": [
      "\n",
      "Engine ADF\n",
      "  Basis\n",
      "    Type DZP\n",
      "  End\n",
      "EndEngine\n",
      "\n",
      "\n"
     ]
    }
   ],
   "source": [
    "lda_settings = Settings()\n",
    "lda_settings.input.ADF.Basis.Type = \"DZP\"\n",
    "print_input(lda_settings)"
   ]
  },
  {
   "cell_type": "markdown",
   "metadata": {},
   "source": [
    "## Combining Settings"
   ]
  },
  {
   "cell_type": "markdown",
   "metadata": {},
   "source": [
    "Settings objects can be combined for easy reuse and job setup.\n",
    "Settings can be merged using the `+` and `+=` operators."
   ]
  },
  {
   "cell_type": "code",
   "execution_count": 6,
   "metadata": {},
   "outputs": [
    {
     "name": "stdout",
     "output_type": "stream",
     "text": [
      "GeometryOptimization\n",
      "  Convergence\n",
      "    Gradients 1e-05\n",
      "  End\n",
      "End\n",
      "\n",
      "Properties\n",
      "  NormalModes Yes\n",
      "End\n",
      "\n",
      "Task GeometryOptimization\n",
      "\n",
      "\n",
      "Engine ADF\n",
      "  Basis\n",
      "    Type DZP\n",
      "  End\n",
      "EndEngine\n",
      "\n",
      "\n"
     ]
    }
   ],
   "source": [
    "settings = go_settings + lda_settings + nm_settings\n",
    "print_input(settings)"
   ]
  },
  {
   "cell_type": "markdown",
   "metadata": {},
   "source": [
    "Note however that this is a \"soft\" update, so values of existing keys will not be overwritten:"
   ]
  },
  {
   "cell_type": "code",
   "execution_count": 7,
   "metadata": {},
   "outputs": [
    {
     "name": "stdout",
     "output_type": "stream",
     "text": [
      "GeometryOptimization\n",
      "  Convergence\n",
      "    Gradients 1e-05\n",
      "  End\n",
      "End\n",
      "\n",
      "Properties\n",
      "  NormalModes Yes\n",
      "End\n",
      "\n",
      "Task GeometryOptimization\n",
      "\n",
      "\n",
      "Engine ADF\n",
      "  Basis\n",
      "    Type DZP\n",
      "  End\n",
      "  xc\n",
      "    gga pbe\n",
      "  End\n",
      "EndEngine\n",
      "\n",
      "\n"
     ]
    }
   ],
   "source": [
    "pbe_settings = Settings()\n",
    "pbe_settings.input.ADF.Basis.Type = \"TZP\"\n",
    "pbe_settings.input.ADF.xc.gga=\"pbe\"   \n",
    "settings += pbe_settings\n",
    "print_input(settings)"
   ]
  },
  {
   "cell_type": "markdown",
   "metadata": {},
   "source": [
    "To achieve this behaviour, the `update` method can be used, which overwrites existing keys:"
   ]
  },
  {
   "cell_type": "code",
   "execution_count": 8,
   "metadata": {},
   "outputs": [
    {
     "name": "stdout",
     "output_type": "stream",
     "text": [
      "GeometryOptimization\n",
      "  Convergence\n",
      "    Gradients 1e-05\n",
      "  End\n",
      "End\n",
      "\n",
      "Properties\n",
      "  NormalModes Yes\n",
      "End\n",
      "\n",
      "Task GeometryOptimization\n",
      "\n",
      "\n",
      "Engine ADF\n",
      "  Basis\n",
      "    Type TZP\n",
      "  End\n",
      "  xc\n",
      "    gga pbe\n",
      "  End\n",
      "EndEngine\n",
      "\n",
      "\n"
     ]
    }
   ],
   "source": [
    "settings.update(pbe_settings)\n",
    "print_input(settings)"
   ]
  },
  {
   "cell_type": "markdown",
   "metadata": {},
   "source": [
    "Settings can also be removed using the `-` and `-=` operators:"
   ]
  },
  {
   "cell_type": "code",
   "execution_count": 9,
   "metadata": {},
   "outputs": [
    {
     "name": "stdout",
     "output_type": "stream",
     "text": [
      "\n"
     ]
    }
   ],
   "source": [
    "settings -= nm_settings\n",
    "print_input(settings)"
   ]
  },
  {
   "cell_type": "markdown",
   "metadata": {},
   "source": [
    "Multiple values in a settings block can be configured using a list:"
   ]
  },
  {
   "cell_type": "code",
   "execution_count": 10,
   "metadata": {},
   "outputs": [
    {
     "name": "stdout",
     "output_type": "stream",
     "text": [
      "GeometryOptimization\n",
      "  Convergence\n",
      "    Gradients 1e-05\n",
      "  End\n",
      "End\n",
      "\n",
      "Hybrid\n",
      "  Energy\n",
      "    Term\n",
      "      EngineID adf-lda\n",
      "      Factor 1.0\n",
      "      Region *\n",
      "    End\n",
      "    Term\n",
      "      EngineID adf-lda\n",
      "      Factor -1.0\n",
      "      Region one\n",
      "    End\n",
      "    Term\n",
      "      EngineID adf-gga\n",
      "      Factor 1.0\n",
      "      Region one\n",
      "    End\n",
      "    Term\n",
      "      EngineID adf-lda\n",
      "      Factor -1.0\n",
      "      Region two\n",
      "    End\n",
      "    Term\n",
      "      EngineID adf-gga\n",
      "      Factor 1.0\n",
      "      Region two\n",
      "    End\n",
      "  End\n",
      "  Engine ADF adf-lda\n",
      "    Basis\n",
      "      Type DZP\n",
      "    End\n",
      "  EndEngine\n",
      "  Engine ADF adf-gga\n",
      "    Basis\n",
      "      Type TZP\n",
      "    End\n",
      "    xc\n",
      "      gga pbe\n",
      "    End\n",
      "  EndEngine\n",
      "\n",
      "End\n",
      "\n",
      "Task GeometryOptimization\n",
      "\n",
      "\n"
     ]
    }
   ],
   "source": [
    "hybrid_settings = go_settings.copy()\n",
    "hybrid_settings.input.AMS.Hybrid.Energy.Term = []\n",
    "for i in range(5):\n",
    "    factor = (-1) ** (i%2) * 1.0\n",
    "    region = \"*\" if i == 0 else \"one\" if i < 3 else \"two\"\n",
    "    engine_id = \"adf-lda\" if i == 0 or factor == -1 else \"adf-gga\"\n",
    "    term = Settings({\"Factor\": factor, \"Region\": region, \"EngineID\": engine_id})\n",
    "    hybrid_settings.input.AMS.Hybrid.Energy.Term.append(term)\n",
    "hybrid_settings.input.AMS.Hybrid.Engine = [lda_settings.input.ADF.copy(), pbe_settings.input.ADF.copy()]\n",
    "hybrid_settings.input.AMS.Hybrid.Engine[0]._h = \"ADF adf-lda\" \n",
    "hybrid_settings.input.AMS.Hybrid.Engine[1]._h = \"ADF adf-gga\" \n",
    "print_input(hybrid_settings)"
   ]
  },
  {
   "cell_type": "markdown",
   "metadata": {},
   "source": [
    "Note also in the example below, the use of the special `_h` \"header\" key, which can be used to add data to the header line for a block."
   ]
  },
  {
   "cell_type": "markdown",
   "metadata": {},
   "source": [
    "## Nested Keys"
   ]
  },
  {
   "cell_type": "markdown",
   "metadata": {},
   "source": [
    "It can be useful to access values from a Settings object using \"nested\" keys. These are tuples of keys, where each successive element of the tuple corresponds to a further layer in the settings. Lists are flattened so their elements can be accessed with the corresponding index."
   ]
  },
  {
   "cell_type": "code",
   "execution_count": 11,
   "metadata": {},
   "outputs": [
    {
     "data": {
      "text/plain": [
       "[('input',),\n",
       " ('input', 'AMS'),\n",
       " ('input', 'AMS', 'Task'),\n",
       " ('input', 'AMS', 'GeometryOptimization'),\n",
       " ('input', 'AMS', 'GeometryOptimization', 'Convergence'),\n",
       " ('input', 'AMS', 'GeometryOptimization', 'Convergence', 'Gradients'),\n",
       " ('input', 'AMS', 'Hybrid'),\n",
       " ('input', 'AMS', 'Hybrid', 'Energy'),\n",
       " ('input', 'AMS', 'Hybrid', 'Energy', 'Term'),\n",
       " ('input', 'AMS', 'Hybrid', 'Energy', 'Term', 0),\n",
       " ('input', 'AMS', 'Hybrid', 'Energy', 'Term', 0, 'Factor'),\n",
       " ('input', 'AMS', 'Hybrid', 'Energy', 'Term', 0, 'Region'),\n",
       " ('input', 'AMS', 'Hybrid', 'Energy', 'Term', 0, 'EngineID'),\n",
       " ('input', 'AMS', 'Hybrid', 'Energy', 'Term', 1),\n",
       " ('input', 'AMS', 'Hybrid', 'Energy', 'Term', 1, 'Factor'),\n",
       " ('input', 'AMS', 'Hybrid', 'Energy', 'Term', 1, 'Region'),\n",
       " ('input', 'AMS', 'Hybrid', 'Energy', 'Term', 1, 'EngineID'),\n",
       " ('input', 'AMS', 'Hybrid', 'Energy', 'Term', 2),\n",
       " ('input', 'AMS', 'Hybrid', 'Energy', 'Term', 2, 'Factor'),\n",
       " ('input', 'AMS', 'Hybrid', 'Energy', 'Term', 2, 'Region'),\n",
       " ('input', 'AMS', 'Hybrid', 'Energy', 'Term', 2, 'EngineID'),\n",
       " ('input', 'AMS', 'Hybrid', 'Energy', 'Term', 3),\n",
       " ('input', 'AMS', 'Hybrid', 'Energy', 'Term', 3, 'Factor'),\n",
       " ('input', 'AMS', 'Hybrid', 'Energy', 'Term', 3, 'Region'),\n",
       " ('input', 'AMS', 'Hybrid', 'Energy', 'Term', 3, 'EngineID'),\n",
       " ('input', 'AMS', 'Hybrid', 'Energy', 'Term', 4),\n",
       " ('input', 'AMS', 'Hybrid', 'Energy', 'Term', 4, 'Factor'),\n",
       " ('input', 'AMS', 'Hybrid', 'Energy', 'Term', 4, 'Region'),\n",
       " ('input', 'AMS', 'Hybrid', 'Energy', 'Term', 4, 'EngineID'),\n",
       " ('input', 'AMS', 'Hybrid', 'Engine'),\n",
       " ('input', 'AMS', 'Hybrid', 'Engine', 0),\n",
       " ('input', 'AMS', 'Hybrid', 'Engine', 0, '_h'),\n",
       " ('input', 'AMS', 'Hybrid', 'Engine', 0, 'Basis'),\n",
       " ('input', 'AMS', 'Hybrid', 'Engine', 0, 'Basis', 'Type'),\n",
       " ('input', 'AMS', 'Hybrid', 'Engine', 1),\n",
       " ('input', 'AMS', 'Hybrid', 'Engine', 1, '_h'),\n",
       " ('input', 'AMS', 'Hybrid', 'Engine', 1, 'Basis'),\n",
       " ('input', 'AMS', 'Hybrid', 'Engine', 1, 'Basis', 'Type'),\n",
       " ('input', 'AMS', 'Hybrid', 'Engine', 1, 'xc'),\n",
       " ('input', 'AMS', 'Hybrid', 'Engine', 1, 'xc', 'gga')]"
      ]
     },
     "execution_count": 11,
     "metadata": {},
     "output_type": "execute_result"
    }
   ],
   "source": [
    "list(hybrid_settings.nested_keys())"
   ]
  },
  {
   "cell_type": "code",
   "execution_count": 12,
   "metadata": {},
   "outputs": [
    {
     "data": {
      "text/plain": [
       "'GeometryOptimization'"
      ]
     },
     "execution_count": 12,
     "metadata": {},
     "output_type": "execute_result"
    }
   ],
   "source": [
    "hybrid_settings.get_nested((\"input\", \"AMS\", \"Task\"))"
   ]
  },
  {
   "cell_type": "code",
   "execution_count": 13,
   "metadata": {},
   "outputs": [
    {
     "name": "stdout",
     "output_type": "stream",
     "text": [
      "Type: \tTZP\n",
      "\n"
     ]
    }
   ],
   "source": [
    "if hybrid_settings.contains_nested((\"input\", \"AMS\", \"Hybrid\", \"Engine\", 0)):\n",
    "    hybrid_settings.set_nested((\"input\", \"AMS\", \"Hybrid\", \"Engine\", 0, \"Basis\", \"Type\"), \"TZP\")\n",
    "print(hybrid_settings.get_nested((\"input\", \"AMS\", \"Hybrid\", \"Engine\", 0, \"Basis\")))"
   ]
  },
  {
   "cell_type": "markdown",
   "metadata": {},
   "source": [
    "## Comparison"
   ]
  },
  {
   "cell_type": "markdown",
   "metadata": {},
   "source": [
    "Two settings objects can be compared to check the differences between them. The result will show the nested key and value of any added, removed and modified entries."
   ]
  },
  {
   "cell_type": "code",
   "execution_count": 14,
   "metadata": {},
   "outputs": [
    {
     "name": "stdout",
     "output_type": "stream",
     "text": [
      "{'added': {('input', 'DFTB', 'Model'): 'GFN1-xTB'}, 'removed': {('input', 'ADF', 'Basis', 'Type'): 'DZP', ('input', 'AMS', 'Properties', 'NormalModes'): 'Yes'}, 'modified': {('input', 'AMS', 'Task'): ('SinglePoint', 'GeometryOptimization')}}\n"
     ]
    }
   ],
   "source": [
    "settings1 = go_settings + lda_settings + nm_settings\n",
    "settings2 = go_settings.copy()\n",
    "settings2.input.AMS.Task = \"SinglePoint\"\n",
    "settings2.input.DFTB.Model = \"GFN1-xTB\"\n",
    "print(settings2.compare(settings1))"
   ]
  }
 ],
 "metadata": {
  "kernelspec": {
   "display_name": "Python 3 (ipykernel)",
   "language": "python",
   "name": "python3"
  },
  "language_info": {
   "codemirror_mode": {
    "name": "ipython",
    "version": 3
   },
   "file_extension": ".py",
   "mimetype": "text/x-python",
   "name": "python",
   "nbconvert_exporter": "python",
   "pygments_lexer": "ipython3",
   "version": "3.8.16"
  }
 },
 "nbformat": 4,
 "nbformat_minor": 4
}
