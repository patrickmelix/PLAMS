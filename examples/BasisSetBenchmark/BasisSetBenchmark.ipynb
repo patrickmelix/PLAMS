{
 "cells": [
  {
   "cell_type": "markdown",
   "id": "17f297b4",
   "metadata": {},
   "source": [
    "## Initial Imports"
   ]
  },
  {
   "cell_type": "code",
   "execution_count": 1,
   "id": "57c123de",
   "metadata": {},
   "outputs": [
    {
     "name": "stdout",
     "output_type": "stream",
     "text": [
      "PLAMS working folder: /path/plams/examples/BasisSetBenchmark/plams_workdir\n"
     ]
    }
   ],
   "source": [
    "import multiprocessing\n",
    "from scm.plams import JobRunner, config, from_smiles, Settings, AMSJob, init\n",
    "\n",
    "# this line is not required in AMS2025+\n",
    "init()"
   ]
  },
  {
   "cell_type": "markdown",
   "id": "99e4d81e",
   "metadata": {},
   "source": [
    "## Set Up Job Runner\n",
    "Set up job runner, running as many jobs as possible in parallel."
   ]
  },
  {
   "cell_type": "code",
   "execution_count": 2,
   "id": "d9855c38",
   "metadata": {},
   "outputs": [],
   "source": [
    "config.default_jobrunner = JobRunner(parallel=True, maxjobs=multiprocessing.cpu_count())\n",
    "config.job.runscript.nproc = 1"
   ]
  },
  {
   "cell_type": "markdown",
   "id": "7606c8bd",
   "metadata": {},
   "source": [
    "## Set Up Molecules\n",
    "Create the molecules we want to use in our benchmark from SMILES."
   ]
  },
  {
   "cell_type": "code",
   "execution_count": 3,
   "id": "4c9dd47a",
   "metadata": {
    "scrolled": true
   },
   "outputs": [
    {
     "name": "stdout",
     "output_type": "stream",
     "text": [
      "Methane   Atoms: \n",
      "    1         C       0.000000       0.000000       0.000000\n",
      "    2         H       0.538912       0.762358      -0.599295\n",
      "    3         H       0.731244      -0.596616       0.583182\n",
      "    4         H      -0.567129      -0.670302      -0.678108\n",
      "    5         H      -0.703028       0.504560       0.694220\n",
      "  Bonds: \n",
      "   (1)--1.0--(2)\n",
      "   (1)--1.0--(3)\n",
      "   (1)--1.0--(4)\n",
      "   (1)--1.0--(5)\n",
      "\n",
      "Ethane   Atoms: \n",
      "    1         C      -0.757196      -0.040522       0.044605\n",
      "    2         C       0.757196       0.040522      -0.044605\n",
      "    3         H      -1.205222       0.185290      -0.945970\n",
      "    4         H      -1.130281       0.694397       0.788688\n",
      "    5         H      -1.061719      -1.061491       0.357407\n",
      "    6         H       1.205222      -0.185290       0.945971\n",
      "    7         H       1.130281      -0.694396      -0.788689\n",
      "    8         H       1.061719       1.061491      -0.357406\n",
      "  Bonds: \n",
      "   (1)--1.0--(2)\n",
      "   (1)--1.0--(3)\n",
      "   (1)--1.0--(4)\n",
      "   (1)--1.0--(5)\n",
      "   (2)--1.0--(6)\n",
      "   (2)--1.0--(7)\n",
      "   (2)--1.0--(8)\n",
      "\n",
      "Ethylene   Atoms: \n",
      "    1         C       0.664485       0.027988      -0.023685\n",
      "    2         C      -0.664485      -0.027988       0.023685\n",
      "    3         H       1.253433      -0.878614       0.070299\n",
      "    4         H       1.167038       0.980564      -0.156575\n",
      "    5         H      -1.253433       0.878614      -0.070299\n",
      "    6         H      -1.167038      -0.980564       0.156575\n",
      "  Bonds: \n",
      "   (1)--2.0--(2)\n",
      "   (1)--1.0--(3)\n",
      "   (1)--1.0--(4)\n",
      "   (2)--1.0--(5)\n",
      "   (2)--1.0--(6)\n",
      "\n",
      "Acetylene   Atoms: \n",
      "    1         C      -0.587409       0.175060      -0.002211\n",
      "    2         C       0.587409      -0.094463       0.002211\n",
      "    3         H      -1.618985       0.411721      -0.006095\n",
      "    4         H       1.618985      -0.331124       0.006094\n",
      "  Bonds: \n",
      "   (1)--3.0--(2)\n",
      "   (1)--1.0--(3)\n",
      "   (2)--1.0--(4)\n",
      "\n"
     ]
    }
   ],
   "source": [
    "# The molecules we want to use in our benchmark:\n",
    "mol_smiles = {\"Methane\": \"C\", \"Ethane\": \"C-C\", \"Ethylene\": \"C=C\", \"Acetylene\": \"C#C\"}\n",
    "molecules = {}\n",
    "for name, smiles in mol_smiles.items():\n",
    "    # Compute 10 conformers, optimize with UFF and pick the lowest in energy.\n",
    "    molecules[name] = from_smiles(smiles, nconfs=10, forcefield=\"uff\")[0]\n",
    "    print(name, molecules[name])"
   ]
  },
  {
   "cell_type": "markdown",
   "id": "2164f3d9",
   "metadata": {},
   "source": [
    "## Initialize Calculation Settings\n",
    "Set up the settings which are common across jobs. The basis type is added later for each job."
   ]
  },
  {
   "cell_type": "code",
   "execution_count": 4,
   "id": "8596ead9",
   "metadata": {},
   "outputs": [],
   "source": [
    "common_settings = Settings()\n",
    "common_settings.input.ams.Task = \"SinglePoint\"\n",
    "common_settings.input.ams.System.Symmetrize = \"Yes\"\n",
    "common_settings.input.adf.Basis.Core = \"None\""
   ]
  },
  {
   "cell_type": "code",
   "execution_count": 5,
   "id": "ea59fcef",
   "metadata": {},
   "outputs": [],
   "source": [
    "basis = [\"QZ4P\", \"TZ2P\", \"TZP\", \"DZP\", \"DZ\", \"SZ\"]\n",
    "reference_basis = \"QZ4P\""
   ]
  },
  {
   "cell_type": "markdown",
   "id": "83f31b12",
   "metadata": {},
   "source": [
    "## Run Calculations"
   ]
  },
  {
   "cell_type": "code",
   "execution_count": 6,
   "id": "46585822",
   "metadata": {},
   "outputs": [
    {
     "name": "stdout",
     "output_type": "stream",
     "text": [
      "[10.02|15:01:11] JOB Methane_QZ4P STARTED\n",
      "[10.02|15:01:11] JOB Ethane_QZ4P STARTED\n",
      "[10.02|15:01:11] JOB Ethylene_QZ4P STARTED\n",
      "[10.02|15:01:11] JOB Methane_QZ4P RUNNING\n",
      "[10.02|15:01:11] JOB Acetylene_QZ4P STARTED\n",
      "[10.02|15:01:11] JOB Methane_TZ2P STARTED\n",
      "[10.02|15:01:11] JOB Ethane_TZ2P STARTED\n",
      "[10.02|15:01:11] JOB Ethylene_TZ2P STARTED\n",
      "[10.02|15:01:11] JOB Acetylene_TZ2P STARTED\n",
      "[10.02|15:01:11] JOB Methane_TZP STARTED\n",
      "[10.02|15:01:11] JOB Ethane_QZ4P RUNNING\n",
      "[10.02|15:01:11] JOB Ethylene_QZ4P RUNNING\n",
      "[10.02|15:01:11] JOB Ethane_TZP STARTED\n",
      "[10.02|15:01:11] JOB Ethylene_TZP STARTED\n",
      "[10.02|15:01:11] JOB Acetylene_QZ4P RUNNING\n",
      "[10.02|15:01:11] JOB Acetylene_TZP STARTED\n",
      "[10.02|15:01:11] JOB Ethane_TZ2P RUNNING\n",
      "[10.02|15:01:11] JOB Methane_DZP STARTED\n",
      "[10.02|15:01:11] JOB Methane_TZ2P RUNNING\n",
      "[10.02|15:01:11] JOB Ethane_DZP STARTED\n",
      "[10.02|15:01:11] JOB Ethylene_DZP STARTED\n",
      "[10.02|15:01:11] JOB Acetylene_DZP STARTED\n",
      "[10.02|15:01:11] JOB Acetylene_TZ2P RUNNING\n",
      "[10.02|15:01:11] JOB Methane_DZ STARTED\n",
      "[10.02|15:01:11] JOB Ethane_DZ STARTED\n",
      "[10.02|15:01:11] JOB Ethylene_DZ STARTED\n",
      "[10.02|15:01:11] JOB Ethylene_TZ2P RUNNING\n",
      "[10.02|15:01:11] JOB Ethane_TZP RUNNING\n",
      "[10.02|15:01:11] JOB Acetylene_DZ STARTED\n",
      "[10.02|15:01:11] JOB Methane_SZ STARTED\n",
      "[10.02|15:01:11] JOB Ethane_SZ STARTED\n",
      "[10.02|15:01:11] JOB Ethylene_SZ STARTED\n",
      "[10.02|15:01:11] JOB Methane_TZP RUNNING\n",
      "[10.02|15:01:11] JOB Acetylene_SZ STARTED\n",
      "[10.02|15:01:11] JOB Methane_DZP RUNNING\n",
      "[10.02|15:01:11] JOB Ethylene_TZP RUNNING\n"
     ]
    }
   ],
   "source": [
    "results = {}\n",
    "for bas in basis:\n",
    "    for name, molecule in molecules.items():\n",
    "        settings = common_settings.copy()\n",
    "        settings.input.adf.Basis.Type = bas\n",
    "        job = AMSJob(name=name + \"_\" + bas, molecule=molecule, settings=settings)\n",
    "        results[(name, bas)] = job.run()"
   ]
  },
  {
   "cell_type": "markdown",
   "id": "5bbe7c66",
   "metadata": {},
   "source": [
    "## Results\n",
    "Extract the energy from each calculation. Calculate the average absolute error in bond energy per atom for each basis set."
   ]
  },
  {
   "cell_type": "code",
   "execution_count": 7,
   "id": "4ca73c20",
   "metadata": {},
   "outputs": [
    {
     "name": "stdout",
     "output_type": "stream",
     "text": [
      "[10.02|15:01:11] JOB Acetylene_TZP RUNNING\n",
      "[10.02|15:01:11] Waiting for job Methane_QZ4P to finish\n",
      "[10.02|15:01:11] JOB Methane_DZ RUNNING\n",
      "[10.02|15:01:11] JOB Ethane_DZP RUNNING\n",
      "[10.02|15:01:11] JOB Ethylene_DZP RUNNING\n",
      "[10.02|15:01:11] JOB Acetylene_DZP RUNNING\n",
      "[10.02|15:01:11] JOB Methane_SZ RUNNING\n",
      "[10.02|15:01:11] JOB Ethane_DZ RUNNING\n",
      "[10.02|15:01:11] JOB Ethane_SZ RUNNING\n",
      "[10.02|15:01:11] JOB Ethylene_DZ RUNNING\n",
      "[10.02|15:01:11] JOB Acetylene_DZ RUNNING\n",
      "[10.02|15:01:11] JOB Acetylene_SZ RUNNING\n",
      "[10.02|15:01:11] JOB Ethylene_SZ RUNNING\n",
      "[10.02|15:01:15] JOB Methane_QZ4P FINISHED\n",
      "[10.02|15:01:15] JOB Methane_TZ2P FINISHED\n",
      "[10.02|15:01:15] JOB Methane_TZ2P SUCCESSFUL\n",
      "[10.02|15:01:15] JOB Methane_QZ4P SUCCESSFUL\n",
      "Energy for Methane using TZ2P basis set: -572.110159165262 [kcal/mol]\n",
      "[10.02|15:01:15] Waiting for job Ethane_QZ4P to finish\n",
      "[10.02|15:01:15] JOB Methane_DZP FINISHED\n",
      "[10.02|15:01:15] JOB Methane_TZP FINISHED\n",
      "[10.02|15:01:15] JOB Methane_DZP SUCCESSFUL\n",
      "[10.02|15:01:15] JOB Methane_TZP SUCCESSFUL\n",
      "[10.02|15:01:16] JOB Acetylene_TZ2P FINISHED\n",
      "[10.02|15:01:16] JOB Acetylene_TZ2P SUCCESSFUL\n",
      "[10.02|15:01:16] JOB Acetylene_QZ4P FINISHED\n",
      "[10.02|15:01:16] JOB Acetylene_QZ4P SUCCESSFUL\n",
      "[10.02|15:01:16] JOB Ethylene_TZP FINISHED\n",
      "[10.02|15:01:16] JOB Ethylene_TZP SUCCESSFUL\n",
      "[10.02|15:01:16] JOB Ethylene_TZ2P FINISHED\n",
      "[10.02|15:01:16] JOB Ethylene_TZ2P SUCCESSFUL\n",
      "[10.02|15:01:16] JOB Ethylene_QZ4P FINISHED\n",
      "[10.02|15:01:16] JOB Ethylene_QZ4P SUCCESSFUL\n",
      "[10.02|15:01:16] JOB Ethane_TZP FINISHED\n",
      "[10.02|15:01:17] JOB Ethane_TZP SUCCESSFUL\n",
      "[10.02|15:01:17] JOB Ethane_TZ2P FINISHED\n",
      "[10.02|15:01:17] JOB Ethane_TZ2P SUCCESSFUL\n",
      "[10.02|15:01:18] JOB Ethane_QZ4P FINISHED\n",
      "[10.02|15:01:18] JOB Ethane_QZ4P SUCCESSFUL\n",
      "Energy for Ethane using TZ2P basis set: -971.8820186844459 [kcal/mol]\n",
      "Energy for Ethylene using TZ2P basis set: -769.4329031250381 [kcal/mol]\n",
      "Energy for Acetylene using TZ2P basis set: -555.6672902509043 [kcal/mol]\n",
      "Energy for Methane using TZP basis set: -571.0448969099549 [kcal/mol]\n",
      "Energy for Ethane using TZP basis set: -970.0758887573307 [kcal/mol]\n",
      "Energy for Ethylene using TZP basis set: -767.3275176578105 [kcal/mol]\n",
      "[10.02|15:01:18] Waiting for job Acetylene_TZP to finish\n",
      "[10.02|15:01:19] JOB Ethylene_SZ FINISHED\n",
      "[10.02|15:01:19] JOB Ethylene_SZ SUCCESSFUL\n",
      "[10.02|15:01:19] JOB Acetylene_TZP FINISHED\n",
      "[10.02|15:01:19] JOB Acetylene_TZP SUCCESSFUL\n",
      "Energy for Acetylene using TZP basis set: -552.9562856742521 [kcal/mol]\n",
      "Energy for Methane using DZP basis set: -569.1190156251034 [kcal/mol]\n",
      "[10.02|15:01:19] Waiting for job Ethane_DZP to finish\n",
      "[10.02|15:01:19] JOB Ethylene_DZP FINISHED\n",
      "[10.02|15:01:19] JOB Ethylene_DZP SUCCESSFUL\n",
      "[10.02|15:01:19] JOB Acetylene_DZP FINISHED\n",
      "[10.02|15:01:19] JOB Acetylene_DZP SUCCESSFUL\n",
      "[10.02|15:01:19] JOB Methane_SZ FINISHED\n",
      "[10.02|15:01:19] JOB Methane_SZ SUCCESSFUL\n",
      "[10.02|15:01:19] JOB Methane_DZ FINISHED\n",
      "[10.02|15:01:19] JOB Methane_DZ SUCCESSFUL\n",
      "[10.02|15:01:19] JOB Ethylene_DZ FINISHED\n",
      "[10.02|15:01:19] JOB Ethylene_DZ SUCCESSFUL\n",
      "[10.02|15:01:19] JOB Ethane_SZ FINISHED\n",
      "[10.02|15:01:19] JOB Ethane_SZ SUCCESSFUL\n",
      "[10.02|15:01:19] JOB Ethane_DZP FINISHED\n",
      "[10.02|15:01:19] JOB Ethane_DZP SUCCESSFUL\n",
      "Energy for Ethane using DZP basis set: -966.0916443143674 [kcal/mol]\n",
      "Energy for Ethylene using DZP basis set: -764.4132984010868 [kcal/mol]\n",
      "Energy for Acetylene using DZP basis set: -550.6461805496328 [kcal/mol]\n",
      "Energy for Methane using DZ basis set: -560.9344313073021 [kcal/mol]\n",
      "[10.02|15:01:19] Waiting for job Ethane_DZ to finish\n",
      "[10.02|15:01:20] JOB Acetylene_DZ FINISHED\n",
      "[10.02|15:01:20] JOB Acetylene_DZ SUCCESSFUL\n",
      "[10.02|15:01:20] JOB Acetylene_SZ FINISHED\n",
      "[10.02|15:01:20] JOB Acetylene_SZ SUCCESSFUL\n",
      "[10.02|15:01:20] JOB Ethane_DZ FINISHED\n",
      "[10.02|15:01:20] JOB Ethane_DZ SUCCESSFUL\n",
      "Energy for Ethane using DZ basis set: -951.1666971758781 [kcal/mol]\n",
      "Energy for Ethylene using DZ basis set: -750.1745108422972 [kcal/mol]\n",
      "Energy for Acetylene using DZ basis set: -537.1008020388887 [kcal/mol]\n",
      "Energy for Methane using SZ basis set: -723.550123154895 [kcal/mol]\n",
      "Energy for Ethane using SZ basis set: -1216.914233427825 [kcal/mol]\n",
      "Energy for Ethylene using SZ basis set: -934.6558200110123 [kcal/mol]\n",
      "Energy for Acetylene using SZ basis set: -647.5029836817757 [kcal/mol]\n"
     ]
    }
   ],
   "source": [
    "average_errors = {}\n",
    "for bas in basis:\n",
    "    if bas != reference_basis:\n",
    "        errors = []\n",
    "        for name, molecule in molecules.items():\n",
    "            reference_energy = results[(name, reference_basis)].get_energy(unit=\"kcal/mol\")\n",
    "            energy = results[(name, bas)].get_energy(unit=\"kcal/mol\")\n",
    "            errors.append(abs(energy - reference_energy) / len(molecule))\n",
    "            print(\"Energy for {} using {} basis set: {} [kcal/mol]\".format(name, bas, energy))\n",
    "        average_errors[bas] = sum(errors) / len(errors)"
   ]
  },
  {
   "cell_type": "code",
   "execution_count": 8,
   "id": "f9925ee7",
   "metadata": {},
   "outputs": [
    {
     "name": "stdout",
     "output_type": "stream",
     "text": [
      "== Results ==\n",
      "Average absolute error in bond energy per atom\n",
      "Error for basis set TZ2P:      0.170 [kcal/mol]\n",
      "Error for basis set TZP :      0.537 [kcal/mol]\n",
      "Error for basis set DZP :      1.024 [kcal/mol]\n",
      "Error for basis set DZ  :      3.339 [kcal/mol]\n",
      "Error for basis set SZ  :     27.683 [kcal/mol]\n"
     ]
    }
   ],
   "source": [
    "print(\"== Results ==\")\n",
    "print(\"Average absolute error in bond energy per atom\")\n",
    "for bas in basis:\n",
    "    if bas != reference_basis:\n",
    "        print(\"Error for basis set {:<4}: {:>10.3f} [kcal/mol]\".format(bas, average_errors[bas]))"
   ]
  }
 ],
 "metadata": {
  "jupytext": {
   "cell_metadata_filter": "-all",
   "executable": "/usr/bin/env plams",
   "main_language": "python",
   "notebook_metadata_filter": "-all"
  },
  "kernelspec": {
   "display_name": "Python 3 (ipykernel)",
   "language": "python",
   "name": "python3"
  },
  "language_info": {
   "codemirror_mode": {
    "name": "ipython",
    "version": 3
   },
   "file_extension": ".py",
   "mimetype": "text/x-python",
   "name": "python",
   "nbconvert_exporter": "python",
   "pygments_lexer": "ipython3",
   "version": "3.8.16"
  }
 },
 "nbformat": 4,
 "nbformat_minor": 5
}
