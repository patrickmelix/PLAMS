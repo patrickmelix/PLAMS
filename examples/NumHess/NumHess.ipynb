{
 "cells": [
  {
   "cell_type": "markdown",
   "id": "36e962d6-3cf0-4a84-a51e-104853b99057",
   "metadata": {},
   "source": [
    "## Initialization"
   ]
  },
  {
   "cell_type": "code",
   "execution_count": 1,
   "id": "3a92aa80-ebef-4ded-b846-f05318eefa91",
   "metadata": {},
   "outputs": [
    {
     "name": "stdout",
     "output_type": "stream",
     "text": [
      "PLAMS working folder: /path/plams/NumHess/plams_workdir.002\n"
     ]
    }
   ],
   "source": [
    "from scm.plams import *\n",
    "\n",
    "# this line is not required in AMS2025+\n",
    "init()\n"
   ]
  },
  {
   "cell_type": "markdown",
   "id": "920626b1-8993-4c6f-a3d9-b2f81e963fdf",
   "metadata": {},
   "source": [
    "## Define molecule\n",
    "Normally you would read the molecule from an xyz file"
   ]
  },
  {
   "cell_type": "code",
   "execution_count": 5,
   "id": "18e3f1c3-ca62-4c75-a591-2daffd038a4a",
   "metadata": {},
   "outputs": [],
   "source": [
    "#mol = Molecule('methanol.xyz')\n",
    "\n",
    "\n",
    "mol = AMSJob.from_input(\n",
    "    \"\"\"\n",
    "System\n",
    "  Atoms\n",
    "    C       0.000000000000       0.138569980000       0.355570700000\n",
    "    O       0.000000000000       0.187935770000      -1.074466460000\n",
    "    H       0.882876920000      -0.383123830000       0.697839450000\n",
    "    H      -0.882876940000      -0.383123830000       0.697839450000\n",
    "    H       0.000000000000       1.145042790000       0.750208830000\n",
    "  End\n",
    "End\n",
    "\"\"\"\n",
    ").molecule[\"\"]"
   ]
  },
  {
   "cell_type": "markdown",
   "id": "bacfb34a-904d-421d-93d0-008d61584aef",
   "metadata": {},
   "source": [
    "## Setup and run job\n",
    "Here we use the fast DFTB engine, for ADF it is recommended to disable symmetry"
   ]
  },
  {
   "cell_type": "code",
   "execution_count": 8,
   "id": "6d94fab3-0871-498c-a3b1-33825c52ffd1",
   "metadata": {},
   "outputs": [
    {
     "name": "stdout",
     "output_type": "stream",
     "text": [
      "[05.03|19:46:22] JOB test STARTED\n",
      "[05.03|19:46:22] Renaming job test to test.003\n",
      "[05.03|19:46:22] JOB test.003 RUNNING\n",
      "[05.03|19:46:22] JOB test.003/1_0_-1 STARTED\n",
      "[05.03|19:46:22] JOB test.003/1_0_1 STARTED\n",
      "[05.03|19:46:22] JOB test.003/1_1_-1 STARTED\n",
      "[05.03|19:46:22] JOB test.003/1_1_1 STARTED\n",
      "[05.03|19:46:22] Job 1_0_-1 previously run as 1_0_-1, using old results\n",
      "[05.03|19:46:22] JOB test.003/1_2_-1 STARTED\n",
      "[05.03|19:46:22] Job 1_0_1 previously run as 1_0_1, using old results\n",
      "[05.03|19:46:22] JOB test.003/1_2_1 STARTED\n",
      "[05.03|19:46:22] JOB test.003/2_0_-1 STARTED\n",
      "[05.03|19:46:22] JOB test.003/2_0_1 STARTED\n",
      "[05.03|19:46:22] JOB test.003/2_1_-1 STARTED\n",
      "[05.03|19:46:22] JOB test.003/2_1_1 STARTED\n",
      "[05.03|19:46:22] JOB test.003/1_0_-1 COPIED\n",
      "[05.03|19:46:22] JOB test.003/2_2_-1 STARTED\n",
      "[05.03|19:46:22] JOB test.003/2_2_1 STARTED\n",
      "[05.03|19:46:22] JOB test.003/1_0_1 COPIED\n",
      "[05.03|19:46:22] JOB test.003/3_0_-1 STARTED\n",
      "[05.03|19:46:22] JOB test.003/3_0_1 STARTED\n",
      "[05.03|19:46:22] JOB test.003/3_1_-1 STARTED\n",
      "[05.03|19:46:22] Job 1_1_1 previously run as 1_1_1, using old results\n",
      "[05.03|19:46:22] JOB test.003/3_1_1 STARTED\n",
      "[05.03|19:46:22] Job 1_1_-1 previously run as 1_1_-1, using old results\n",
      "[05.03|19:46:22] JOB test.003/3_2_-1 STARTED\n",
      "[05.03|19:46:22] JOB test.003/3_2_1 STARTED\n",
      "[05.03|19:46:22] JOB test.003/4_0_-1 STARTED\n",
      "[05.03|19:46:22] Job 1_2_-1 previously run as 1_2_-1, using old results\n",
      "[05.03|19:46:22] JOB test.003/4_0_1 STARTED\n",
      "[05.03|19:46:22] JOB test.003/4_1_-1 STARTED\n",
      "[05.03|19:46:22] JOB test.003/1_1_-1 COPIED\n",
      "[05.03|19:46:22] JOB test.003/4_1_1 STARTED\n",
      "[05.03|19:46:22] JOB test.003/1_1_1 COPIED\n",
      "[05.03|19:46:22] JOB test.003/4_2_-1 STARTED\n",
      "[05.03|19:46:22] JOB test.003/4_2_1 STARTED\n",
      "[05.03|19:46:22] JOB test.003/1_2_-1 COPIED\n",
      "[05.03|19:46:22] JOB test.003/5_0_-1 STARTED\n",
      "[05.03|19:46:22] Job 1_2_1 previously run as 1_2_1, using old results\n",
      "[05.03|19:46:22] JOB test.003/5_0_1 STARTED\n",
      "[05.03|19:46:22] JOB test.003/5_1_-1 STARTED\n",
      "[05.03|19:46:22] JOB test.003/5_1_1 STARTED\n",
      "[05.03|19:46:22] JOB test.003/5_2_-1 STARTED\n",
      "[05.03|19:46:22] Job 2_0_-1 previously run as 2_0_-1, using old results\n",
      "[05.03|19:46:22] JOB test.003/5_2_1 STARTED\n",
      "[05.03|19:46:22] JOB test.003/1_2_1 COPIED\n",
      "[05.03|19:46:22] Job 2_0_1 previously run as 2_0_1, using old results\n",
      "[05.03|19:46:22] JOB test.003/2_0_-1 COPIED\n",
      "[05.03|19:46:22] Job 2_1_-1 previously run as 2_1_-1, using old results\n",
      "[05.03|19:46:22] Job 2_2_-1 previously run as 2_2_-1, using old results\n",
      "[05.03|19:46:22] JOB test.003/2_0_1 COPIED\n",
      "[05.03|19:46:22] Job 2_1_1 previously run as 2_1_1, using old results\n",
      "[05.03|19:46:22] JOB test.003/2_2_-1 COPIED\n",
      "[05.03|19:46:22] Job 2_2_1 previously run as 2_2_1, using old results\n",
      "[05.03|19:46:22] Job 3_0_-1 previously run as 3_0_-1, using old results\n",
      "[05.03|19:46:22] JOB test.003/2_1_-1 COPIED\n",
      "[05.03|19:46:22] Job 3_0_1 previously run as 3_0_1, using old results\n",
      "[05.03|19:46:22] JOB test.003/3_0_-1 COPIED\n",
      "[05.03|19:46:22] JOB test.003/2_2_1 COPIED\n",
      "[05.03|19:46:22] Job 3_1_-1 previously run as 3_1_-1, using old results\n",
      "[05.03|19:46:22] JOB test.003/2_1_1 COPIED\n",
      "[05.03|19:46:22] Job 3_1_1 previously run as 3_1_1, using old results\n",
      "[05.03|19:46:22] Job 3_2_-1 previously run as 3_2_-1, using old results\n",
      "[05.03|19:46:22] Job 4_0_-1 previously run as 4_0_-1, using old results\n",
      "[05.03|19:46:22] Job 3_2_1 previously run as 3_2_1, using old results\n",
      "[05.03|19:46:22] Job 4_1_-1 previously run as 4_1_-1, using old results\n",
      "[05.03|19:46:22] JOB test.003/3_0_1 COPIED\n",
      "[05.03|19:46:22] Job 4_0_1 previously run as 4_0_1, using old results\n",
      "[05.03|19:46:22] Job 4_2_-1 previously run as 4_2_-1, using old results\n",
      "[05.03|19:46:22] Job 4_1_1 previously run as 4_1_1, using old results\n",
      "[05.03|19:46:22] Job 4_2_1 previously run as 4_2_1, using old results\n",
      "[05.03|19:46:22] Job 5_0_-1 previously run as 5_0_-1, using old results\n",
      "[05.03|19:46:22] JOB test.003/3_1_-1 COPIED\n",
      "[05.03|19:46:22] Job 5_0_1 previously run as 5_0_1, using old results\n",
      "[05.03|19:46:22] JOB test.003/3_2_1 COPIED\n",
      "[05.03|19:46:22] JOB test.003/3_1_1 COPIED\n",
      "[05.03|19:46:22] Job 5_1_-1 previously run as 5_1_-1, using old results\n",
      "[05.03|19:46:22] Job 5_1_1 previously run as 5_1_1, using old results\n",
      "[05.03|19:46:22] JOB test.003/3_2_-1 COPIED\n",
      "[05.03|19:46:22] JOB test.003/4_1_-1 COPIED\n",
      "[05.03|19:46:22] JOB test.003/4_0_-1 COPIED\n",
      "[05.03|19:46:22] Job 5_2_-1 previously run as 5_2_-1, using old results\n",
      "[05.03|19:46:22] Job 5_2_1 previously run as 5_2_1, using old results\n",
      "[05.03|19:46:22] JOB test.003/4_0_1 COPIED\n",
      "[05.03|19:46:22] JOB test.003/5_0_-1 COPIED\n",
      "[05.03|19:46:22] JOB test.003/4_2_1 COPIED\n",
      "[05.03|19:46:22] JOB test.003/5_0_1 COPIED\n",
      "[05.03|19:46:22] JOB test.003/5_1_-1 COPIED\n",
      "[05.03|19:46:22] JOB test.003/4_2_-1 COPIED\n",
      "[05.03|19:46:22] JOB test.003/4_1_1 COPIED\n",
      "[05.03|19:46:22] JOB test.003/5_2_1 COPIED\n",
      "[05.03|19:46:22] JOB test.003/5_1_1 COPIED\n",
      "[05.03|19:46:22] JOB test.003/5_2_-1 COPIED\n",
      "[05.03|19:46:27] JOB test.003 FINISHED\n",
      "[05.03|19:46:27] JOB test.003 SUCCESSFUL\n"
     ]
    }
   ],
   "source": [
    "s = Settings()\n",
    "s.input.ams.task = 'SinglePoint'\n",
    "s.input.ams.Properties.Gradients = 'Yes'\n",
    "# s.input.adf.basis.type = 'DZP'\n",
    "# s.input.adf.symmetry = 'NOSYM'\n",
    "# s.input.adf.xc.gga = 'PW91'\n",
    "s.input.DFTB.Model = 'GFN1-xTB'\n",
    "s.runscript.nproc = 1\n",
    "\n",
    "j = NumHessJob(name='test', molecule=mol, settings=s, jobtype=AMSJob,\n",
    "               gradient = lambda x: x.get_gradients().reshape(-1))\n",
    "r = j.run(jobrunner=JobRunner(parallel=True, maxjobs=8))\n"
   ]
  },
  {
   "cell_type": "markdown",
   "id": "24bdeacf-d3a4-4290-a882-55ba3b4bac68",
   "metadata": {},
   "source": [
    "## Print results"
   ]
  },
  {
   "cell_type": "code",
   "execution_count": 9,
   "id": "32fda42e-d198-4e27-b465-ff874450148c",
   "metadata": {},
   "outputs": [
    {
     "name": "stdout",
     "output_type": "stream",
     "text": [
      "[[ 2.43775998e-03 -1.24639788e-10  8.18469493e-11 -2.16941229e-05\n",
      "   4.93482678e-12 -7.23564494e-12 -1.60687481e-02  1.15383294e-02\n",
      "  -7.21385604e-03 -1.60687464e-02 -1.15383280e-02  7.21385523e-03\n",
      "   3.47625118e-03  4.94064021e-11 -4.51157758e-11]\n",
      " [-1.24639788e-10  2.43617120e-03  1.02498504e-05  4.71685852e-12\n",
      "  -2.19212829e-05  2.94502575e-05  1.14532498e-02 -3.28822545e-03\n",
      "   4.41476047e-03 -1.14532483e-02 -3.28822477e-03  4.41475996e-03\n",
      "  -8.08146241e-11 -2.20627126e-02 -9.41894822e-03]\n",
      " [ 8.18469493e-11  1.02498504e-05  2.14233489e-03  7.20976151e-13\n",
      "   2.90464884e-05 -8.63468221e-04 -4.79807048e-03  3.01867574e-03\n",
      "  -3.68101844e-03  4.79806952e-03  3.01867515e-03 -3.68101831e-03\n",
      "  -4.67671617e-11 -6.61690630e-03 -4.46017443e-03]\n",
      " [-2.16941229e-05  4.71685852e-12  7.20976151e-13  1.49619166e-04\n",
      "  -2.14462932e-12  8.63862652e-13 -3.85034452e-04 -5.25094481e-04\n",
      "  -1.04652467e-03 -3.85034497e-04  5.25094463e-04  1.04652462e-03\n",
      "  -1.35573946e-03 -4.80036012e-12  2.12546863e-11]\n",
      " [ 4.93482678e-12 -2.19212829e-05  2.90464884e-05 -2.14462932e-12\n",
      "   1.50336368e-04 -3.08725828e-05 -5.36109419e-04 -1.06913048e-03\n",
      "   6.27011757e-04  5.36109379e-04 -1.06913050e-03  6.27011688e-04\n",
      "   1.39759271e-11  3.87441861e-06 -1.11023649e-03]\n",
      " [-7.23564494e-12  2.94502575e-05 -8.63468221e-04  8.63862652e-13\n",
      "  -3.08725828e-05  1.04165349e-03 -7.28706914e-04  4.42296863e-04\n",
      "  -2.04725214e-03  7.28706967e-04  4.42296858e-04 -2.04725210e-03\n",
      "   1.96993795e-11 -7.46717127e-04 -2.14861643e-03]\n",
      " [-1.60687481e-02  1.14532498e-02 -4.79807048e-03 -3.85034452e-04\n",
      "  -5.36109419e-04 -7.28706914e-04  2.30394724e-01 -1.34285111e-01\n",
      "   7.67026070e-02 -2.16065901e-02  5.58885425e-03 -1.11180651e-02\n",
      "  -1.12833086e-02  6.64825115e-04  3.15373400e-03]\n",
      " [ 1.15383294e-02 -3.28822545e-03  3.01867574e-03 -5.25094481e-04\n",
      "  -1.06913048e-03  4.42296863e-04 -1.34285111e-01  8.15853116e-02\n",
      "  -4.64977897e-02 -5.58885465e-03 -7.11299026e-03 -1.05553101e-02\n",
      "   1.06516082e-02 -1.84750280e-02  1.40635542e-02]\n",
      " [-7.21385604e-03  4.41476047e-03 -3.68101844e-03 -1.04652467e-03\n",
      "   6.27011757e-04 -2.04725214e-03  7.67026070e-02 -4.64977897e-02\n",
      "   6.64040737e-02  1.11180651e-02 -1.05553100e-02  4.44753123e-03\n",
      "   1.47911832e-02 -5.53928385e-03  5.49673781e-03]\n",
      " [-1.60687464e-02 -1.14532483e-02  4.79806952e-03 -3.85034497e-04\n",
      "   5.36109379e-04  7.28706967e-04 -2.16065901e-02 -5.58885465e-03\n",
      "   1.11180651e-02  2.30394705e-01  1.34285095e-01 -7.67025966e-02\n",
      "  -1.12833095e-02 -6.64825208e-04 -3.15373371e-03]\n",
      " [-1.15383280e-02 -3.28822477e-03  3.01867515e-03  5.25094463e-04\n",
      "  -1.06913050e-03  4.42296858e-04  5.58885425e-03 -7.11299026e-03\n",
      "  -1.05553100e-02  1.34285095e-01  8.15853035e-02 -4.64977825e-02\n",
      "  -1.06516072e-02 -1.84750276e-02  1.40635540e-02]\n",
      " [ 7.21385523e-03  4.41475996e-03 -3.68101831e-03  1.04652462e-03\n",
      "   6.27011688e-04 -2.04725210e-03 -1.11180651e-02 -1.05553101e-02\n",
      "   4.44753123e-03 -7.67025966e-02 -4.64977825e-02  6.64040713e-02\n",
      "  -1.47911830e-02 -5.53928367e-03  5.49673789e-03]\n",
      " [ 3.47625118e-03 -8.08146241e-11 -4.67671617e-11 -1.35573946e-03\n",
      "   1.39759271e-11  1.96993795e-11 -1.12833086e-02  1.06516082e-02\n",
      "   1.47911832e-02 -1.12833095e-02 -1.06516072e-02 -1.47911830e-02\n",
      "   2.46727295e-03 -2.61918768e-10  1.79709160e-11]\n",
      " [ 4.94064021e-11 -2.20627126e-02 -6.61690630e-03 -4.80036012e-12\n",
      "   3.87441861e-06 -7.46717127e-04  6.64825115e-04 -1.84750280e-02\n",
      "  -5.53928385e-03 -6.64825208e-04 -1.84750276e-02 -5.53928367e-03\n",
      "  -2.61918768e-10  2.99742686e-01  1.01775207e-01]\n",
      " [-4.51157758e-11 -9.41894822e-03 -4.46017443e-03  2.12546863e-11\n",
      "  -1.11023649e-03 -2.14861643e-03  3.15373400e-03  1.40635542e-02\n",
      "   5.49673781e-03 -3.15373371e-03  1.40635540e-02  5.49673789e-03\n",
      "   1.79709160e-11  1.01775207e-01  7.62490460e-02]]\n"
     ]
    }
   ],
   "source": [
    "print(r.get_hessian(mass_weighted=True))\n"
   ]
  },
  {
   "cell_type": "code",
   "execution_count": null,
   "id": "f9b2a0ce-619d-4ec1-aff8-fa0a3c12a7eb",
   "metadata": {},
   "outputs": [],
   "source": []
  }
 ],
 "metadata": {
  "kernelspec": {
   "display_name": "Python 3",
   "language": "python",
   "name": "python3"
  },
  "language_info": {
   "codemirror_mode": {
    "name": "ipython",
    "version": 3
   },
   "file_extension": ".py",
   "mimetype": "text/x-python",
   "name": "python",
   "nbconvert_exporter": "python",
   "pygments_lexer": "ipython3",
   "version": "3.8.12"
  }
 },
 "nbformat": 4,
 "nbformat_minor": 5
}
