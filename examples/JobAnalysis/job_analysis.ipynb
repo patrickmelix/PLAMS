{
 "cells": [
  {
   "cell_type": "markdown",
   "id": "c68ca2c1-a940-4eda-9ee4-1e0660e7cc67",
   "metadata": {},
   "source": [
    "## Create Example Jobs"
   ]
  },
  {
   "cell_type": "markdown",
   "id": "ffa8d650-61fb-4b8f-8e60-38348d96cf51",
   "metadata": {},
   "source": [
    "Create various types of example jobs:"
   ]
  },
  {
   "cell_type": "code",
   "execution_count": 1,
   "id": "d2c2776a-5100-41c7-a4d7-3a7b308b9a59",
   "metadata": {},
   "outputs": [],
   "source": [
    "from scm.plams import from_smiles, AMSJob, PlamsError, Settings, Molecule, Atom\n",
    "from scm.libbase import UnifiedChemicalSystem as ChemicalSystem\n",
    "from scm.input_classes.drivers import AMS\n",
    "from scm.input_classes.engines import DFTB\n",
    "from scm.utils.conversions import plams_molecule_to_chemsys\n",
    "\n",
    "def example_job_dftb(smiles, task, use_chemsys = False):\n",
    "    # Generate molecule from smiles\n",
    "    mol = from_smiles(smiles)\n",
    "    if use_chemsys:\n",
    "        mol = plams_molecule_to_chemsys(mol)\n",
    "\n",
    "    # Set up calculation settings using PISA\n",
    "    sett = Settings()\n",
    "    sett.runscript.nproc = 1\n",
    "    driver = AMS()\n",
    "    driver.Task = task\n",
    "    driver.Engine = DFTB() \n",
    "    sett.input = driver\n",
    "    return AMSJob(molecule = mol, settings = sett)\n",
    "\n",
    "\n",
    "def example_job_adf(smiles, task, basis, gga = None, use_chemsys = False):\n",
    "    # Generate molecule from smiles\n",
    "    mol = from_smiles(smiles)\n",
    "    if use_chemsys:\n",
    "        mol = plams_molecule_to_chemsys(mol)\n",
    "\n",
    "    # Set up calculation settings using standard settings\n",
    "    sett = Settings()\n",
    "    sett.runscript.nproc = 1\n",
    "    sett.input.AMS.Task = task\n",
    "    sett.input.ADF.Basis.Type = basis\n",
    "    if gga:\n",
    "        sett.input.ADF.XC.GGA = gga\n",
    "    return AMSJob(molecule = mol, settings = sett)\n",
    "    \n",
    "\n",
    "def example_job_neb(iterations, use_chemsys = False):\n",
    "    # Set up molecules\n",
    "    main_molecule = Molecule()\n",
    "    main_molecule.add_atom(Atom(symbol=\"C\", coords=(0, 0, 0)))\n",
    "    main_molecule.add_atom(Atom(symbol=\"N\", coords=(1.18, 0, 0)))\n",
    "    main_molecule.add_atom(Atom(symbol=\"H\", coords=(2.196, 0, 0)))\n",
    "    final_molecule = main_molecule.copy()\n",
    "    final_molecule.atoms[1].x = 1.163\n",
    "    final_molecule.atoms[2].x = -1.078\n",
    "\n",
    "    mol = {\"\": main_molecule, \"final\": final_molecule}\n",
    "\n",
    "    if use_chemsys:\n",
    "        mol = {k: plams_molecule_to_chemsys(v) for k, v in mol.items()}\n",
    "\n",
    "    # Set up calculation settings\n",
    "    sett = Settings()\n",
    "    sett.runscript.nproc = 1\n",
    "    sett.input.ams.Task = \"NEB\"\n",
    "    sett.input.ams.NEB.Images = 9\n",
    "    sett.input.ams.NEB.Iterations = iterations\n",
    "    sett.input.DFTB\n",
    "        \n",
    "    return AMSJob(molecule = mol, settings = sett)"
   ]
  },
  {
   "cell_type": "markdown",
   "id": "aec4b300-ba2f-4883-bb72-a3dd303f4d22",
   "metadata": {},
   "source": [
    "Run example jobs:"
   ]
  },
  {
   "cell_type": "code",
   "execution_count": 2,
   "id": "b41d6fac-5199-4e2f-987c-8d31e37b20e9",
   "metadata": {},
   "outputs": [
    {
     "name": "stdout",
     "output_type": "stream",
     "text": [
      "[23.01|09:33:00] JOB plamsjob STARTED\n",
      "[23.01|09:33:00] JOB plamsjob STARTED\n",
      "[23.01|09:33:00] JOB plamsjob STARTED\n",
      "[23.01|09:33:00] Renaming job plamsjob to plamsjob.002\n",
      "[23.01|09:33:00] Renaming job plamsjob to plamsjob.003\n",
      "[23.01|09:33:00] JOB plamsjob STARTED\n",
      "[23.01|09:33:00] JOB plamsjob STARTED\n",
      "[23.01|09:33:00] JOB plamsjob RUNNING\n",
      "[23.01|09:33:00] JOB plamsjob.002 RUNNING\n",
      "[23.01|09:33:00] JOB plamsjob STARTED\n",
      "[23.01|09:33:00] JOB plamsjob STARTED\n",
      "[23.01|09:33:00] JOB plamsjob STARTED\n",
      "[23.01|09:33:00] Renaming job plamsjob to plamsjob.004\n",
      "[23.01|09:33:00] JOB plamsjob STARTED\n",
      "[23.01|09:33:00] JOB plamsjob.003 RUNNING\n",
      "[23.01|09:33:00] Renaming job plamsjob to plamsjob.005\n",
      "[23.01|09:33:00] Renaming job plamsjob to plamsjob.006\n",
      "[23.01|09:33:00] Renaming job plamsjob to plamsjob.007\n",
      "[23.01|09:33:00] Renaming job plamsjob to plamsjob.008\n",
      "[23.01|09:33:00] JOB plamsjob.005 RUNNING\n",
      "[23.01|09:33:00] JOB plamsjob.004 RUNNING\n",
      "[23.01|09:33:00] JOB plamsjob.006 RUNNING\n",
      "[23.01|09:33:00] JOB plamsjob.007 RUNNING\n",
      "[23.01|09:33:00] JOB plamsjob.008 RUNNING\n",
      "[23.01|09:33:01] JOB plamsjob FINISHED\n",
      "[23.01|09:33:02] JOB plamsjob SUCCESSFUL\n",
      "[23.01|09:33:02] JOB plamsjob.005 FINISHED\n",
      "[23.01|09:33:02] Renaming job plamsjob to plamsjob.009\n",
      "[23.01|09:33:02] JOB plamsjob.009 RUNNING\n",
      "[23.01|09:33:02] JOB plamsjob STARTED\n",
      "[23.01|09:33:02] JOB plamsjob.007 FINISHED\n",
      "[23.01|09:33:02] JOB plamsjob.005 SUCCESSFUL\n",
      "[23.01|09:33:02] Renaming job plamsjob to plamsjob.010\n",
      "[23.01|09:33:02] JOB plamsjob STARTED\n",
      "[23.01|09:33:02] JOB plamsjob.007 SUCCESSFUL\n",
      "[23.01|09:33:02] JOB plamsjob.010 RUNNING\n",
      "[23.01|09:33:02] JOB plamsjob STARTED\n",
      "[23.01|09:33:02] Renaming job plamsjob to plamsjob.011\n",
      "[23.01|09:33:02] JOB plamsjob.011 RUNNING\n",
      "[23.01|09:33:03] JOB plamsjob.010 FINISHED\n",
      "[23.01|09:33:03] JOB plamsjob.010 SUCCESSFUL\n",
      "[23.01|09:33:03] Renaming job plamsjob to plamsjob.012\n",
      "[23.01|09:33:03] JOB plamsjob STARTED\n",
      "[23.01|09:33:03] JOB plamsjob.012 RUNNING\n",
      "[23.01|09:33:06] JOB plamsjob.008 FINISHED\n",
      "[23.01|09:33:06] JOB plamsjob.008 SUCCESSFUL\n",
      "[23.01|09:33:06] Renaming job plamsjob to plamsjob.013\n",
      "[23.01|09:33:06] JOB plamsjob STARTED\n",
      "[23.01|09:33:06] JOB plamsjob.013 RUNNING\n",
      "[23.01|09:33:07] JOB plamsjob.013 FINISHED\n",
      "[23.01|09:33:08] JOB plamsjob.013 SUCCESSFUL\n",
      "[23.01|09:33:08] Renaming job plamsjob to plamsjob.014\n",
      "[23.01|09:33:08] JOB plamsjob STARTED\n",
      "[23.01|09:33:08] JOB plamsjob.014 RUNNING\n",
      "[23.01|09:33:09] JOB plamsjob.003 FINISHED\n",
      "[23.01|09:33:09] JOB plamsjob.003 SUCCESSFUL\n",
      "[23.01|09:33:09] Renaming job plamsjob to plamsjob.015\n",
      "[23.01|09:33:10] JOB plamsjob.015 RUNNING\n",
      "[23.01|09:33:10] JOB plamsjob STARTED\n",
      "[23.01|09:33:11] JOB plamsjob.009 FINISHED\n",
      "[23.01|09:33:11] JOB plamsjob.009 SUCCESSFUL\n",
      "[23.01|09:33:11] Renaming job plamsjob to plamsjob.016\n",
      "[23.01|09:33:11] JOB plamsjob STARTED\n",
      "[23.01|09:33:11] JOB plamsjob.016 RUNNING\n",
      "[23.01|09:33:11] JOB plamsjob.014 FINISHED\n",
      "[23.01|09:33:11] JOB plamsjob.014 SUCCESSFUL\n",
      "[23.01|09:33:11] Renaming job plamsjob to plamsjob.017\n",
      "[23.01|09:33:11] JOB plamsjob.017 RUNNING\n",
      "[23.01|09:33:11] JOB plamsjob STARTED\n",
      "[23.01|09:33:12] JOB plamsjob.016 FINISHED\n",
      "[23.01|09:33:12] JOB plamsjob.016 SUCCESSFUL\n",
      "[23.01|09:33:12] Renaming job plamsjob to plamsjob.018\n",
      "[23.01|09:33:12] JOB plamsjob STARTED\n",
      "[23.01|09:33:12] JOB plamsjob.018 RUNNING\n",
      "[23.01|09:33:13] JOB plamsjob.015 FINISHED\n",
      "[23.01|09:33:13] JOB plamsjob.015 SUCCESSFUL\n",
      "[23.01|09:33:13] Renaming job plamsjob to plamsjob.019\n",
      "[23.01|09:33:13] JOB plamsjob STARTED\n",
      "[23.01|09:33:13] JOB plamsjob.019 RUNNING\n",
      "[23.01|09:33:14] JOB plamsjob.019 FINISHED\n",
      "[23.01|09:33:14] JOB plamsjob.019 SUCCESSFUL\n",
      "[23.01|09:33:14] Renaming job plamsjob to plamsjob.020\n",
      "[23.01|09:33:14] JOB plamsjob.020 RUNNING\n",
      "[23.01|09:33:14] JOB plamsjob STARTED\n",
      "[23.01|09:33:15] JOB plamsjob.011 FINISHED\n",
      "[23.01|09:33:15] JOB plamsjob.011 SUCCESSFUL\n",
      "[23.01|09:33:15] Renaming job plamsjob to plamsjob.021\n",
      "[23.01|09:33:15] JOB plamsjob STARTED\n",
      "[23.01|09:33:15] JOB plamsjob.021 RUNNING\n",
      "[23.01|09:33:16] JOB plamsjob.017 FINISHED\n",
      "[23.01|09:33:16] JOB plamsjob.017 SUCCESSFUL\n",
      "[23.01|09:33:16] Renaming job plamsjob to plamsjob.022\n",
      "[23.01|09:33:16] JOB plamsjob STARTED\n",
      "[23.01|09:33:16] JOB plamsjob.022 RUNNING\n",
      "[23.01|09:33:17] JOB plamsjob.022 FINISHED\n",
      "[23.01|09:33:17] JOB plamsjob.022 SUCCESSFUL\n",
      "[23.01|09:33:17] Renaming job plamsjob to plamsjob.023\n",
      "[23.01|09:33:17] JOB plamsjob.023 RUNNING\n",
      "[23.01|09:33:17] JOB plamsjob STARTED\n",
      "[23.01|09:33:17] JOB plamsjob.002 FINISHED\n",
      "[23.01|09:33:18] JOB plamsjob.002 SUCCESSFUL\n",
      "[23.01|09:33:18] Renaming job plamsjob to plamsjob.024\n",
      "[23.01|09:33:18] JOB plamsjob STARTED\n",
      "[23.01|09:33:18] JOB plamsjob.024 RUNNING\n",
      "[23.01|09:33:20] JOB plamsjob.018 FINISHED\n",
      "[23.01|09:33:20] JOB plamsjob.018 SUCCESSFUL\n",
      "[23.01|09:33:20] Renaming job plamsjob to plamsjob.025\n",
      "[23.01|09:33:20] JOB plamsjob STARTED\n",
      "[23.01|09:33:20] JOB plamsjob.025 RUNNING\n",
      "[23.01|09:33:20] JOB plamsjob.020 FINISHED\n",
      "[23.01|09:33:20] JOB plamsjob.020 SUCCESSFUL\n",
      "[23.01|09:33:20] Renaming job plamsjob to plamsjob.026\n",
      "[23.01|09:33:20] JOB plamsjob.026 RUNNING\n",
      "[23.01|09:33:22] JOB plamsjob.025 FINISHED\n",
      "[23.01|09:33:23] Job plamsjob.025 reported errors. Please check the output\n",
      "[23.01|09:33:23] JOB plamsjob.025 FAILED\n",
      "[23.01|09:33:23] Job plamsjob.025 reported errors. Please check the output\n",
      "[23.01|09:33:23] Error message for job plamsjob.025 was:\n",
      "\tNEB optimization did NOT converge\n",
      "[23.01|09:33:23] Job plamsjob.025 reported errors. Please check the output\n",
      "[23.01|09:33:23] Job plamsjob.025 reported errors. Please check the output\n",
      "[23.01|09:33:27] JOB plamsjob.021 FINISHED\n",
      "[23.01|09:33:27] JOB plamsjob.021 SUCCESSFUL\n",
      "[23.01|09:33:28] JOB plamsjob.026 FINISHED\n",
      "[23.01|09:33:28] JOB plamsjob.026 SUCCESSFUL\n",
      "[23.01|09:33:29] JOB plamsjob.012 FINISHED\n",
      "[23.01|09:33:29] JOB plamsjob.012 SUCCESSFUL\n",
      "[23.01|09:33:35] JOB plamsjob.023 FINISHED\n",
      "[23.01|09:33:35] JOB plamsjob.023 SUCCESSFUL\n",
      "[23.01|09:33:37] JOB plamsjob.004 FINISHED\n",
      "[23.01|09:33:37] JOB plamsjob.004 SUCCESSFUL\n",
      "[23.01|09:33:46] JOB plamsjob.024 FINISHED\n",
      "[23.01|09:33:46] JOB plamsjob.024 SUCCESSFUL\n",
      "[23.01|09:34:03] JOB plamsjob.006 FINISHED\n",
      "[23.01|09:34:03] JOB plamsjob.006 SUCCESSFUL\n"
     ]
    }
   ],
   "source": [
    "from scm.plams import config, JobRunner\n",
    "config.default_jobrunner = JobRunner(parallel=True, maxthreads = 8)\n",
    "\n",
    "smiles = [\"CC\", \"C\", \"O\", \"CO\"]\n",
    "tasks = [\"SinglePoint\", \"GeometryOptimization\"]\n",
    "engines = [\"DFTB\", \"ADF\"]\n",
    "jobs = []\n",
    "for i, s in enumerate(smiles):\n",
    "    for j, t in enumerate(tasks):\n",
    "        job_dftb = example_job_dftb(s, t, use_chemsys = i % 2)\n",
    "        job_adf1 = example_job_adf(s, t, \"DZ\", use_chemsys = True)\n",
    "        job_adf2 = example_job_adf(s, t, \"TZP\", \"PBE\")\n",
    "        jobs += [job_dftb, job_adf1, job_adf2]\n",
    "\n",
    "job_neb1 = example_job_neb(10)\n",
    "job_neb2 = example_job_neb(100, use_chemsys=True)\n",
    "jobs += [job_neb1, job_neb2]\n",
    "\n",
    "for j in jobs:\n",
    "    j.run()"
   ]
  },
  {
   "cell_type": "code",
   "execution_count": 3,
   "id": "b21c3307-9e8e-49c6-84e6-22fcab4e4dd8",
   "metadata": {},
   "outputs": [
    {
     "name": "stdout",
     "output_type": "stream",
     "text": [
      "[23.01|09:33:20] Waiting for job plamsjob.004 to finish\n",
      "[23.01|09:33:37] Waiting for job plamsjob.006 to finish\n"
     ]
    }
   ],
   "source": [
    "for j in jobs:\n",
    "    j.results.wait()"
   ]
  },
  {
   "cell_type": "markdown",
   "id": "250fbaee-ffa7-4d2b-b643-014693b0cadd",
   "metadata": {},
   "source": [
    "Delete the .dill file associated with some jobs for testing:"
   ]
  },
  {
   "cell_type": "code",
   "execution_count": 4,
   "id": "6a0d744f-96bd-4cd0-bfe7-c076f3d19f21",
   "metadata": {},
   "outputs": [],
   "source": [
    "from pathlib import Path\n",
    "import os \n",
    "\n",
    "for j in jobs:\n",
    "    if j.name.endswith(\".005\"):\n",
    "        path = Path(j.path) / f\"{j.name}.dill\"\n",
    "        os.remove(path)"
   ]
  },
  {
   "cell_type": "markdown",
   "id": "0d7e3247-a30d-4520-975a-4619ce927d71",
   "metadata": {},
   "source": [
    "## Job Analysis"
   ]
  },
  {
   "cell_type": "markdown",
   "id": "402352bc-3f54-42ae-ac94-70c56f7a7953",
   "metadata": {},
   "source": [
    "### Loading Jobs\n",
    "\n",
    "Jobs can be loaded by passing job objects, or loading from a path."
   ]
  },
  {
   "cell_type": "code",
   "execution_count": 5,
   "id": "4ebf6505-6489-4e29-af55-60b2e3d71663",
   "metadata": {},
   "outputs": [],
   "source": [
    "from scm.plams import JobAnalysis"
   ]
  },
  {
   "cell_type": "code",
   "execution_count": 6,
   "id": "c60b2999-dda2-4dbd-8b37-96303407b68e",
   "metadata": {},
   "outputs": [],
   "source": [
    "ja = JobAnalysis(jobs = jobs[:4], paths = [j.path for j in jobs[4:]])"
   ]
  },
  {
   "cell_type": "markdown",
   "id": "233420d7-01d3-4cc7-ab5e-7d5f96dabe8d",
   "metadata": {},
   "source": [
    "By default there are basic job information fields which are are set up."
   ]
  },
  {
   "cell_type": "code",
   "execution_count": 7,
   "id": "80a4c235-953d-4f43-8217-f92082fe30d2",
   "metadata": {},
   "outputs": [
    {
     "name": "stdout",
     "output_type": "stream",
     "text": [
      "| Path                                        | Name         | OK   | Check | ErrorMsg                          |\n",
      "|---------------------------------------------|--------------|------|-------|-----------------------------------|\n",
      "| /Users/ormrodmorley/Documents/code/ams/a... | plamsjob     | True | True  | None                              |\n",
      "| /Users/ormrodmorley/Documents/code/ams/a... | plamsjob.003 | True | True  | None                              |\n",
      "| /Users/ormrodmorley/Documents/code/ams/a... | plamsjob.002 | True | True  | None                              |\n",
      "| /Users/ormrodmorley/Documents/code/ams/a... | plamsjob.005 | True | True  | None                              |\n",
      "| /Users/ormrodmorley/Documents/code/ams/a... | plamsjob.004 | True | True  | None                              |\n",
      "| /Users/ormrodmorley/Documents/code/ams/a... | plamsjob.006 | True | True  | None                              |\n",
      "| /Users/ormrodmorley/Documents/code/ams/a... | plamsjob.007 | True | True  | None                              |\n",
      "| /Users/ormrodmorley/Documents/code/ams/a... | plamsjob.008 | True | True  | None                              |\n",
      "| /Users/ormrodmorley/Documents/code/ams/a... | plamsjob.009 | True | True  | None                              |\n",
      "| /Users/ormrodmorley/Documents/code/ams/a... | plamsjob.010 | True | True  | None                              |\n",
      "| /Users/ormrodmorley/Documents/code/ams/a... | plamsjob.011 | True | True  | None                              |\n",
      "| /Users/ormrodmorley/Documents/code/ams/a... | plamsjob.012 | True | True  | None                              |\n",
      "| /Users/ormrodmorley/Documents/code/ams/a... | plamsjob.013 | True | True  | None                              |\n",
      "| /Users/ormrodmorley/Documents/code/ams/a... | plamsjob.014 | True | True  | None                              |\n",
      "| /Users/ormrodmorley/Documents/code/ams/a... | plamsjob.015 | True | True  | None                              |\n",
      "| /Users/ormrodmorley/Documents/code/ams/a... | plamsjob.016 | True | True  | None                              |\n",
      "| /Users/ormrodmorley/Documents/code/ams/a... | plamsjob.017 | True | True  | None                              |\n",
      "| /Users/ormrodmorley/Documents/code/ams/a... | plamsjob.018 | True | True  | None                              |\n",
      "| /Users/ormrodmorley/Documents/code/ams/a... | plamsjob.019 | True | True  | None                              |\n",
      "| /Users/ormrodmorley/Documents/code/ams/a... | plamsjob.020 | True | True  | None                              |\n",
      "| /Users/ormrodmorley/Documents/code/ams/a... | plamsjob.021 | True | True  | None                              |\n",
      "| /Users/ormrodmorley/Documents/code/ams/a... | plamsjob.022 | True | True  | None                              |\n",
      "| /Users/ormrodmorley/Documents/code/ams/a... | plamsjob.023 | True | True  | None                              |\n",
      "| /Users/ormrodmorley/Documents/code/ams/a... | plamsjob.024 | True | True  | None                              |\n",
      "| /Users/ormrodmorley/Documents/code/ams/a... | plamsjob.025 | True | False | NEB optimization did NOT converge |\n",
      "| /Users/ormrodmorley/Documents/code/ams/a... | plamsjob.026 | True | True  | None                              |\n"
     ]
    }
   ],
   "source": [
    "print(ja.to_table(max_col_width=40))"
   ]
  },
  {
   "cell_type": "markdown",
   "id": "730eb6b2-411f-4022-840b-d686a5608055",
   "metadata": {},
   "source": [
    "### Adding, Removing and Modifying Fields"
   ]
  },
  {
   "cell_type": "markdown",
   "id": "43418de2-3abf-49b8-b00a-0f9d249638e2",
   "metadata": {},
   "source": [
    "Other standard and also custom fields can be added and removed."
   ]
  },
  {
   "cell_type": "code",
   "execution_count": 8,
   "id": "42073591-bc82-4577-b08b-652fd10baf07",
   "metadata": {},
   "outputs": [],
   "source": [
    "ja.add_molecule_fields()\n",
    "ja.add_timing_fields()\n",
    "ja.add_settings_input_fields()\n",
    "\n",
    "ja.add_field(\"Energy\", lambda j: j.results.get_energy())\n",
    "ja[\"NAtoms\"] = lambda j: len(j.molecule)  # alternative syntax for adding fields via dict notation\n",
    "ja.NSpin = lambda j: j.results.get_n_spin() # alternative syntax for adding fields via dot notation\n",
    "\n",
    "ja.remove_field(\"ElapsedTime\") \n",
    "del ja[\"Path\"]  # alternative syntax for removing fields via dict notation\n",
    "del ja.SysTime  # alternative syntax for removing fields via dot notation\n",
    "\n",
    "ja.rename_field(\"InputAmsTask\", \"Task\")\n",
    "ja.rename_field(\"InputAdfBasisType\", \"Basis\")"
   ]
  },
  {
   "cell_type": "code",
   "execution_count": 9,
   "id": "bb4da583-2c81-4fb8-9bdc-d1ffc9fcdb4f",
   "metadata": {},
   "outputs": [
    {
     "name": "stdout",
     "output_type": "stream",
     "text": [
      "| Name         | OK   | Check | ErrorMsg                          | Formula           | Smiles            | CPUTime            | Task                 | Basis | InputAdfXcGga | InputAmsNebImages | InputAmsNebIterations | Energy                            | NAtoms | NSpin                             |\n",
      "|--------------|------|-------|-----------------------------------|-------------------|-------------------|--------------------|----------------------|-------|---------------|-------------------|-----------------------|-----------------------------------|--------|-----------------------------------|\n",
      "| plamsjob     | True | True  | None                              | C2H6              | CC                | 0.201668           | SinglePoint          | None  | None          | None              | None                  | -7.462962534848951                | 8      | 1                                 |\n",
      "| plamsjob.003 | True | True  | None                              | C2H6              | CC                | 4.413656           | SinglePoint          | DZ    | None          | None              | None                  | -1.51334657536796                 | 8      | 1                                 |\n",
      "| plamsjob.002 | True | True  | None                              | C2H6              | CC                | 9.231864999999999  | SinglePoint          | TZP   | PBE           | None              | None                  | -1.477488924954076                | 8      | 1                                 |\n",
      "| plamsjob.005 | True | True  | None                              | C2H6              | CC                | 0.273421           | GeometryOptimization | None  | None          | None              | None                  | -7.468180807890643                | 8      | 1                                 |\n",
      "| plamsjob.004 | True | True  | None                              | C2H6              | CC                | 21.039001          | GeometryOptimization | DZ    | None          | None              | None                  | -1.5188342118440623               | 8      | 1                                 |\n",
      "| plamsjob.006 | True | True  | None                              | C2H6              | CC                | 45.024815          | GeometryOptimization | TZP   | PBE           | None              | None                  | -1.4824247864004538               | 8      | 1                                 |\n",
      "| plamsjob.007 | True | True  | None                              | CH4               | C                 | 0.218975           | SinglePoint          | None  | None          | None              | None                  | -4.271384020620508                | 5      | 1                                 |\n",
      "| plamsjob.008 | True | True  | None                              | CH4               | C                 | 2.403092           | SinglePoint          | DZ    | None          | None              | None                  | -0.8944885433718404               | 5      | 1                                 |\n",
      "| plamsjob.009 | True | True  | None                              | CH4               | C                 | 4.384902           | SinglePoint          | TZP   | PBE           | None              | None                  | -0.8792274202496978               | 5      | 1                                 |\n",
      "| plamsjob.010 | True | True  | None                              | CH4               | C                 | 0.268413           | GeometryOptimization | None  | None          | None              | None                  | -4.273201146625857                | 5      | 1                                 |\n",
      "| plamsjob.011 | True | True  | None                              | CH4               | C                 | 6.417455           | GeometryOptimization | DZ    | None          | None              | None                  | -0.895063427538391                | 5      | 1                                 |\n",
      "| plamsjob.012 | True | True  | None                              | CH4               | C                 | 13.396076          | GeometryOptimization | TZP   | PBE           | None              | None                  | -0.880063379024256                | 5      | 1                                 |\n",
      "| plamsjob.013 | True | True  | None                              | H2O               | O                 | 0.258986           | SinglePoint          | None  | None          | None              | None                  | -5.764826560781396                | 3      | 1                                 |\n",
      "| plamsjob.014 | True | True  | None                              | H2O               | O                 | 1.358792           | SinglePoint          | DZ    | None          | None              | None                  | -0.5010300307567536               | 3      | 1                                 |\n",
      "| plamsjob.015 | True | True  | None                              | H2O               | O                 | 1.883535           | SinglePoint          | TZP   | PBE           | None              | None                  | -0.5176114395448854               | 3      | 1                                 |\n",
      "| plamsjob.016 | True | True  | None                              | H2O               | O                 | 0.255154           | GeometryOptimization | None  | None          | None              | None                  | -5.766288625298011                | 3      | 1                                 |\n",
      "| plamsjob.017 | True | True  | None                              | H2O               | O                 | 2.818298           | GeometryOptimization | DZ    | None          | None              | None                  | -0.501352093695396                | 3      | 1                                 |\n",
      "| plamsjob.018 | True | True  | None                              | H2O               | O                 | 4.442762           | GeometryOptimization | TZP   | PBE           | None              | None                  | -0.5194311491758227               | 3      | 1                                 |\n",
      "| plamsjob.019 | True | True  | None                              | CH4O              | CO                | 0.236783           | SinglePoint          | None  | None          | None              | None                  | -8.957284733740348                | 6      | 1                                 |\n",
      "| plamsjob.020 | True | True  | None                              | CH4O              | CO                | 3.2821540000000002 | SinglePoint          | DZ    | None          | None              | None                  | -1.1031022868469431               | 6      | 1                                 |\n",
      "| plamsjob.021 | True | True  | None                              | CH4O              | CO                | 6.250044           | SinglePoint          | TZP   | PBE           | None              | None                  | -1.1022813650796917               | 6      | 1                                 |\n",
      "| plamsjob.022 | True | True  | None                              | CH4O              | CO                | 0.256888           | GeometryOptimization | None  | None          | None              | None                  | -8.95878678498479                 | 6      | 1                                 |\n",
      "| plamsjob.023 | True | True  | None                              | CH4O              | CO                | 9.915179           | GeometryOptimization | DZ    | None          | None              | None                  | -1.1062334880613056               | 6      | 1                                 |\n",
      "| plamsjob.024 | True | True  | None                              | CH4O              | CO                | 19.877314          | GeometryOptimization | TZP   | PBE           | None              | None                  | -1.1046970013081945               | 6      | 1                                 |\n",
      "| plamsjob.025 | True | False | NEB optimization did NOT conve... | : CHN, final: CHN | : C=N, final: C#N | 0.704478           | NEB                  | None  | None          | 9                 | 10                    | ERROR: There is no engine .rkf... | 2      | ERROR: There is no engine .rkf... |\n",
      "| plamsjob.026 | True | True  | None                              | : CHN, final: CHN | : C=N, final: C#N | 2.471033           | NEB                  | None  | None          | 9                 | 100                   | -5.689025050000895                | 2      | 1                                 |\n"
     ]
    }
   ],
   "source": [
    "print(ja.to_table(max_col_width = 30))"
   ]
  },
  {
   "cell_type": "markdown",
   "id": "d40411a2-53d4-4df6-972a-bbdc788e4e5c",
   "metadata": {},
   "source": [
    "Analysis fields and jobs can be filtered out based on values."
   ]
  },
  {
   "cell_type": "code",
   "execution_count": 10,
   "id": "2b381c2f-f057-4443-b05a-d38adf18beb3",
   "metadata": {},
   "outputs": [],
   "source": [
    "ja.filter_jobs(lambda data: data[\"ErrorMsg\"] is not None)\n",
    "ja.filter_fields(lambda vals: any([isinstance(v, float) and v > 10 for v in vals]))\n",
    "\n",
    "ja.remove_uniform_fields(ignore_empty = True)\n",
    "ja.remove_empty_fields()"
   ]
  },
  {
   "cell_type": "code",
   "execution_count": 11,
   "id": "5895c932-c3cd-4091-a304-b9bef4901488",
   "metadata": {},
   "outputs": [
    {
     "name": "stdout",
     "output_type": "stream",
     "text": [
      "| Name         | Formula           | Smiles            | Task                 | Basis | Energy              | NAtoms |\n",
      "|--------------|-------------------|-------------------|----------------------|-------|---------------------|--------|\n",
      "| plamsjob     | C2H6              | CC                | SinglePoint          | None  | -7.462962534848951  | 8      |\n",
      "| plamsjob.003 | C2H6              | CC                | SinglePoint          | DZ    | -1.51334657536796   | 8      |\n",
      "| plamsjob.002 | C2H6              | CC                | SinglePoint          | TZP   | -1.477488924954076  | 8      |\n",
      "| plamsjob.005 | C2H6              | CC                | GeometryOptimization | None  | -7.468180807890643  | 8      |\n",
      "| plamsjob.004 | C2H6              | CC                | GeometryOptimization | DZ    | -1.5188342118440623 | 8      |\n",
      "| plamsjob.006 | C2H6              | CC                | GeometryOptimization | TZP   | -1.4824247864004538 | 8      |\n",
      "| plamsjob.007 | CH4               | C                 | SinglePoint          | None  | -4.271384020620508  | 5      |\n",
      "| plamsjob.008 | CH4               | C                 | SinglePoint          | DZ    | -0.8944885433718404 | 5      |\n",
      "| plamsjob.009 | CH4               | C                 | SinglePoint          | TZP   | -0.8792274202496978 | 5      |\n",
      "| plamsjob.010 | CH4               | C                 | GeometryOptimization | None  | -4.273201146625857  | 5      |\n",
      "| plamsjob.011 | CH4               | C                 | GeometryOptimization | DZ    | -0.895063427538391  | 5      |\n",
      "| plamsjob.012 | CH4               | C                 | GeometryOptimization | TZP   | -0.880063379024256  | 5      |\n",
      "| plamsjob.013 | H2O               | O                 | SinglePoint          | None  | -5.764826560781396  | 3      |\n",
      "| plamsjob.014 | H2O               | O                 | SinglePoint          | DZ    | -0.5010300307567536 | 3      |\n",
      "| plamsjob.015 | H2O               | O                 | SinglePoint          | TZP   | -0.5176114395448854 | 3      |\n",
      "| plamsjob.016 | H2O               | O                 | GeometryOptimization | None  | -5.766288625298011  | 3      |\n",
      "| plamsjob.017 | H2O               | O                 | GeometryOptimization | DZ    | -0.501352093695396  | 3      |\n",
      "| plamsjob.018 | H2O               | O                 | GeometryOptimization | TZP   | -0.5194311491758227 | 3      |\n",
      "| plamsjob.019 | CH4O              | CO                | SinglePoint          | None  | -8.957284733740348  | 6      |\n",
      "| plamsjob.020 | CH4O              | CO                | SinglePoint          | DZ    | -1.1031022868469431 | 6      |\n",
      "| plamsjob.021 | CH4O              | CO                | SinglePoint          | TZP   | -1.1022813650796917 | 6      |\n",
      "| plamsjob.022 | CH4O              | CO                | GeometryOptimization | None  | -8.95878678498479   | 6      |\n",
      "| plamsjob.023 | CH4O              | CO                | GeometryOptimization | DZ    | -1.1062334880613056 | 6      |\n",
      "| plamsjob.024 | CH4O              | CO                | GeometryOptimization | TZP   | -1.1046970013081945 | 6      |\n",
      "| plamsjob.026 | : CHN, final: CHN | : C=N, final: C#N | NEB                  | None  | -5.689025050000895  | 2      |\n"
     ]
    }
   ],
   "source": [
    "print(ja.to_table(max_col_width = 30))"
   ]
  },
  {
   "cell_type": "markdown",
   "id": "62361885-1b81-44b4-b944-176acb33d17a",
   "metadata": {},
   "source": [
    "### Extracting Analysis Data"
   ]
  },
  {
   "cell_type": "markdown",
   "id": "90b34dca-a351-4ec1-8646-1f38dbeed906",
   "metadata": {},
   "source": [
    "Analysis data can be extracted in a variety of ways. The data can be obtained in a markdown compatible table:"
   ]
  },
  {
   "cell_type": "code",
   "execution_count": 12,
   "id": "f2eead7b-b86b-45b4-aa79-ccbfcb021360",
   "metadata": {},
   "outputs": [
    {
     "name": "stdout",
     "output_type": "stream",
     "text": [
      "| Name         | Formula | Smiles | Task                 | Basis | Energy              | NAtoms |\n",
      "|--------------|---------|--------|----------------------|-------|---------------------|--------|\n",
      "| plamsjob.004 | C2H6    | CC     | GeometryOptimization | DZ    | -1.5188342118440623 | 8      |\n",
      "| plamsjob.006 | C2H6    | CC     | GeometryOptimization | TZP   | -1.4824247864004538 | 8      |\n",
      "| ...          | ...     | ...    | ...                  | ...   | ...                 | ...    |\n",
      "| plamsjob.018 | H2O     | O      | GeometryOptimization | TZP   | -0.5194311491758227 | 3      |\n",
      "| plamsjob.023 | CH4O    | CO     | GeometryOptimization | DZ    | -1.1062334880613056 | 6      |\n",
      "| plamsjob.024 | CH4O    | CO     | GeometryOptimization | TZP   | -1.1046970013081945 | 6      |\n"
     ]
    }
   ],
   "source": [
    "ja.filter_jobs(lambda data: data[\"Task\"] != \"GeometryOptimization\" or data[\"Basis\"] is None)\n",
    "print(ja.to_table(max_col_width = 30, max_rows = 5))"
   ]
  },
  {
   "cell_type": "markdown",
   "id": "68814d70-3e5e-4c04-8be3-a343ccf576a7",
   "metadata": {},
   "source": [
    "The data can be accessed via the `get_analysis` method, which returns a dictionary of all values."
   ]
  },
  {
   "cell_type": "code",
   "execution_count": 13,
   "id": "f5c66ad6-61d6-4150-b98f-f5d0e7dc43dc",
   "metadata": {},
   "outputs": [
    {
     "name": "stdout",
     "output_type": "stream",
     "text": [
      "CC (DZ): -1.5188342118440623\n",
      "CC (TZP): -1.4824247864004538\n",
      "C (DZ): -0.895063427538391\n",
      "C (TZP): -0.880063379024256\n",
      "O (DZ): -0.501352093695396\n",
      "O (TZP): -0.5194311491758227\n",
      "CO (DZ): -1.1062334880613056\n",
      "CO (TZP): -1.1046970013081945\n"
     ]
    }
   ],
   "source": [
    "analysis = ja.get_analysis()\n",
    "for smiles, basis, energy in zip(analysis[\"Smiles\"] , analysis[\"Basis\"], analysis[\"Energy\"]):\n",
    "    print(f\"{smiles} ({basis}): {energy}\")"
   ]
  },
  {
   "cell_type": "markdown",
   "id": "ad4bd291-c0d7-4424-8619-fa4996c91e34",
   "metadata": {},
   "source": [
    "Data for specific fields can also be accessed via item / attribute getters."
   ]
  },
  {
   "cell_type": "code",
   "execution_count": 14,
   "id": "0191b1f9-a666-41db-b4b9-5f26553c50ed",
   "metadata": {},
   "outputs": [
    {
     "name": "stdout",
     "output_type": "stream",
     "text": [
      "CC: 8\n",
      "CC: 8\n",
      "C: 5\n",
      "C: 5\n",
      "O: 3\n",
      "O: 3\n",
      "CO: 6\n",
      "CO: 6\n"
     ]
    }
   ],
   "source": [
    "for smiles, n in zip(ja[\"Smiles\"], ja.NAtoms):\n",
    "    print(f\"{smiles}: {n}\")"
   ]
  },
  {
   "cell_type": "markdown",
   "id": "aa71eb30-c88c-4bad-bee0-51f6e1aad094",
   "metadata": {},
   "source": [
    "Data can also be written to a csv file."
   ]
  },
  {
   "cell_type": "code",
   "execution_count": 15,
   "id": "ace783f5-898d-4041-abc8-b89380a2d77d",
   "metadata": {},
   "outputs": [
    {
     "name": "stdout",
     "output_type": "stream",
     "text": [
      "Name,Formula,Smiles,Task,Basis,Energy,NAtoms\n",
      "plamsjob.004,C2H6,CC,GeometryOptimization,DZ,-1.5188342118440623,8\n",
      "plamsjob.006,C2H6,CC,GeometryOptimization,TZP,-1.4824247864004538,8\n",
      "plamsjob.011,CH4,C,GeometryOptimization,DZ,-0.895063427538391,5\n",
      "plamsjob.012,CH4,C,GeometryOptimization,TZP,-0.880063379024256,5\n",
      "plamsjob.017,H2O,O,GeometryOptimization,DZ,-0.501352093695396,3\n",
      "plamsjob.018,H2O,O,GeometryOptimization,TZP,-0.5194311491758227,3\n",
      "plamsjob.023,CH4O,CO,GeometryOptimization,DZ,-1.1062334880613056,6\n",
      "plamsjob.024,CH4O,CO,GeometryOptimization,TZP,-1.1046970013081945,6\n",
      "\n"
     ]
    }
   ],
   "source": [
    "from pathlib import Path\n",
    "import os\n",
    "\n",
    "path = Path(\".\") / \"analysis.csv\"\n",
    "ja.to_csv_file(path)\n",
    "\n",
    "with open(path) as f:\n",
    "    print(f.read())\n",
    "\n",
    "os.remove(path);"
   ]
  },
  {
   "cell_type": "markdown",
   "id": "a22f16c5-cc3b-4728-8ebe-ed63b91e8ef9",
   "metadata": {},
   "source": [
    "Of finally exported to a pandas dataframe."
   ]
  },
  {
   "cell_type": "code",
   "execution_count": 16,
   "id": "1bd677d8-a038-4f1f-999d-2b381b2b6803",
   "metadata": {},
   "outputs": [
    {
     "data": {
      "text/html": [
       "<div>\n",
       "<style scoped>\n",
       "    .dataframe tbody tr th:only-of-type {\n",
       "        vertical-align: middle;\n",
       "    }\n",
       "\n",
       "    .dataframe tbody tr th {\n",
       "        vertical-align: top;\n",
       "    }\n",
       "\n",
       "    .dataframe thead th {\n",
       "        text-align: right;\n",
       "    }\n",
       "</style>\n",
       "<table border=\"1\" class=\"dataframe\">\n",
       "  <thead>\n",
       "    <tr style=\"text-align: right;\">\n",
       "      <th></th>\n",
       "      <th>Name</th>\n",
       "      <th>Formula</th>\n",
       "      <th>Smiles</th>\n",
       "      <th>Task</th>\n",
       "      <th>Basis</th>\n",
       "      <th>Energy</th>\n",
       "      <th>NAtoms</th>\n",
       "    </tr>\n",
       "  </thead>\n",
       "  <tbody>\n",
       "    <tr>\n",
       "      <th>0</th>\n",
       "      <td>plamsjob.004</td>\n",
       "      <td>C2H6</td>\n",
       "      <td>CC</td>\n",
       "      <td>GeometryOptimization</td>\n",
       "      <td>DZ</td>\n",
       "      <td>-1.518834</td>\n",
       "      <td>8</td>\n",
       "    </tr>\n",
       "    <tr>\n",
       "      <th>1</th>\n",
       "      <td>plamsjob.006</td>\n",
       "      <td>C2H6</td>\n",
       "      <td>CC</td>\n",
       "      <td>GeometryOptimization</td>\n",
       "      <td>TZP</td>\n",
       "      <td>-1.482425</td>\n",
       "      <td>8</td>\n",
       "    </tr>\n",
       "    <tr>\n",
       "      <th>2</th>\n",
       "      <td>plamsjob.011</td>\n",
       "      <td>CH4</td>\n",
       "      <td>C</td>\n",
       "      <td>GeometryOptimization</td>\n",
       "      <td>DZ</td>\n",
       "      <td>-0.895063</td>\n",
       "      <td>5</td>\n",
       "    </tr>\n",
       "    <tr>\n",
       "      <th>3</th>\n",
       "      <td>plamsjob.012</td>\n",
       "      <td>CH4</td>\n",
       "      <td>C</td>\n",
       "      <td>GeometryOptimization</td>\n",
       "      <td>TZP</td>\n",
       "      <td>-0.880063</td>\n",
       "      <td>5</td>\n",
       "    </tr>\n",
       "    <tr>\n",
       "      <th>4</th>\n",
       "      <td>plamsjob.017</td>\n",
       "      <td>H2O</td>\n",
       "      <td>O</td>\n",
       "      <td>GeometryOptimization</td>\n",
       "      <td>DZ</td>\n",
       "      <td>-0.501352</td>\n",
       "      <td>3</td>\n",
       "    </tr>\n",
       "    <tr>\n",
       "      <th>5</th>\n",
       "      <td>plamsjob.018</td>\n",
       "      <td>H2O</td>\n",
       "      <td>O</td>\n",
       "      <td>GeometryOptimization</td>\n",
       "      <td>TZP</td>\n",
       "      <td>-0.519431</td>\n",
       "      <td>3</td>\n",
       "    </tr>\n",
       "    <tr>\n",
       "      <th>6</th>\n",
       "      <td>plamsjob.023</td>\n",
       "      <td>CH4O</td>\n",
       "      <td>CO</td>\n",
       "      <td>GeometryOptimization</td>\n",
       "      <td>DZ</td>\n",
       "      <td>-1.106233</td>\n",
       "      <td>6</td>\n",
       "    </tr>\n",
       "    <tr>\n",
       "      <th>7</th>\n",
       "      <td>plamsjob.024</td>\n",
       "      <td>CH4O</td>\n",
       "      <td>CO</td>\n",
       "      <td>GeometryOptimization</td>\n",
       "      <td>TZP</td>\n",
       "      <td>-1.104697</td>\n",
       "      <td>6</td>\n",
       "    </tr>\n",
       "  </tbody>\n",
       "</table>\n",
       "</div>"
      ],
      "text/plain": [
       "           Name Formula Smiles                  Task Basis    Energy  NAtoms\n",
       "0  plamsjob.004    C2H6     CC  GeometryOptimization    DZ -1.518834       8\n",
       "1  plamsjob.006    C2H6     CC  GeometryOptimization   TZP -1.482425       8\n",
       "2  plamsjob.011     CH4      C  GeometryOptimization    DZ -0.895063       5\n",
       "3  plamsjob.012     CH4      C  GeometryOptimization   TZP -0.880063       5\n",
       "4  plamsjob.017     H2O      O  GeometryOptimization    DZ -0.501352       3\n",
       "5  plamsjob.018     H2O      O  GeometryOptimization   TZP -0.519431       3\n",
       "6  plamsjob.023    CH4O     CO  GeometryOptimization    DZ -1.106233       6\n",
       "7  plamsjob.024    CH4O     CO  GeometryOptimization   TZP -1.104697       6"
      ]
     },
     "execution_count": 16,
     "metadata": {},
     "output_type": "execute_result"
    }
   ],
   "source": [
    "ja.to_dataframe()"
   ]
  },
  {
   "cell_type": "markdown",
   "id": "86533cab-9611-4c97-9549-fb2103f5ce76",
   "metadata": {},
   "source": [
    "This may be the most powerful and useful option, as then pandas can be used for the data manipulation."
   ]
  },
  {
   "cell_type": "code",
   "execution_count": null,
   "id": "42ddc01e-792a-467e-864e-6415f5432f4d",
   "metadata": {},
   "outputs": [],
   "source": []
  }
 ],
 "metadata": {
  "kernelspec": {
   "display_name": "Python 3 (ipykernel)",
   "language": "python",
   "name": "python3"
  },
  "language_info": {
   "codemirror_mode": {
    "name": "ipython",
    "version": 3
   },
   "file_extension": ".py",
   "mimetype": "text/x-python",
   "name": "python",
   "nbconvert_exporter": "python",
   "pygments_lexer": "ipython3",
   "version": "3.8.16"
  }
 },
 "nbformat": 4,
 "nbformat_minor": 5
}
