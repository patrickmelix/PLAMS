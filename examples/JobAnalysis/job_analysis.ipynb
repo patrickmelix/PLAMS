{
 "cells": [
  {
   "cell_type": "markdown",
   "id": "c68ca2c1-a940-4eda-9ee4-1e0660e7cc67",
   "metadata": {},
   "source": [
    "## Create Example Jobs"
   ]
  },
  {
   "cell_type": "markdown",
   "id": "ffa8d650-61fb-4b8f-8e60-38348d96cf51",
   "metadata": {},
   "source": [
    "Create various types of example jobs:"
   ]
  },
  {
   "cell_type": "code",
   "execution_count": 1,
   "id": "d2c2776a-5100-41c7-a4d7-3a7b308b9a59",
   "metadata": {},
   "outputs": [],
   "source": [
    "from scm.plams import from_smiles, AMSJob, PlamsError, Settings, Molecule, Atom\n",
    "from scm.libbase import UnifiedChemicalSystem as ChemicalSystem\n",
    "from scm.input_classes.drivers import AMS\n",
    "from scm.input_classes.engines import DFTB\n",
    "from scm.utils.conversions import plams_molecule_to_chemsys\n",
    "\n",
    "def example_job_dftb(smiles, task, use_chemsys = False):\n",
    "    # Generate molecule from smiles\n",
    "    mol = from_smiles(smiles)\n",
    "    if use_chemsys:\n",
    "        mol = plams_molecule_to_chemsys(mol)\n",
    "\n",
    "    # Set up calculation settings using PISA\n",
    "    sett = Settings()\n",
    "    sett.runscript.nproc = 1\n",
    "    driver = AMS()\n",
    "    driver.Task = task\n",
    "    driver.Engine = DFTB() \n",
    "    sett.input = driver\n",
    "\n",
    "    return AMSJob(molecule = mol, settings = sett)\n",
    "\n",
    "\n",
    "def example_job_adf(smiles, task, basis, gga = None, use_chemsys = False):\n",
    "    # Generate molecule from smiles\n",
    "    mol = from_smiles(smiles)\n",
    "    if use_chemsys:\n",
    "        mol = plams_molecule_to_chemsys(mol)\n",
    "\n",
    "    # Set up calculation settings using standard settings\n",
    "    sett = Settings()\n",
    "    sett.runscript.nproc = 1\n",
    "    sett.input.AMS.Task = task\n",
    "    sett.input.ADF.Basis.Type = basis\n",
    "    if gga:\n",
    "        sett.input.ADF.XC.GGA = gga\n",
    "    return AMSJob(molecule = mol, settings = sett)\n",
    "    \n",
    "\n",
    "def example_job_neb(iterations, use_chemsys = False):\n",
    "    # Set up molecules\n",
    "    main_molecule = Molecule()\n",
    "    main_molecule.add_atom(Atom(symbol=\"C\", coords=(0, 0, 0)))\n",
    "    main_molecule.add_atom(Atom(symbol=\"N\", coords=(1.18, 0, 0)))\n",
    "    main_molecule.add_atom(Atom(symbol=\"H\", coords=(2.196, 0, 0)))\n",
    "    final_molecule = main_molecule.copy()\n",
    "    final_molecule.atoms[1].x = 1.163\n",
    "    final_molecule.atoms[2].x = -1.078\n",
    "\n",
    "    mol = {\"\": main_molecule, \"final\": final_molecule}\n",
    "\n",
    "    if use_chemsys:\n",
    "        mol = {k: plams_molecule_to_chemsys(v) for k, v in mol.items()}\n",
    "\n",
    "    # Set up calculation settings\n",
    "    sett = Settings()\n",
    "    sett.runscript.nproc = 1\n",
    "    sett.input.ams.Task = \"NEB\"\n",
    "    sett.input.ams.NEB.Images = 9\n",
    "    sett.input.ams.NEB.Iterations = iterations\n",
    "    sett.input.DFTB\n",
    "        \n",
    "    return AMSJob(molecule = mol, settings = sett)"
   ]
  },
  {
   "cell_type": "markdown",
   "id": "aec4b300-ba2f-4883-bb72-a3dd303f4d22",
   "metadata": {},
   "source": [
    "Run example jobs:"
   ]
  },
  {
   "cell_type": "code",
   "execution_count": 2,
   "id": "b41d6fac-5199-4e2f-987c-8d31e37b20e9",
   "metadata": {},
   "outputs": [
    {
     "name": "stdout",
     "output_type": "stream",
     "text": [
      "[21.01|12:15:47] JOB plamsjob STARTED\n",
      "[21.01|12:15:47] JOB plamsjob STARTED\n",
      "[21.01|12:15:47] JOB plamsjob STARTED\n",
      "[21.01|12:15:47] JOB plamsjob STARTED\n",
      "[21.01|12:15:47] JOB plamsjob STARTED\n",
      "[21.01|12:15:47] Renaming job plamsjob to plamsjob.002\n",
      "[21.01|12:15:47] JOB plamsjob STARTED\n",
      "[21.01|12:15:47] JOB plamsjob STARTED\n",
      "[21.01|12:15:47] Renaming job plamsjob to plamsjob.003\n",
      "[21.01|12:15:47] JOB plamsjob STARTED\n",
      "[21.01|12:15:47] JOB plamsjob RUNNING\n",
      "[21.01|12:15:47] JOB plamsjob STARTED\n",
      "[21.01|12:15:47] Renaming job plamsjob to plamsjob.004\n",
      "[21.01|12:15:47] Renaming job plamsjob to plamsjob.005\n",
      "[21.01|12:15:47] Renaming job plamsjob to plamsjob.006\n",
      "[21.01|12:15:47] JOB plamsjob.002 RUNNING\n",
      "[21.01|12:15:47] Renaming job plamsjob to plamsjob.007\n",
      "[21.01|12:15:47] Renaming job plamsjob to plamsjob.008\n",
      "[21.01|12:15:47] JOB plamsjob.005 RUNNING\n",
      "[21.01|12:15:47] JOB plamsjob.006 RUNNING\n",
      "[21.01|12:15:47] JOB plamsjob.008 RUNNING\n",
      "[21.01|12:15:47] JOB plamsjob.003 RUNNING\n",
      "[21.01|12:15:47] JOB plamsjob.007 RUNNING\n",
      "[21.01|12:15:47] JOB plamsjob.004 RUNNING\n",
      "[21.01|12:15:47] JOB plamsjob FINISHED\n",
      "[21.01|12:15:47] JOB plamsjob.006 FINISHED\n",
      "[21.01|12:15:47] JOB plamsjob SUCCESSFUL\n",
      "[21.01|12:15:47] Renaming job plamsjob to plamsjob.009\n",
      "[21.01|12:15:47] JOB plamsjob STARTED\n",
      "[21.01|12:15:47] JOB plamsjob.009 RUNNING\n",
      "[21.01|12:15:48] JOB plamsjob.006 SUCCESSFUL\n",
      "[21.01|12:15:48] Renaming job plamsjob to plamsjob.010\n",
      "[21.01|12:15:48] JOB plamsjob STARTED\n",
      "[21.01|12:15:48] JOB plamsjob.010 RUNNING\n",
      "[21.01|12:15:48] JOB plamsjob.005 FINISHED\n",
      "[21.01|12:15:48] JOB plamsjob.005 SUCCESSFUL\n",
      "[21.01|12:15:48] Renaming job plamsjob to plamsjob.011\n",
      "[21.01|12:15:48] JOB plamsjob STARTED\n",
      "[21.01|12:15:48] JOB plamsjob.011 RUNNING\n",
      "[21.01|12:15:48] JOB plamsjob.010 FINISHED\n",
      "[21.01|12:15:49] JOB plamsjob.010 SUCCESSFUL\n",
      "[21.01|12:15:49] Renaming job plamsjob to plamsjob.012\n",
      "[21.01|12:15:49] JOB plamsjob STARTED\n",
      "[21.01|12:15:49] JOB plamsjob.012 RUNNING\n",
      "[21.01|12:15:50] JOB plamsjob.007 FINISHED\n",
      "[21.01|12:15:50] JOB plamsjob.007 SUCCESSFUL\n",
      "[21.01|12:15:50] Renaming job plamsjob to plamsjob.013\n",
      "[21.01|12:15:50] JOB plamsjob STARTED\n",
      "[21.01|12:15:50] JOB plamsjob.013 RUNNING\n",
      "[21.01|12:15:51] JOB plamsjob.013 FINISHED\n",
      "[21.01|12:15:51] JOB plamsjob.013 SUCCESSFUL\n",
      "[21.01|12:15:51] Renaming job plamsjob to plamsjob.014\n",
      "[21.01|12:15:51] JOB plamsjob STARTED\n",
      "[21.01|12:15:51] JOB plamsjob.014 RUNNING\n",
      "[21.01|12:15:52] JOB plamsjob.009 FINISHED\n",
      "[21.01|12:15:52] JOB plamsjob.009 SUCCESSFUL\n",
      "[21.01|12:15:52] Renaming job plamsjob to plamsjob.015\n",
      "[21.01|12:15:52] JOB plamsjob STARTED\n",
      "[21.01|12:15:52] JOB plamsjob.015 RUNNING\n",
      "[21.01|12:15:52] JOB plamsjob.003 FINISHED\n",
      "[21.01|12:15:52] JOB plamsjob.003 SUCCESSFUL\n",
      "[21.01|12:15:52] Renaming job plamsjob to plamsjob.016\n",
      "[21.01|12:15:52] JOB plamsjob STARTED\n",
      "[21.01|12:15:52] JOB plamsjob.016 RUNNING\n",
      "[21.01|12:15:52] JOB plamsjob.014 FINISHED\n",
      "[21.01|12:15:52] JOB plamsjob.014 SUCCESSFUL\n",
      "[21.01|12:15:52] Renaming job plamsjob to plamsjob.017\n",
      "[21.01|12:15:52] JOB plamsjob STARTED\n",
      "[21.01|12:15:52] JOB plamsjob.017 RUNNING\n",
      "[21.01|12:15:53] JOB plamsjob.016 FINISHED\n",
      "[21.01|12:15:53] JOB plamsjob.016 SUCCESSFUL\n",
      "[21.01|12:15:53] Renaming job plamsjob to plamsjob.018\n",
      "[21.01|12:15:53] JOB plamsjob STARTED\n",
      "[21.01|12:15:53] JOB plamsjob.018 RUNNING\n",
      "[21.01|12:15:55] JOB plamsjob.015 FINISHED\n",
      "[21.01|12:15:55] JOB plamsjob.015 SUCCESSFUL\n",
      "[21.01|12:15:55] Renaming job plamsjob to plamsjob.019\n",
      "[21.01|12:15:55] JOB plamsjob STARTED\n",
      "[21.01|12:15:55] JOB plamsjob.019 RUNNING\n",
      "[21.01|12:15:56] JOB plamsjob.011 FINISHED\n",
      "[21.01|12:15:56] JOB plamsjob.011 SUCCESSFUL\n",
      "[21.01|12:15:56] Renaming job plamsjob to plamsjob.020\n",
      "[21.01|12:15:56] JOB plamsjob STARTED\n",
      "[21.01|12:15:56] JOB plamsjob.020 RUNNING\n",
      "[21.01|12:15:56] JOB plamsjob.019 FINISHED\n",
      "[21.01|12:15:56] JOB plamsjob.019 SUCCESSFUL\n",
      "[21.01|12:15:56] Renaming job plamsjob to plamsjob.021\n",
      "[21.01|12:15:56] JOB plamsjob STARTED\n",
      "[21.01|12:15:56] JOB plamsjob.021 RUNNING\n",
      "[21.01|12:15:57] JOB plamsjob.017 FINISHED\n",
      "[21.01|12:15:57] JOB plamsjob.017 SUCCESSFUL\n",
      "[21.01|12:15:57] Renaming job plamsjob to plamsjob.022\n",
      "[21.01|12:15:57] JOB plamsjob STARTED\n",
      "[21.01|12:15:57] JOB plamsjob.022 RUNNING\n",
      "[21.01|12:15:58] JOB plamsjob.022 FINISHED\n",
      "[21.01|12:15:58] JOB plamsjob.022 SUCCESSFUL\n",
      "[21.01|12:15:58] Renaming job plamsjob to plamsjob.023\n",
      "[21.01|12:15:58] JOB plamsjob STARTED\n",
      "[21.01|12:15:58] JOB plamsjob.023 RUNNING\n",
      "[21.01|12:15:59] JOB plamsjob.002 FINISHED\n",
      "[21.01|12:15:59] JOB plamsjob.002 SUCCESSFUL\n",
      "[21.01|12:15:59] Renaming job plamsjob to plamsjob.024\n",
      "[21.01|12:15:59] JOB plamsjob STARTED\n",
      "[21.01|12:15:59] JOB plamsjob.024 RUNNING\n",
      "[21.01|12:16:00] JOB plamsjob.018 FINISHED\n",
      "[21.01|12:16:00] JOB plamsjob.018 SUCCESSFUL\n",
      "[21.01|12:16:00] Renaming job plamsjob to plamsjob.025\n",
      "[21.01|12:16:00] JOB plamsjob.025 RUNNING\n",
      "[21.01|12:16:00] JOB plamsjob STARTED\n",
      "[21.01|12:16:01] JOB plamsjob.020 FINISHED\n",
      "[21.01|12:16:01] JOB plamsjob.020 SUCCESSFUL\n",
      "[21.01|12:16:01] Renaming job plamsjob to plamsjob.026\n",
      "[21.01|12:16:01] JOB plamsjob.026 RUNNING\n",
      "[21.01|12:16:02] JOB plamsjob.025 FINISHED\n",
      "[21.01|12:16:02] Job plamsjob.025 reported errors. Please check the output\n",
      "[21.01|12:16:02] JOB plamsjob.025 FAILED\n",
      "[21.01|12:16:02] Job plamsjob.025 reported errors. Please check the output\n",
      "[21.01|12:16:02] Error message for job plamsjob.025 was:\n",
      "\tNEB optimization did NOT converge\n",
      "[21.01|12:16:02] Job plamsjob.025 reported errors. Please check the output\n",
      "[21.01|12:16:02] Job plamsjob.025 reported errors. Please check the output\n",
      "[21.01|12:16:03] JOB plamsjob.026 FINISHED\n",
      "[21.01|12:16:03] JOB plamsjob.026 SUCCESSFUL\n",
      "[21.01|12:16:04] JOB plamsjob.021 FINISHED\n",
      "[21.01|12:16:04] JOB plamsjob.021 SUCCESSFUL\n",
      "[21.01|12:16:05] JOB plamsjob.012 FINISHED\n",
      "[21.01|12:16:05] JOB plamsjob.012 SUCCESSFUL\n",
      "[21.01|12:16:10] JOB plamsjob.023 FINISHED\n",
      "[21.01|12:16:10] JOB plamsjob.023 SUCCESSFUL\n",
      "[21.01|12:16:13] JOB plamsjob.004 FINISHED\n",
      "[21.01|12:16:13] JOB plamsjob.004 SUCCESSFUL\n",
      "[21.01|12:16:21] JOB plamsjob.024 FINISHED\n",
      "[21.01|12:16:21] JOB plamsjob.024 SUCCESSFUL\n",
      "[21.01|12:16:37] JOB plamsjob.008 FINISHED\n",
      "[21.01|12:16:37] JOB plamsjob.008 SUCCESSFUL\n"
     ]
    }
   ],
   "source": [
    "from scm.plams import config, JobRunner\n",
    "config.default_jobrunner = JobRunner(parallel=True, maxthreads = 8)\n",
    "\n",
    "smiles = [\"CC\", \"C\", \"O\", \"CO\"]\n",
    "tasks = [\"SinglePoint\", \"GeometryOptimization\"]\n",
    "engines = [\"DFTB\", \"ADF\"]\n",
    "jobs = []\n",
    "for i, s in enumerate(smiles):\n",
    "    for j, t in enumerate(tasks):\n",
    "        job_dftb = example_job_dftb(s, t, use_chemsys = i % 2)\n",
    "        job_adf1 = example_job_adf(s, t, \"DZ\", use_chemsys = True)\n",
    "        job_adf2 = example_job_adf(s, t, \"TZP\", \"PBE\")\n",
    "        jobs += [job_dftb, job_adf1, job_adf2]\n",
    "\n",
    "job_neb1 = example_job_neb(10)\n",
    "job_neb2 = example_job_neb(100, use_chemsys=True)\n",
    "jobs += [job_neb1, job_neb2]\n",
    "\n",
    "for j in jobs:\n",
    "    j.run()"
   ]
  },
  {
   "cell_type": "code",
   "execution_count": 3,
   "id": "b21c3307-9e8e-49c6-84e6-22fcab4e4dd8",
   "metadata": {},
   "outputs": [
    {
     "name": "stdout",
     "output_type": "stream",
     "text": [
      "[21.01|12:16:01] Waiting for job plamsjob.004 to finish\n",
      "[21.01|12:16:13] Waiting for job plamsjob.008 to finish\n"
     ]
    }
   ],
   "source": [
    "for j in jobs:\n",
    "    j.results.wait()"
   ]
  },
  {
   "cell_type": "markdown",
   "id": "250fbaee-ffa7-4d2b-b643-014693b0cadd",
   "metadata": {},
   "source": [
    "Delete the .dill file associated with some jobs:"
   ]
  },
  {
   "cell_type": "code",
   "execution_count": 14,
   "id": "6a0d744f-96bd-4cd0-bfe7-c076f3d19f21",
   "metadata": {},
   "outputs": [],
   "source": [
    "from pathlib import Path\n",
    "import os \n",
    "\n",
    "for j in jobs:\n",
    "    if j.name.endswith(\".005\"):\n",
    "        path = Path(j.path) / f\"{j.name}.dill\"\n",
    "        os.remove(path)"
   ]
  },
  {
   "cell_type": "markdown",
   "id": "0d7e3247-a30d-4520-975a-4619ce927d71",
   "metadata": {},
   "source": [
    "## Job Analysis"
   ]
  },
  {
   "cell_type": "markdown",
   "id": "402352bc-3f54-42ae-ac94-70c56f7a7953",
   "metadata": {},
   "source": [
    "### Loading Jobs\n",
    "\n",
    "Jobs can be loaded by passing job objects, or loading from a path."
   ]
  },
  {
   "cell_type": "code",
   "execution_count": 15,
   "id": "4ebf6505-6489-4e29-af55-60b2e3d71663",
   "metadata": {},
   "outputs": [],
   "source": [
    "from scm.plams import JobAnalysis"
   ]
  },
  {
   "cell_type": "code",
   "execution_count": 20,
   "id": "c60b2999-dda2-4dbd-8b37-96303407b68e",
   "metadata": {},
   "outputs": [],
   "source": [
    "ja = JobAnalysis(jobs = jobs[:4], paths = [j.path for j in jobs[4:]])"
   ]
  },
  {
   "cell_type": "code",
   "execution_count": 25,
   "id": "80a4c235-953d-4f43-8217-f92082fe30d2",
   "metadata": {},
   "outputs": [
    {
     "name": "stdout",
     "output_type": "stream",
     "text": [
      "[21.01|12:29:52] Job plamsjob.025 reported errors. Please check the output\n",
      "[21.01|12:29:52] Job plamsjob.025 reported errors. Please check the output\n",
      "| Path                                                                                               | Name         | OK   | Check | ErrorMsg                          | Formula           | Smiles | CPUTime   | SysTime  | ElapsedTime         |\n",
      "|----------------------------------------------------------------------------------------------------|--------------|------|-------|-----------------------------------|-------------------|--------|-----------|----------|---------------------|\n",
      "| /Users/ormrodmorley/Documents/code/plams/scm/plams/examples/JobAnalysis/plams_workdir/plamsjob     | plamsjob     | True | True  | None                              | C2H6              | CC     | 0.225823  | 0.034566 | 0.27295899391174316 |\n",
      "| /Users/ormrodmorley/Documents/code/plams/scm/plams/examples/JobAnalysis/plams_workdir/plamsjob.003 | plamsjob.003 | True | True  | None                              | C2H6              | None   | 4.208815  | 0.134467 | 4.659122943878174   |\n",
      "| /Users/ormrodmorley/Documents/code/plams/scm/plams/examples/JobAnalysis/plams_workdir/plamsjob.002 | plamsjob.002 | True | True  | None                              | C2H6              | CC     | 9.467274  | 0.322077 | 12.163656949996948  |\n",
      "| /Users/ormrodmorley/Documents/code/plams/scm/plams/examples/JobAnalysis/plams_workdir/plamsjob.005 | plamsjob.005 | True | True  | None                              | C2H6              | CC     | 0.302965  | 0.025758 | 0.3385169506072998  |\n",
      "| /Users/ormrodmorley/Documents/code/plams/scm/plams/examples/JobAnalysis/plams_workdir/plamsjob.004 | plamsjob.004 | True | True  | None                              | C2H6              | CC     | 21.249448 | 0.933419 | 25.560773849487305  |\n",
      "| /Users/ormrodmorley/Documents/code/plams/scm/plams/examples/JobAnalysis/plams_workdir/plamsjob.008 | plamsjob.008 | True | True  | None                              | C2H6              | CC     | 44.307818 | 1.745744 | 49.75128102302551   |\n",
      "| /Users/ormrodmorley/Documents/code/plams/scm/plams/examples/JobAnalysis/plams_workdir/plamsjob.006 | plamsjob.006 | True | True  | None                              | CH4               | C      | 0.243897  | 0.015425 | 0.23845505714416504 |\n",
      "| /Users/ormrodmorley/Documents/code/plams/scm/plams/examples/JobAnalysis/plams_workdir/plamsjob.007 | plamsjob.007 | True | True  | None                              | CH4               | C      | 2.297564  | 0.114339 | 2.7606658935546875  |\n",
      "| /Users/ormrodmorley/Documents/code/plams/scm/plams/examples/JobAnalysis/plams_workdir/plamsjob.009 | plamsjob.009 | True | True  | None                              | CH4               | C      | 3.989499  | 0.150688 | 4.441318988800049   |\n",
      "| /Users/ormrodmorley/Documents/code/plams/scm/plams/examples/JobAnalysis/plams_workdir/plamsjob.010 | plamsjob.010 | True | True  | None                              | CH4               | C      | 0.270885  | 0.02238  | 0.3997189998626709  |\n",
      "| /Users/ormrodmorley/Documents/code/plams/scm/plams/examples/JobAnalysis/plams_workdir/plamsjob.011 | plamsjob.011 | True | True  | None                              | CH4               | C      | 6.328213  | 0.326048 | 7.92263388633728    |\n",
      "| /Users/ormrodmorley/Documents/code/plams/scm/plams/examples/JobAnalysis/plams_workdir/plamsjob.012 | plamsjob.012 | True | True  | None                              | CH4               | C      | 13.215007 | 0.591002 | 16.501317977905273  |\n",
      "| /Users/ormrodmorley/Documents/code/plams/scm/plams/examples/JobAnalysis/plams_workdir/plamsjob.013 | plamsjob.013 | True | True  | None                              | H2O               | O      | 0.233984  | 0.009584 | 0.22102999687194824 |\n",
      "| /Users/ormrodmorley/Documents/code/plams/scm/plams/examples/JobAnalysis/plams_workdir/plamsjob.014 | plamsjob.014 | True | True  | None                              | H2O               | O      | 1.355026  | 0.069517 | 1.42193603515625    |\n",
      "| /Users/ormrodmorley/Documents/code/plams/scm/plams/examples/JobAnalysis/plams_workdir/plamsjob.015 | plamsjob.015 | True | True  | None                              | H2O               | O      | 1.96734   | 0.109336 | 2.7393620014190674  |\n",
      "| /Users/ormrodmorley/Documents/code/plams/scm/plams/examples/JobAnalysis/plams_workdir/plamsjob.016 | plamsjob.016 | True | True  | None                              | H2O               | O      | 0.258916  | 0.019335 | 0.266279935836792   |\n",
      "| /Users/ormrodmorley/Documents/code/plams/scm/plams/examples/JobAnalysis/plams_workdir/plamsjob.017 | plamsjob.017 | True | True  | None                              | H2O               | O      | 2.891674  | 0.219136 | 4.122140884399414   |\n",
      "| /Users/ormrodmorley/Documents/code/plams/scm/plams/examples/JobAnalysis/plams_workdir/plamsjob.018 | plamsjob.018 | True | True  | None                              | H2O               | O      | 4.662822  | 0.289615 | 6.8816609382629395  |\n",
      "| /Users/ormrodmorley/Documents/code/plams/scm/plams/examples/JobAnalysis/plams_workdir/plamsjob.019 | plamsjob.019 | True | True  | None                              | CH4O              | CO     | 0.23819   | 0.015557 | 0.4182400703430176  |\n",
      "| /Users/ormrodmorley/Documents/code/plams/scm/plams/examples/JobAnalysis/plams_workdir/plamsjob.020 | plamsjob.020 | True | True  | None                              | CH4O              | CO     | 3.472334  | 0.162256 | 4.928382158279419   |\n",
      "| /Users/ormrodmorley/Documents/code/plams/scm/plams/examples/JobAnalysis/plams_workdir/plamsjob.021 | plamsjob.021 | True | True  | None                              | CH4O              | CO     | 6.068759  | 0.249427 | 7.857968807220459   |\n",
      "| /Users/ormrodmorley/Documents/code/plams/scm/plams/examples/JobAnalysis/plams_workdir/plamsjob.022 | plamsjob.022 | True | True  | None                              | CH4O              | CO     | 0.296064  | 0.027982 | 0.4462239742279053  |\n",
      "| /Users/ormrodmorley/Documents/code/plams/scm/plams/examples/JobAnalysis/plams_workdir/plamsjob.023 | plamsjob.023 | True | True  | None                              | CH4O              | CO     | 9.804789  | 0.425408 | 11.385855913162231  |\n",
      "| /Users/ormrodmorley/Documents/code/plams/scm/plams/examples/JobAnalysis/plams_workdir/plamsjob.024 | plamsjob.024 | True | True  | None                              | CH4O              | CO     | 19.518498 | 0.758498 | 21.437322854995728  |\n",
      "| /Users/ormrodmorley/Documents/code/plams/scm/plams/examples/JobAnalysis/plams_workdir/plamsjob.025 | plamsjob.025 | True | False | NEB optimization did NOT converge | : CHN, final: CHN | None   | 0.694829  | 0.151819 | 1.1948308944702148  |\n",
      "| /Users/ormrodmorley/Documents/code/plams/scm/plams/examples/JobAnalysis/plams_workdir/plamsjob.026 | plamsjob.026 | True | True  | None                              | : CHN, final: CHN | None   | 1.018886  | 0.204295 | 1.2858049869537354  |\n"
     ]
    }
   ],
   "source": [
    "print(ja.to_table())"
   ]
  },
  {
   "cell_type": "code",
   "execution_count": null,
   "id": "6f554635-2c9f-4de3-9f7b-a870d8dc0eed",
   "metadata": {},
   "outputs": [],
   "source": []
  }
 ],
 "metadata": {
  "kernelspec": {
   "display_name": "Python 3 (ipykernel)",
   "language": "python",
   "name": "python3"
  },
  "language_info": {
   "codemirror_mode": {
    "name": "ipython",
    "version": 3
   },
   "file_extension": ".py",
   "mimetype": "text/x-python",
   "name": "python",
   "nbconvert_exporter": "python",
   "pygments_lexer": "ipython3",
   "version": "3.8.16"
  }
 },
 "nbformat": 4,
 "nbformat_minor": 5
}
