{
 "cells": [
  {
   "cell_type": "markdown",
   "id": "c68ca2c1-a940-4eda-9ee4-1e0660e7cc67",
   "metadata": {},
   "source": [
    "## Create Example Jobs"
   ]
  },
  {
   "cell_type": "markdown",
   "id": "ffa8d650-61fb-4b8f-8e60-38348d96cf51",
   "metadata": {},
   "source": [
    "To begin with, create a variety of AMS jobs with different settings, engines and calculation types."
   ]
  },
  {
   "cell_type": "code",
   "execution_count": 1,
   "id": "d2c2776a-5100-41c7-a4d7-3a7b308b9a59",
   "metadata": {},
   "outputs": [],
   "source": [
    "from scm.plams import from_smiles, AMSJob, PlamsError, Settings, Molecule, Atom\n",
    "from scm.libbase import UnifiedChemicalSystem as ChemicalSystem\n",
    "from scm.input_classes.drivers import AMS\n",
    "from scm.input_classes.engines import DFTB\n",
    "from scm.utils.conversions import plams_molecule_to_chemsys\n",
    "\n",
    "\n",
    "def example_job_dftb(smiles, task, use_chemsys=False):\n",
    "    # Generate molecule from smiles\n",
    "    mol = from_smiles(smiles)\n",
    "    if use_chemsys:\n",
    "        mol = plams_molecule_to_chemsys(mol)\n",
    "\n",
    "    # Set up calculation settings using PISA\n",
    "    sett = Settings()\n",
    "    sett.runscript.nproc = 1\n",
    "    driver = AMS()\n",
    "    driver.Task = task\n",
    "    driver.Engine = DFTB()\n",
    "    sett.input = driver\n",
    "    return AMSJob(molecule=mol, settings=sett)\n",
    "\n",
    "\n",
    "def example_job_adf(smiles, task, basis, gga=None, use_chemsys=False):\n",
    "    # Generate molecule from smiles\n",
    "    mol = from_smiles(smiles)\n",
    "    if use_chemsys:\n",
    "        mol = plams_molecule_to_chemsys(mol)\n",
    "\n",
    "    # Set up calculation settings using standard settings\n",
    "    sett = Settings()\n",
    "    sett.runscript.nproc = 1\n",
    "    sett.input.AMS.Task = task\n",
    "    sett.input.ADF.Basis.Type = basis\n",
    "    if gga:\n",
    "        sett.input.ADF.XC.GGA = gga\n",
    "    return AMSJob(molecule=mol, settings=sett)\n",
    "\n",
    "\n",
    "def example_job_neb(iterations, use_chemsys=False):\n",
    "    # Set up molecules\n",
    "    main_molecule = Molecule()\n",
    "    main_molecule.add_atom(Atom(symbol=\"C\", coords=(0, 0, 0)))\n",
    "    main_molecule.add_atom(Atom(symbol=\"N\", coords=(1.18, 0, 0)))\n",
    "    main_molecule.add_atom(Atom(symbol=\"H\", coords=(2.196, 0, 0)))\n",
    "    final_molecule = main_molecule.copy()\n",
    "    final_molecule.atoms[1].x = 1.163\n",
    "    final_molecule.atoms[2].x = -1.078\n",
    "\n",
    "    mol = {\"\": main_molecule, \"final\": final_molecule}\n",
    "\n",
    "    if use_chemsys:\n",
    "        mol = {k: plams_molecule_to_chemsys(v) for k, v in mol.items()}\n",
    "\n",
    "    # Set up calculation settings\n",
    "    sett = Settings()\n",
    "    sett.runscript.nproc = 1\n",
    "    sett.input.ams.Task = \"NEB\"\n",
    "    sett.input.ams.NEB.Images = 9\n",
    "    sett.input.ams.NEB.Iterations = iterations\n",
    "    sett.input.DFTB\n",
    "\n",
    "    return AMSJob(molecule=mol, settings=sett)"
   ]
  },
  {
   "cell_type": "markdown",
   "id": "aec4b300-ba2f-4883-bb72-a3dd303f4d22",
   "metadata": {},
   "source": [
    "Now, run a selection of them."
   ]
  },
  {
   "cell_type": "code",
   "execution_count": 2,
   "id": "b41d6fac-5199-4e2f-987c-8d31e37b20e9",
   "metadata": {},
   "outputs": [
    {
     "name": "stdout",
     "output_type": "stream",
     "text": [
      "[07.02|13:52:49] JOB plamsjob STARTED\n",
      "[07.02|13:52:49] JOB plamsjob STARTED\n",
      "[07.02|13:52:49] JOB plamsjob STARTED\n",
      "[07.02|13:52:49] JOB plamsjob STARTED\n",
      "[07.02|13:52:49] JOB plamsjob STARTED\n",
      "[07.02|13:52:49] Renaming job plamsjob to plamsjob.002\n",
      "[07.02|13:52:49] JOB plamsjob RUNNING\n",
      "[07.02|13:52:49] JOB plamsjob STARTED\n",
      "[07.02|13:52:49] Renaming job plamsjob to plamsjob.003\n",
      "[07.02|13:52:49] JOB plamsjob STARTED\n",
      "[07.02|13:52:49] JOB plamsjob STARTED\n",
      "[07.02|13:52:49] Renaming job plamsjob to plamsjob.004\n",
      "[07.02|13:52:49] JOB plamsjob STARTED\n",
      "[07.02|13:52:49] Renaming job plamsjob to plamsjob.005\n",
      "[07.02|13:52:49] Renaming job plamsjob to plamsjob.006\n",
      "[07.02|13:52:49] Renaming job plamsjob to plamsjob.007\n",
      "[07.02|13:52:49] Renaming job plamsjob to plamsjob.008\n",
      "[07.02|13:52:49] JOB plamsjob.002 RUNNING\n",
      "[07.02|13:52:49] JOB plamsjob.004 RUNNING\n",
      "[07.02|13:52:49] JOB plamsjob.003 RUNNING\n",
      "[07.02|13:52:49] JOB plamsjob.007 RUNNING\n",
      "[07.02|13:52:49] JOB plamsjob.005 RUNNING\n",
      "[07.02|13:52:49] JOB plamsjob.006 RUNNING\n",
      "[07.02|13:52:49] JOB plamsjob.008 RUNNING\n",
      "[07.02|13:52:50] JOB plamsjob FINISHED\n",
      "[07.02|13:52:50] JOB plamsjob.007 FINISHED\n",
      "[07.02|13:52:50] JOB plamsjob.007 SUCCESSFUL\n",
      "[07.02|13:52:50] JOB plamsjob SUCCESSFUL\n",
      "[07.02|13:52:50] Renaming job plamsjob to plamsjob.009\n",
      "[07.02|13:52:50] JOB plamsjob STARTED\n",
      "[07.02|13:52:50] JOB plamsjob STARTED\n",
      "[07.02|13:52:50] JOB plamsjob.004 FINISHED\n",
      "[07.02|13:52:50] Renaming job plamsjob to plamsjob.010\n",
      "[07.02|13:52:50] JOB plamsjob.009 RUNNING\n",
      "[07.02|13:52:50] JOB plamsjob.004 SUCCESSFUL\n",
      "[07.02|13:52:50] JOB plamsjob.010 RUNNING\n",
      "[07.02|13:52:50] JOB plamsjob STARTED\n",
      "[07.02|13:52:50] Renaming job plamsjob to plamsjob.011\n",
      "[07.02|13:52:50] JOB plamsjob.011 RUNNING\n",
      "[07.02|13:52:51] JOB plamsjob.010 FINISHED\n",
      "[07.02|13:52:51] JOB plamsjob.010 SUCCESSFUL\n",
      "[07.02|13:52:51] Renaming job plamsjob to plamsjob.012\n",
      "[07.02|13:52:51] JOB plamsjob STARTED\n",
      "[07.02|13:52:51] JOB plamsjob.012 RUNNING\n",
      "[07.02|13:52:54] JOB plamsjob.008 FINISHED\n",
      "[07.02|13:52:54] JOB plamsjob.008 SUCCESSFUL\n",
      "[07.02|13:52:54] Renaming job plamsjob to plamsjob.013\n",
      "[07.02|13:52:54] JOB plamsjob STARTED\n",
      "[07.02|13:52:54] JOB plamsjob.013 RUNNING\n",
      "[07.02|13:52:54] JOB plamsjob.013 FINISHED\n",
      "[07.02|13:52:54] JOB plamsjob.013 SUCCESSFUL\n",
      "[07.02|13:52:54] Renaming job plamsjob to plamsjob.014\n",
      "[07.02|13:52:54] JOB plamsjob STARTED\n",
      "[07.02|13:52:54] JOB plamsjob.014 RUNNING\n",
      "[07.02|13:52:56] JOB plamsjob.002 FINISHED\n",
      "[07.02|13:52:56] JOB plamsjob.002 SUCCESSFUL\n",
      "[07.02|13:52:56] Renaming job plamsjob to plamsjob.015\n",
      "[07.02|13:52:56] JOB plamsjob STARTED\n",
      "[07.02|13:52:56] JOB plamsjob.015 RUNNING\n",
      "[07.02|13:52:57] JOB plamsjob.009 FINISHED\n",
      "[07.02|13:52:57] JOB plamsjob.009 SUCCESSFUL\n",
      "[07.02|13:52:57] Renaming job plamsjob to plamsjob.016\n",
      "[07.02|13:52:57] JOB plamsjob STARTED\n",
      "[07.02|13:52:57] JOB plamsjob.016 RUNNING\n",
      "[07.02|13:52:57] JOB plamsjob.014 FINISHED\n",
      "[07.02|13:52:57] JOB plamsjob.014 SUCCESSFUL\n",
      "[07.02|13:52:57] Renaming job plamsjob to plamsjob.017\n",
      "[07.02|13:52:57] JOB plamsjob STARTED\n",
      "[07.02|13:52:57] JOB plamsjob.017 RUNNING\n",
      "[07.02|13:52:57] JOB plamsjob.016 FINISHED\n",
      "[07.02|13:52:57] JOB plamsjob.016 SUCCESSFUL\n",
      "[07.02|13:52:57] Renaming job plamsjob to plamsjob.018\n",
      "[07.02|13:52:57] JOB plamsjob STARTED\n",
      "[07.02|13:52:57] JOB plamsjob.018 RUNNING\n",
      "[07.02|13:52:59] JOB plamsjob.015 FINISHED\n",
      "[07.02|13:52:59] JOB plamsjob.015 SUCCESSFUL\n",
      "[07.02|13:52:59] Renaming job plamsjob to plamsjob.019\n",
      "[07.02|13:52:59] JOB plamsjob STARTED\n",
      "[07.02|13:52:59] JOB plamsjob.019 RUNNING\n",
      "[07.02|13:53:00] JOB plamsjob.019 FINISHED\n",
      "[07.02|13:53:00] JOB plamsjob.019 SUCCESSFUL\n",
      "[07.02|13:53:00] Renaming job plamsjob to plamsjob.020\n",
      "[07.02|13:53:00] JOB plamsjob STARTED\n",
      "[07.02|13:53:00] JOB plamsjob.020 RUNNING\n",
      "[07.02|13:53:00] JOB plamsjob.011 FINISHED\n",
      "[07.02|13:53:01] JOB plamsjob.011 SUCCESSFUL\n",
      "[07.02|13:53:01] Renaming job plamsjob to plamsjob.021\n",
      "[07.02|13:53:01] JOB plamsjob STARTED\n",
      "[07.02|13:53:01] JOB plamsjob.021 RUNNING\n",
      "[07.02|13:53:02] JOB plamsjob.017 FINISHED\n",
      "[07.02|13:53:02] JOB plamsjob.017 SUCCESSFUL\n",
      "[07.02|13:53:03] Renaming job plamsjob to plamsjob.022\n",
      "[07.02|13:53:03] JOB plamsjob STARTED\n",
      "[07.02|13:53:03] JOB plamsjob.022 RUNNING\n",
      "[07.02|13:53:04] JOB plamsjob.022 FINISHED\n",
      "[07.02|13:53:04] JOB plamsjob.022 SUCCESSFUL\n",
      "[07.02|13:53:04] Renaming job plamsjob to plamsjob.023\n",
      "[07.02|13:53:04] JOB plamsjob STARTED\n",
      "[07.02|13:53:04] JOB plamsjob.023 RUNNING\n",
      "[07.02|13:53:04] JOB plamsjob.003 FINISHED\n",
      "[07.02|13:53:04] JOB plamsjob.003 SUCCESSFUL\n",
      "[07.02|13:53:04] Renaming job plamsjob to plamsjob.024\n",
      "[07.02|13:53:04] JOB plamsjob STARTED\n",
      "[07.02|13:53:04] JOB plamsjob.024 RUNNING\n",
      "[07.02|13:53:06] JOB plamsjob.018 FINISHED\n",
      "[07.02|13:53:06] JOB plamsjob.018 SUCCESSFUL\n",
      "[07.02|13:53:06] Renaming job plamsjob to plamsjob.025\n",
      "[07.02|13:53:06] JOB plamsjob STARTED\n",
      "[07.02|13:53:06] JOB plamsjob.025 RUNNING\n",
      "[07.02|13:53:07] JOB plamsjob.020 FINISHED\n",
      "[07.02|13:53:07] JOB plamsjob.020 SUCCESSFUL\n",
      "[07.02|13:53:07] Renaming job plamsjob to plamsjob.026\n",
      "[07.02|13:53:07] JOB plamsjob.026 RUNNING\n"
     ]
    }
   ],
   "source": [
    "from scm.plams import config, JobRunner\n",
    "\n",
    "config.default_jobrunner = JobRunner(parallel=True, maxthreads=8)\n",
    "\n",
    "smiles = [\"CC\", \"C\", \"O\", \"CO\"]\n",
    "tasks = [\"SinglePoint\", \"GeometryOptimization\"]\n",
    "engines = [\"DFTB\", \"ADF\"]\n",
    "jobs = []\n",
    "for i, s in enumerate(smiles):\n",
    "    for j, t in enumerate(tasks):\n",
    "        job_dftb = example_job_dftb(s, t, use_chemsys=i % 2)\n",
    "        job_adf1 = example_job_adf(s, t, \"DZ\", use_chemsys=True)\n",
    "        job_adf2 = example_job_adf(s, t, \"TZP\", \"PBE\")\n",
    "        jobs += [job_dftb, job_adf1, job_adf2]\n",
    "\n",
    "job_neb1 = example_job_neb(10)\n",
    "job_neb2 = example_job_neb(100, use_chemsys=True)\n",
    "jobs += [job_neb1, job_neb2]\n",
    "\n",
    "for j in jobs:\n",
    "    j.run()"
   ]
  },
  {
   "cell_type": "markdown",
   "id": "0d7e3247-a30d-4520-975a-4619ce927d71",
   "metadata": {},
   "source": [
    "## Job Analysis"
   ]
  },
  {
   "cell_type": "markdown",
   "id": "402352bc-3f54-42ae-ac94-70c56f7a7953",
   "metadata": {},
   "source": [
    "### Adding and Loading Jobs\n",
    "\n",
    "Jobs can be loaded by passing job objects directly, or loading from a path."
   ]
  },
  {
   "cell_type": "code",
   "execution_count": 3,
   "id": "4ebf6505-6489-4e29-af55-60b2e3d71663",
   "metadata": {},
   "outputs": [],
   "source": [
    "from scm.plams import JobAnalysis"
   ]
  },
  {
   "cell_type": "code",
   "execution_count": 11,
   "id": "c60b2999-dda2-4dbd-8b37-96303407b68e",
   "metadata": {},
   "outputs": [],
   "source": [
    "ja = JobAnalysis(jobs=jobs[:10], paths=[j.path for j in jobs[10:-2]])"
   ]
  },
  {
   "cell_type": "markdown",
   "id": "dbf478f5-474c-4913-b082-b7d23030b61b",
   "metadata": {},
   "source": [
    "Jobs can also be added or removed after initialization."
   ]
  },
  {
   "cell_type": "code",
   "execution_count": 12,
   "id": "6d77b6f7-ccbd-4bac-b406-272d19386d64",
   "metadata": {},
   "outputs": [
    {
     "data": {
      "text/html": [
       "<div style=\"max-width: 100%; overflow-x: auto;\">\n",
       "<table border=\"1\" style=\"border-collapse: collapse; width: auto; \">\n",
       "<thead><tr><th>Path                                                                                                              <th>Name        <th>OK   <th>Check<th>ErrorMsg                         </th></tr></thead>\n",
       "<tbody>\n",
       "<tr><td>/Users/ormrodmorley/Documents/code/ams/amshome/scripting/scm/plams/examples/JobAnalysis/plams_workdir/plamsjob    </td><td>plamsjob    </td><td>True </td><td>True </td><td>None                             </td></tr>\n",
       "<tr><td>/Users/ormrodmorley/Documents/code/ams/amshome/scripting/scm/plams/examples/JobAnalysis/plams_workdir/plamsjob.002</td><td>plamsjob.002</td><td>True </td><td>True </td><td>None                             </td></tr>\n",
       "<tr><td>/Users/ormrodmorley/Documents/code/ams/amshome/scripting/scm/plams/examples/JobAnalysis/plams_workdir/plamsjob.003</td><td>plamsjob.003</td><td>True </td><td>True </td><td>None                             </td></tr>\n",
       "<tr><td>/Users/ormrodmorley/Documents/code/ams/amshome/scripting/scm/plams/examples/JobAnalysis/plams_workdir/plamsjob.004</td><td>plamsjob.004</td><td>True </td><td>True </td><td>None                             </td></tr>\n",
       "<tr><td>/Users/ormrodmorley/Documents/code/ams/amshome/scripting/scm/plams/examples/JobAnalysis/plams_workdir/plamsjob.005</td><td>plamsjob.005</td><td>True </td><td>True </td><td>None                             </td></tr>\n",
       "<tr><td>/Users/ormrodmorley/Documents/code/ams/amshome/scripting/scm/plams/examples/JobAnalysis/plams_workdir/plamsjob.006</td><td>plamsjob.006</td><td>True </td><td>True </td><td>None                             </td></tr>\n",
       "<tr><td>/Users/ormrodmorley/Documents/code/ams/amshome/scripting/scm/plams/examples/JobAnalysis/plams_workdir/plamsjob.007</td><td>plamsjob.007</td><td>True </td><td>True </td><td>None                             </td></tr>\n",
       "<tr><td>/Users/ormrodmorley/Documents/code/ams/amshome/scripting/scm/plams/examples/JobAnalysis/plams_workdir/plamsjob.008</td><td>plamsjob.008</td><td>True </td><td>True </td><td>None                             </td></tr>\n",
       "<tr><td>/Users/ormrodmorley/Documents/code/ams/amshome/scripting/scm/plams/examples/JobAnalysis/plams_workdir/plamsjob.009</td><td>plamsjob.009</td><td>True </td><td>True </td><td>None                             </td></tr>\n",
       "<tr><td>/Users/ormrodmorley/Documents/code/ams/amshome/scripting/scm/plams/examples/JobAnalysis/plams_workdir/plamsjob.010</td><td>plamsjob.010</td><td>True </td><td>True </td><td>None                             </td></tr>\n",
       "<tr><td>/Users/ormrodmorley/Documents/code/ams/amshome/scripting/scm/plams/examples/JobAnalysis/plams_workdir/plamsjob.011</td><td>plamsjob.011</td><td>True </td><td>True </td><td>None                             </td></tr>\n",
       "<tr><td>/Users/ormrodmorley/Documents/code/ams/amshome/scripting/scm/plams/examples/JobAnalysis/plams_workdir/plamsjob.012</td><td>plamsjob.012</td><td>True </td><td>True </td><td>None                             </td></tr>\n",
       "<tr><td>/Users/ormrodmorley/Documents/code/ams/amshome/scripting/scm/plams/examples/JobAnalysis/plams_workdir/plamsjob.013</td><td>plamsjob.013</td><td>True </td><td>True </td><td>None                             </td></tr>\n",
       "<tr><td>/Users/ormrodmorley/Documents/code/ams/amshome/scripting/scm/plams/examples/JobAnalysis/plams_workdir/plamsjob.014</td><td>plamsjob.014</td><td>True </td><td>True </td><td>None                             </td></tr>\n",
       "<tr><td>/Users/ormrodmorley/Documents/code/ams/amshome/scripting/scm/plams/examples/JobAnalysis/plams_workdir/plamsjob.015</td><td>plamsjob.015</td><td>True </td><td>True </td><td>None                             </td></tr>\n",
       "<tr><td>/Users/ormrodmorley/Documents/code/ams/amshome/scripting/scm/plams/examples/JobAnalysis/plams_workdir/plamsjob.016</td><td>plamsjob.016</td><td>True </td><td>True </td><td>None                             </td></tr>\n",
       "<tr><td>/Users/ormrodmorley/Documents/code/ams/amshome/scripting/scm/plams/examples/JobAnalysis/plams_workdir/plamsjob.017</td><td>plamsjob.017</td><td>True </td><td>True </td><td>None                             </td></tr>\n",
       "<tr><td>/Users/ormrodmorley/Documents/code/ams/amshome/scripting/scm/plams/examples/JobAnalysis/plams_workdir/plamsjob.018</td><td>plamsjob.018</td><td>True </td><td>True </td><td>None                             </td></tr>\n",
       "<tr><td>/Users/ormrodmorley/Documents/code/ams/amshome/scripting/scm/plams/examples/JobAnalysis/plams_workdir/plamsjob.019</td><td>plamsjob.019</td><td>True </td><td>True </td><td>None                             </td></tr>\n",
       "<tr><td>/Users/ormrodmorley/Documents/code/ams/amshome/scripting/scm/plams/examples/JobAnalysis/plams_workdir/plamsjob.020</td><td>plamsjob.020</td><td>True </td><td>True </td><td>None                             </td></tr>\n",
       "<tr><td>/Users/ormrodmorley/Documents/code/ams/amshome/scripting/scm/plams/examples/JobAnalysis/plams_workdir/plamsjob.021</td><td>plamsjob.021</td><td>True </td><td>True </td><td>None                             </td></tr>\n",
       "<tr><td>/Users/ormrodmorley/Documents/code/ams/amshome/scripting/scm/plams/examples/JobAnalysis/plams_workdir/plamsjob.022</td><td>plamsjob.022</td><td>True </td><td>True </td><td>None                             </td></tr>\n",
       "<tr><td>/Users/ormrodmorley/Documents/code/ams/amshome/scripting/scm/plams/examples/JobAnalysis/plams_workdir/plamsjob.023</td><td>plamsjob.023</td><td>True </td><td>True </td><td>None                             </td></tr>\n",
       "<tr><td>/Users/ormrodmorley/Documents/code/ams/amshome/scripting/scm/plams/examples/JobAnalysis/plams_workdir/plamsjob.024</td><td>plamsjob.024</td><td>True </td><td>True </td><td>None                             </td></tr>\n",
       "<tr><td>/Users/ormrodmorley/Documents/code/ams/amshome/scripting/scm/plams/examples/JobAnalysis/plams_workdir/plamsjob.025</td><td>plamsjob.025</td><td>False</td><td>False</td><td>NEB optimization did NOT converge</td></tr>\n",
       "<tr><td>/Users/ormrodmorley/Documents/code/ams/amshome/scripting/scm/plams/examples/JobAnalysis/plams_workdir/plamsjob.026</td><td>plamsjob.026</td><td>True </td><td>True </td><td>None                             </td></tr>\n",
       "</tbody>\n",
       "</table>\n",
       "</div>"
      ],
      "text/plain": [
       "| Path                                                                                                               | Name         | OK    | Check | ErrorMsg                          |\n",
       "|--------------------------------------------------------------------------------------------------------------------|--------------|-------|-------|-----------------------------------|\n",
       "| /Users/ormrodmorley/Documents/code/ams/amshome/scripting/scm/plams/examples/JobAnalysis/plams_workdir/plamsjob     | plamsjob     | True  | True  | None                              |\n",
       "| /Users/ormrodmorley/Documents/code/ams/amshome/scripting/scm/plams/examples/JobAnalysis/plams_workdir/plamsjob.002 | plamsjob.002 | True  | True  | None                              |\n",
       "| /Users/ormrodmorley/Documents/code/ams/amshome/scripting/scm/plams/examples/JobAnalysis/plams_workdir/plamsjob.003 | plamsjob.003 | True  | True  | None                              |\n",
       "| /Users/ormrodmorley/Documents/code/ams/amshome/scripting/scm/plams/examples/JobAnalysis/plams_workdir/plamsjob.004 | plamsjob.004 | True  | True  | None                              |\n",
       "| /Users/ormrodmorley/Documents/code/ams/amshome/scripting/scm/plams/examples/JobAnalysis/plams_workdir/plamsjob.005 | plamsjob.005 | True  | True  | None                              |\n",
       "| /Users/ormrodmorley/Documents/code/ams/amshome/scripting/scm/plams/examples/JobAnalysis/plams_workdir/plamsjob.006 | plamsjob.006 | True  | True  | None                              |\n",
       "| /Users/ormrodmorley/Documents/code/ams/amshome/scripting/scm/plams/examples/JobAnalysis/plams_workdir/plamsjob.007 | plamsjob.007 | True  | True  | None                              |\n",
       "| /Users/ormrodmorley/Documents/code/ams/amshome/scripting/scm/plams/examples/JobAnalysis/plams_workdir/plamsjob.008 | plamsjob.008 | True  | True  | None                              |\n",
       "| /Users/ormrodmorley/Documents/code/ams/amshome/scripting/scm/plams/examples/JobAnalysis/plams_workdir/plamsjob.009 | plamsjob.009 | True  | True  | None                              |\n",
       "| /Users/ormrodmorley/Documents/code/ams/amshome/scripting/scm/plams/examples/JobAnalysis/plams_workdir/plamsjob.010 | plamsjob.010 | True  | True  | None                              |\n",
       "| /Users/ormrodmorley/Documents/code/ams/amshome/scripting/scm/plams/examples/JobAnalysis/plams_workdir/plamsjob.011 | plamsjob.011 | True  | True  | None                              |\n",
       "| /Users/ormrodmorley/Documents/code/ams/amshome/scripting/scm/plams/examples/JobAnalysis/plams_workdir/plamsjob.012 | plamsjob.012 | True  | True  | None                              |\n",
       "| /Users/ormrodmorley/Documents/code/ams/amshome/scripting/scm/plams/examples/JobAnalysis/plams_workdir/plamsjob.013 | plamsjob.013 | True  | True  | None                              |\n",
       "| /Users/ormrodmorley/Documents/code/ams/amshome/scripting/scm/plams/examples/JobAnalysis/plams_workdir/plamsjob.014 | plamsjob.014 | True  | True  | None                              |\n",
       "| /Users/ormrodmorley/Documents/code/ams/amshome/scripting/scm/plams/examples/JobAnalysis/plams_workdir/plamsjob.015 | plamsjob.015 | True  | True  | None                              |\n",
       "| /Users/ormrodmorley/Documents/code/ams/amshome/scripting/scm/plams/examples/JobAnalysis/plams_workdir/plamsjob.016 | plamsjob.016 | True  | True  | None                              |\n",
       "| /Users/ormrodmorley/Documents/code/ams/amshome/scripting/scm/plams/examples/JobAnalysis/plams_workdir/plamsjob.017 | plamsjob.017 | True  | True  | None                              |\n",
       "| /Users/ormrodmorley/Documents/code/ams/amshome/scripting/scm/plams/examples/JobAnalysis/plams_workdir/plamsjob.018 | plamsjob.018 | True  | True  | None                              |\n",
       "| /Users/ormrodmorley/Documents/code/ams/amshome/scripting/scm/plams/examples/JobAnalysis/plams_workdir/plamsjob.019 | plamsjob.019 | True  | True  | None                              |\n",
       "| /Users/ormrodmorley/Documents/code/ams/amshome/scripting/scm/plams/examples/JobAnalysis/plams_workdir/plamsjob.020 | plamsjob.020 | True  | True  | None                              |\n",
       "| /Users/ormrodmorley/Documents/code/ams/amshome/scripting/scm/plams/examples/JobAnalysis/plams_workdir/plamsjob.021 | plamsjob.021 | True  | True  | None                              |\n",
       "| /Users/ormrodmorley/Documents/code/ams/amshome/scripting/scm/plams/examples/JobAnalysis/plams_workdir/plamsjob.022 | plamsjob.022 | True  | True  | None                              |\n",
       "| /Users/ormrodmorley/Documents/code/ams/amshome/scripting/scm/plams/examples/JobAnalysis/plams_workdir/plamsjob.023 | plamsjob.023 | True  | True  | None                              |\n",
       "| /Users/ormrodmorley/Documents/code/ams/amshome/scripting/scm/plams/examples/JobAnalysis/plams_workdir/plamsjob.024 | plamsjob.024 | True  | True  | None                              |\n",
       "| /Users/ormrodmorley/Documents/code/ams/amshome/scripting/scm/plams/examples/JobAnalysis/plams_workdir/plamsjob.025 | plamsjob.025 | False | False | NEB optimization did NOT converge |\n",
       "| /Users/ormrodmorley/Documents/code/ams/amshome/scripting/scm/plams/examples/JobAnalysis/plams_workdir/plamsjob.026 | plamsjob.026 | True  | True  | None                              |"
      ]
     },
     "execution_count": 12,
     "metadata": {},
     "output_type": "execute_result"
    }
   ],
   "source": [
    "ja.add_job(jobs[-2]).load_job(jobs[-1].path)"
   ]
  },
  {
   "cell_type": "markdown",
   "id": "730eb6b2-411f-4022-840b-d686a5608055",
   "metadata": {},
   "source": [
    "### Adding and Removing Fields"
   ]
  },
  {
   "cell_type": "markdown",
   "id": "43418de2-3abf-49b8-b00a-0f9d249638e2",
   "metadata": {},
   "source": [
    "A range of common standard fields can be added or removed with dedicated methods.\n",
    "Custom fields can also be added or removed, by defining a field key, value accessor and optional arguments like display name and value formatting."
   ]
  },
  {
   "cell_type": "code",
   "execution_count": 13,
   "id": "42073591-bc82-4577-b08b-652fd10baf07",
   "metadata": {},
   "outputs": [
    {
     "data": {
      "text/markdown": [
       "| Name         | OK    | Check | ErrorMsg                          | Formula           | Smiles            | CPUTime   | SysTime  | InputAmsTask         | InputAdfBasisType | InputAdfXcGga | InputAmsNebImages | InputAmsNebIterations | Energy [kJ/mol] |\n",
       "|--------------|-------|-------|-----------------------------------|-------------------|-------------------|-----------|----------|----------------------|-------------------|---------------|-------------------|-----------------------|-----------------|\n",
       "| plamsjob     | True  | True  | None                              | C2H6              | CC                | 0.195655  | 0.073372 | SinglePoint          | None              | None          | None              | None                  | -19594.01       |\n",
       "| plamsjob.002 | True  | True  | None                              | C2H6              | CC                | 4.124700  | 0.405045 | SinglePoint          | DZ                | None          | None              | None                  | -3973.29        |\n",
       "| ...          | ...   | ...   | ...                               | ...               | ...               | ...       | ...      | ...                  | ...               | ...           | ...               | ...                   | ...             |\n",
       "| plamsjob.024 | True  | True  | None                              | CH4O              | CO                | 20.020822 | 1.745231 | GeometryOptimization | TZP               | PBE           | None              | None                  | -2900.38        |\n",
       "| plamsjob.025 | False | False | NEB optimization did NOT converge | : CHN, final: CHN | : C=N, final: C#N | 0.518947  | 0.076174 | NEB                  | None              | None          | 9                 | 10                    | None            |\n",
       "| plamsjob.026 | True  | True  | None                              | : CHN, final: CHN | : C=N, final: C#N | 1.145788  | 0.219883 | NEB                  | None              | None          | 9                 | 100                   | -14936.54       |"
      ],
      "text/plain": [
       "<IPython.core.display.Markdown object>"
      ]
     },
     "metadata": {},
     "output_type": "display_data"
    }
   ],
   "source": [
    "(ja\n",
    " .remove_path_field()\n",
    " .add_formula_field()\n",
    " .add_smiles_field()\n",
    " .add_cpu_time_field()\n",
    " .add_sys_time_field()\n",
    " .add_settings_input_fields()\n",
    " .add_field(\"Energy\", lambda j: j.results.get_energy(unit=\"kJ/mol\"), display_name=\"Energy [kJ/mol]\", fmt=\".2f\")\n",
    " .display_table(max_rows=5)\n",
    ")"
   ]
  },
  {
   "cell_type": "markdown",
   "id": "f9641dfa-a5d3-4555-a587-1837ad21e1ef",
   "metadata": {},
   "source": [
    "In addition to the fluent syntax, both dictionary and dot syntaxes are also supported for adding and removing fields."
   ]
  },
  {
   "cell_type": "code",
   "execution_count": 14,
   "id": "bb4da583-2c81-4fb8-9bdc-d1ffc9fcdb4f",
   "metadata": {},
   "outputs": [
    {
     "data": {
      "text/markdown": [
       "| Name         | OK    | ErrorMsg                          | Formula           | Smiles            | CPUTime   | InputAmsTask         | InputAdfBasisType | InputAdfXcGga | InputAmsNebImages | InputAmsNebIterations | Energy [kJ/mol] | AtomType                          | Charge                            | AtomCoords                        |\n",
       "|--------------|-------|-----------------------------------|-------------------|-------------------|-----------|----------------------|-------------------|---------------|-------------------|-----------------------|-----------------|-----------------------------------|-----------------------------------|-----------------------------------|\n",
       "| plamsjob     | True  | None                              | C2H6              | CC                | 0.195655  | SinglePoint          | None              | None          | None              | None                  | -19594.01       | ['C', 'C', 'H', 'H', 'H', 'H',... | [-0.07293185 -0.07372966  0.02... | [array([-0.74763668,  0.041837... |\n",
       "| plamsjob.002 | True  | None                              | C2H6              | CC                | 4.124700  | SinglePoint          | DZ                | None          | None              | None                  | -3973.29        | ['C', 'C', 'H', 'H', 'H', 'H',... | [-0.83243445 -0.83187828  0.27... | [array([-0.74763668,  0.041837... |\n",
       "| ...          | ...   | ...                               | ...               | ...               | ...       | ...                  | ...               | ...           | ...               | ...                   | ...             | ...                               | ...                               | ...                               |\n",
       "| plamsjob.024 | True  | None                              | CH4O              | CO                | 20.020822 | GeometryOptimization | TZP               | PBE           | None              | None                  | -2900.38        | ['C', 'O', 'H', 'H', 'H', 'H']    | [ 0.58673094 -0.60299606 -0.10... | [array([-0.36298962, -0.021487... |\n",
       "| plamsjob.025 | False | NEB optimization did NOT conve... | : CHN, final: CHN | : C=N, final: C#N | 0.518947  | NEB                  | None              | None          | 9                 | 10                    | None            | ['C', 'N', 'H']                   | None                              | [array([0.45314036, 0.20055487... |\n",
       "| plamsjob.026 | True  | None                              | : CHN, final: CHN | : C=N, final: C#N | 1.145788  | NEB                  | None              | None          | 9                 | 100                   | -14936.54       | ['C', 'N', 'H']                   | [-0.00713901 -0.21113018  0.21... | [array([0.56299762, 0.20528523... |"
      ],
      "text/plain": [
       "<IPython.core.display.Markdown object>"
      ]
     },
     "metadata": {},
     "output_type": "display_data"
    }
   ],
   "source": [
    "import numpy as np\n",
    "\n",
    "ja[\"AtomType\"] = lambda j: [at.symbol for at in j.results.get_main_molecule()]\n",
    "ja.Charge = lambda j: j.results.get_charges()\n",
    "ja.AtomCoords = lambda j: [np.array(at.coords) for at in j.results.get_main_molecule()]\n",
    "\n",
    "del ja[\"Check\"]\n",
    "del ja.SysTime\n",
    "\n",
    "ja.display_table(max_rows=5, max_col_width=30)"
   ]
  },
  {
   "cell_type": "markdown",
   "id": "3bce481d-494e-43c2-9a64-7d608d6e7e7f",
   "metadata": {},
   "source": [
    "### Processing Data"
   ]
  },
  {
   "cell_type": "markdown",
   "id": "d40411a2-53d4-4df6-972a-bbdc788e4e5c",
   "metadata": {},
   "source": [
    "Once an initial analysis has been created, the data can be further processed, depending on the use case.\n",
    "For example, to inspect the difference between failed and successful jobs, jobs can be filtered down and irrelevant fields removed."
   ]
  },
  {
   "cell_type": "code",
   "execution_count": 15,
   "id": "2b381c2f-f057-4443-b05a-d38adf18beb3",
   "metadata": {},
   "outputs": [
    {
     "data": {
      "text/markdown": [
       "| Name         | OK    | CPUTime  | InputAmsNebIterations |\n",
       "|--------------|-------|----------|-----------------------|\n",
       "| plamsjob.025 | False | 0.518947 | 10                    |\n",
       "| plamsjob.026 | True  | 1.145788 | 100                   |"
      ],
      "text/plain": [
       "<IPython.core.display.Markdown object>"
      ]
     },
     "metadata": {},
     "output_type": "display_data"
    }
   ],
   "source": [
    "ja_neb = (ja\n",
    "          .copy()\n",
    "          .filter_jobs(lambda data: data[\"InputAmsTask\"] == \"NEB\")\n",
    "          .remove_field(\"AtomCoords\")\n",
    "          .remove_uniform_fields(ignore_empty=True))\n",
    "\n",
    "ja_neb.display_table()"
   ]
  },
  {
   "cell_type": "markdown",
   "id": "8cc4f829-07c6-419c-97ff-110b28dd876f",
   "metadata": {},
   "source": [
    "Another use case may be to analyze the results from one or more jobs.\n",
    "For this, it can be useful to utilize the `expand` functionality to convert job(s) to multiple rows.\n",
    "During this process, fields selected for expansion will have their values extracted into individual rows, whilst other fields have their values duplicated."
   ]
  },
  {
   "cell_type": "code",
   "execution_count": 27,
   "id": "1f298dff-948c-4b45-91b1-2670286f46d7",
   "metadata": {},
   "outputs": [
    {
     "data": {
      "text/markdown": [
       "| Name         | CPUTime  | InputAdfBasisType | InputAdfXcGga | Energy [kJ/mol] | AtomType | Charge              | AtomCoords                                        |\n",
       "|--------------|----------|-------------------|---------------|-----------------|----------|---------------------|---------------------------------------------------|\n",
       "| plamsjob.017 | 2.957275 | DZ                | None          | -1316.30        | O        | -0.8416865250737331 | [-2.17062120e-04  3.82347777e-01  0.00000000e+00] |\n",
       "| plamsjob.017 | 2.957275 | DZ                | None          | -1316.30        | H        | 0.42084716070260286 | [-0.81250923 -0.19167629  0.        ]             |\n",
       "| plamsjob.017 | 2.957275 | DZ                | None          | -1316.30        | H        | 0.4208393643711281  | [ 0.8127263  -0.19067148  0.        ]             |\n",
       "| plamsjob.018 | 4.603972 | TZP               | PBE           | -1363.77        | O        | -0.6739805275850443 | [-2.46726007e-04  4.01580956e-01  0.00000000e+00] |\n",
       "| plamsjob.018 | 4.603972 | TZP               | PBE           | -1363.77        | H        | 0.33698188085180536 | [-0.76455997 -0.2012764   0.        ]             |\n",
       "| plamsjob.018 | 4.603972 | TZP               | PBE           | -1363.77        | H        | 0.33699864673323343 | [ 0.76480669 -0.20030455  0.        ]             |"
      ],
      "text/plain": [
       "<IPython.core.display.Markdown object>"
      ]
     },
     "metadata": {},
     "output_type": "display_data"
    }
   ],
   "source": [
    "ja_adf = (ja\n",
    "          .copy()\n",
    "          .filter_jobs(lambda data: data[\"InputAmsTask\"] == \"GeometryOptimization\" and data[\"InputAdfBasisType\"] is not None and data[\"Smiles\"] == \"O\")\n",
    "          .expand_field(\"AtomType\")\n",
    "          .expand_field(\"Charge\")\n",
    "          .expand_field(\"AtomCoords\")\n",
    "          .remove_uniform_fields())\n",
    "\n",
    "ja_adf.display_table()"
   ]
  },
  {
   "cell_type": "markdown",
   "id": "7d0cd5a1-ab6d-47b5-a249-ebf6c5677d6b",
   "metadata": {},
   "source": [
    "For more nested values, the depth of expansion can also be selected to further flatten the data."
   ]
  },
  {
   "cell_type": "code",
   "execution_count": 29,
   "id": "764614dd-b085-4fa5-8ac4-08830b8778e7",
   "metadata": {},
   "outputs": [
    {
     "data": {
      "text/markdown": [
       "| Name         | CPUTime  | InputAdfBasisType | InputAdfXcGga | Energy [kJ/mol] | AtomType | Charge              | AtomCoords              | Coord |\n",
       "|--------------|----------|-------------------|---------------|-----------------|----------|---------------------|-------------------------|-------|\n",
       "| plamsjob.017 | 2.957275 | DZ                | None          | -1316.30        | O        | -0.8416865250737331 | -0.00021706211955194217 | x     |\n",
       "| plamsjob.017 | 2.957275 | DZ                | None          | -1316.30        | O        | -0.8416865250737331 | 0.38234777653349844     | y     |\n",
       "| plamsjob.017 | 2.957275 | DZ                | None          | -1316.30        | O        | -0.8416865250737331 | 0.0                     | z     |\n",
       "| plamsjob.017 | 2.957275 | DZ                | None          | -1316.30        | H        | 0.42084716070260286 | -0.8125092343354401     | x     |\n",
       "| plamsjob.017 | 2.957275 | DZ                | None          | -1316.30        | H        | 0.42084716070260286 | -0.19167629390344054    | y     |\n",
       "| plamsjob.017 | 2.957275 | DZ                | None          | -1316.30        | H        | 0.42084716070260286 | 0.0                     | z     |\n",
       "| plamsjob.017 | 2.957275 | DZ                | None          | -1316.30        | H        | 0.4208393643711281  | 0.8127262964549918      | x     |\n",
       "| plamsjob.017 | 2.957275 | DZ                | None          | -1316.30        | H        | 0.4208393643711281  | -0.19067148263005784    | y     |\n",
       "| plamsjob.017 | 2.957275 | DZ                | None          | -1316.30        | H        | 0.4208393643711281  | 0.0                     | z     |\n",
       "| plamsjob.018 | 4.603972 | TZP               | PBE           | -1363.77        | O        | -0.6739805275850443 | -0.00024672600727009935 | x     |\n",
       "| plamsjob.018 | 4.603972 | TZP               | PBE           | -1363.77        | O        | -0.6739805275850443 | 0.40158095623473306     | y     |\n",
       "| plamsjob.018 | 4.603972 | TZP               | PBE           | -1363.77        | O        | -0.6739805275850443 | 0.0                     | z     |\n",
       "| plamsjob.018 | 4.603972 | TZP               | PBE           | -1363.77        | H        | 0.33698188085180536 | -0.7645599672263915     | x     |\n",
       "| plamsjob.018 | 4.603972 | TZP               | PBE           | -1363.77        | H        | 0.33698188085180536 | -0.2012764045590436     | y     |\n",
       "| plamsjob.018 | 4.603972 | TZP               | PBE           | -1363.77        | H        | 0.33698188085180536 | 0.0                     | z     |\n",
       "| plamsjob.018 | 4.603972 | TZP               | PBE           | -1363.77        | H        | 0.33699864673323343 | 0.7648066932336616      | x     |\n",
       "| plamsjob.018 | 4.603972 | TZP               | PBE           | -1363.77        | H        | 0.33699864673323343 | -0.20030455167568945    | y     |\n",
       "| plamsjob.018 | 4.603972 | TZP               | PBE           | -1363.77        | H        | 0.33699864673323343 | 0.0                     | z     |"
      ],
      "text/plain": [
       "<IPython.core.display.Markdown object>"
      ]
     },
     "metadata": {},
     "output_type": "display_data"
    }
   ],
   "source": [
    "(ja_adf\n",
    " .add_field(\"Coord\", lambda j: [(\"x\", \"y\", \"z\") for _ in j.results.get_main_molecule()], expansion_depth=2)\n",
    " .expand_field(\"AtomCoords\", depth=2)\n",
    " .display_table())"
   ]
  },
  {
   "cell_type": "markdown",
   "id": "77d0c620-3ca7-4dfb-969f-c5a5abbad76b",
   "metadata": {},
   "source": [
    "Expansion can be undone with the corresponding `collapse` method. \n",
    "\n",
    "Fields can be also further filtered, modified or reordered to customize the analysis."
   ]
  },
  {
   "cell_type": "code",
   "execution_count": 42,
   "id": "e15126b0-4689-413b-b374-1545ba1b737b",
   "metadata": {},
   "outputs": [
    {
     "data": {
      "text/markdown": [
       "| AtomType | Charge  | Energy [kJ/mol] | CPUTime | Basis | InputAdfXcGga |\n",
       "|----------|---------|-----------------|---------|-------|---------------|\n",
       "| O        | -0.8417 | -1316.30        | 2.96    | DZ    | None          |\n",
       "| H        | 0.4208  | -1316.30        | 2.96    | DZ    | None          |\n",
       "| H        | 0.4208  | -1316.30        | 2.96    | DZ    | None          |\n",
       "| O        | -0.6740 | -1363.77        | 4.60    | TZP   | PBE           |\n",
       "| H        | 0.3370  | -1363.77        | 4.60    | TZP   | PBE           |\n",
       "| H        | 0.3370  | -1363.77        | 4.60    | TZP   | PBE           |"
      ],
      "text/plain": [
       "<IPython.core.display.Markdown object>"
      ]
     },
     "metadata": {},
     "output_type": "display_data"
    }
   ],
   "source": [
    "(ja_adf\n",
    " .collapse_field(\"AtomCoords\")\n",
    " .collapse_field(\"Coord\")\n",
    " .filter_fields(lambda vals: all([not isinstance(v, list) for v in vals]))  # remove arrays\n",
    " .remove_name_field()\n",
    " .format_field(\"CPUTime\", \".2f\")\n",
    " .format_field(\"Charge\", \".4f\")\n",
    " .rename_field(\"InputAdfBasisType\", \"Basis\")\n",
    " .reorder_fields([\"AtomType\", \"Charge\", \"Energy\"])\n",
    " .display_table())"
   ]
  },
  {
   "cell_type": "markdown",
   "id": "62361885-1b81-44b4-b944-176acb33d17a",
   "metadata": {},
   "source": [
    "### Extracting Analysis Data"
   ]
  },
  {
   "cell_type": "markdown",
   "id": "90b34dca-a351-4ec1-8646-1f38dbeed906",
   "metadata": {},
   "source": [
    "Analysis data can be extracted in a variety of ways.\n",
    "\n",
    "As has been demonstrated, a visual representation of the table can be easily generated using the `to_table` method (or `display_table` in a notebook).\n",
    "The format can be selected as markdown, html or rst. This will return the data with the specified display names and formatting."
   ]
  },
  {
   "cell_type": "code",
   "execution_count": 45,
   "id": "1258b6ef-c2fb-42c2-a8c5-33cbf87ffbed",
   "metadata": {},
   "outputs": [
    {
     "name": "stdout",
     "output_type": "stream",
     "text": [
      "+----------+---------+-----------------+---------+-------+---------------+\n",
      "| AtomType | Charge  | Energy [kJ/mol] | CPUTime | Basis | InputAdfXcGga |\n",
      "+==========+=========+=================+=========+=======+===============+\n",
      "| O        | -0.8417 | -1316.30        | 2.96    | DZ    | None          |\n",
      "+----------+---------+-----------------+---------+-------+---------------+\n",
      "| H        | 0.4208  | -1316.30        | 2.96    | DZ    | None          |\n",
      "+----------+---------+-----------------+---------+-------+---------------+\n",
      "| H        | 0.4208  | -1316.30        | 2.96    | DZ    | None          |\n",
      "+----------+---------+-----------------+---------+-------+---------------+\n",
      "| O        | -0.6740 | -1363.77        | 4.60    | TZP   | PBE           |\n",
      "+----------+---------+-----------------+---------+-------+---------------+\n",
      "| H        | 0.3370  | -1363.77        | 4.60    | TZP   | PBE           |\n",
      "+----------+---------+-----------------+---------+-------+---------------+\n",
      "| H        | 0.3370  | -1363.77        | 4.60    | TZP   | PBE           |\n",
      "+----------+---------+-----------------+---------+-------+---------------+\n"
     ]
    }
   ],
   "source": [
    "print(ja_adf.to_table(fmt=\"rst\"))"
   ]
  },
  {
   "cell_type": "markdown",
   "id": "b1ef86ba-79e9-486f-8adc-ab81f23c949b",
   "metadata": {},
   "source": [
    "Alternatively, raw data can be retrieved via the `get_analysis` method, which returns a dictionary of analysis keys to values."
   ]
  },
  {
   "cell_type": "code",
   "execution_count": 48,
   "id": "cce8f9c5-13e7-423d-999d-cd9df8f22a72",
   "metadata": {},
   "outputs": [
    {
     "name": "stdout",
     "output_type": "stream",
     "text": [
      "{'AtomType': ['O', 'H', 'H', 'O', 'H', 'H'], 'Charge': [-0.8416865250737331, 0.42084716070260286, 0.4208393643711281, -0.6739805275850443, 0.33698188085180536, 0.33699864673323343], 'Energy': [-1316.2997406426532, -1316.2997406426532, -1316.2997406426532, -1363.766294275197, -1363.766294275197, -1363.766294275197], 'CPUTime': [2.957275, 2.957275, 2.957275, 4.603972, 4.603972, 4.603972], 'InputAdfBasisType': ['DZ', 'DZ', 'DZ', 'TZP', 'TZP', 'TZP'], 'InputAdfXcGga': [None, None, None, 'PBE', 'PBE', 'PBE']}\n"
     ]
    }
   ],
   "source": [
    "print(ja_adf.get_analysis())"
   ]
  },
  {
   "cell_type": "markdown",
   "id": "c95fe2f9-585b-46cc-9122-f0afbfc034da",
   "metadata": {},
   "source": [
    "Data can also be easily written to a csv file using `to_csv_file`, to be exported to another program."
   ]
  },
  {
   "cell_type": "code",
   "execution_count": 52,
   "id": "cd5031bb-08f8-4a8f-b0a0-724baeca56d1",
   "metadata": {},
   "outputs": [
    {
     "name": "stdout",
     "output_type": "stream",
     "text": [
      "AtomType,Charge,Energy,CPUTime,InputAdfBasisType,InputAdfXcGga\n",
      "O,-0.8416865250737331,-1316.2997406426532,2.957275,DZ,\n",
      "H,0.42084716070260286,-1316.2997406426532,2.957275,DZ,\n",
      "H,0.4208393643711281,-1316.2997406426532,2.957275,DZ,\n",
      "O,-0.6739805275850443,-1363.766294275197,4.603972,TZP,PBE\n",
      "H,0.33698188085180536,-1363.766294275197,4.603972,TZP,PBE\n",
      "H,0.33699864673323343,-1363.766294275197,4.603972,TZP,PBE\n",
      "\n"
     ]
    }
   ],
   "source": [
    "csv_name = \"./tmp.csv\"\n",
    "ja_adf.to_csv_file(csv_name)\n",
    "\n",
    "with open(csv_name) as csv:\n",
    "    print(csv.read())"
   ]
  },
  {
   "cell_type": "markdown",
   "id": "ae737a2a-7490-4750-ae01-21b79c862d0c",
   "metadata": {},
   "source": [
    "Finally, for more complex data analysis, the results can be converted to a [pandas](https://pandas.pydata.org) dataframe. This is recommended for more involved data manipulations, and can be installed using amspackages i.e. using the command: `\"${AMSBIN}/amspackages\" install pandas`."
   ]
  },
  {
   "cell_type": "code",
   "execution_count": 55,
   "id": "35abbc0f-8565-441d-a894-f36152cddb48",
   "metadata": {},
   "outputs": [
    {
     "name": "stdout",
     "output_type": "stream",
     "text": [
      "  AtomType    Charge       Energy   CPUTime InputAdfBasisType InputAdfXcGga\n",
      "0        O -0.841687 -1316.299741  2.957275                DZ          None\n",
      "1        H  0.420847 -1316.299741  2.957275                DZ          None\n",
      "2        H  0.420839 -1316.299741  2.957275                DZ          None\n",
      "3        O -0.673981 -1363.766294  4.603972               TZP           PBE\n",
      "4        H  0.336982 -1363.766294  4.603972               TZP           PBE\n",
      "5        H  0.336999 -1363.766294  4.603972               TZP           PBE\n"
     ]
    }
   ],
   "source": [
    "try:\n",
    "    import pandas\n",
    "    \n",
    "    df = ja_adf.to_dataframe()\n",
    "    print(df)\n",
    "\n",
    "except ImportError:\n",
    "    \n",
    "    print(\"Pandas not available. Please install with amspackages to run this example '${AMSBIN}/amspackages install pandas'\")"
   ]
  },
  {
   "cell_type": "markdown",
   "id": "e8109745-0d11-4e40-a146-323b2d381c28",
   "metadata": {},
   "source": [
    "### Additional Analysis Methods"
   ]
  },
  {
   "cell_type": "markdown",
   "id": "cbf488cc-7ca1-443c-b7c9-db4a317bb84f",
   "metadata": {},
   "source": [
    "The `JobAnalysis` class does have some additional built in methods to aid with job analysis.\n",
    "\n",
    "For example, the `get_timeline` and `display_timeline` methods show pictorially when jobs started, how long they took to run and what their status is.\n",
    "\n",
    "This can be useful for visualising the dependencies of jobs."
   ]
  },
  {
   "cell_type": "code",
   "execution_count": 59,
   "id": "f5d5ab1e-56f9-46f0-b519-f4936490355d",
   "metadata": {},
   "outputs": [
    {
     "data": {
      "text/html": [
       "<div style=\"max-width: 100%; overflow-x: auto;\">\n",
       "<table border=\"1\" style=\"border-collapse: collapse; width: auto; font-family: monospace; \">\n",
       "<thead><tr><th style=\"border-left: 1px solid black; border-right: 1px solid black;\">JobName     <th style=\"border-left: 1px solid black; border-right: 1px solid black;\">↓2025-02-07 13:52:48                                                                                     <th style=\"border-left: 1px solid black; border-right: 1px solid black;\">↓2025-02-07 13:53:03                                                                                                    <th style=\"border-left: 1px solid black; border-right: 1px solid black;\">↓2025-02-07 13:53:18                                                                                                    <th style=\"border-left: 1px solid black; border-right: 1px solid black;\">↓2025-02-07 13:53:32                                                                                                    <th style=\"border-left: 1px solid black; border-right: 1px solid black;\">↓2025-02-07 13:53:47                                                                                                    <th style=\"border-left: 1px solid black; border-right: 1px solid black;\">WaitDuration<th style=\"border-left: 1px solid black; border-right: 1px solid black;\">RunDuration<th style=\"border-left: 1px solid black; border-right: 1px solid black;\">TotalDuration</th></tr></thead>\n",
       "<tbody>\n",
       "<tr><td style=\"border-left: 1px solid black; border-right: 1px solid black;\">plamsjob    </td><td style=\"border-left: 1px solid black; border-right: 1px solid black;\">=*>&nbsp;&nbsp;&nbsp;&nbsp;&nbsp;&nbsp;&nbsp;&nbsp;&nbsp;&nbsp;&nbsp;&nbsp;&nbsp;&nbsp;&nbsp;&nbsp;&nbsp;</td><td style=\"border-left: 1px solid black; border-right: 1px solid black;\">&nbsp;&nbsp;&nbsp;&nbsp;&nbsp;&nbsp;&nbsp;&nbsp;&nbsp;&nbsp;&nbsp;&nbsp;&nbsp;&nbsp;&nbsp;&nbsp;&nbsp;&nbsp;&nbsp;&nbsp;</td><td style=\"border-left: 1px solid black; border-right: 1px solid black;\">&nbsp;&nbsp;&nbsp;&nbsp;&nbsp;&nbsp;&nbsp;&nbsp;&nbsp;&nbsp;&nbsp;&nbsp;&nbsp;&nbsp;&nbsp;&nbsp;&nbsp;&nbsp;&nbsp;&nbsp;</td><td style=\"border-left: 1px solid black; border-right: 1px solid black;\">&nbsp;&nbsp;&nbsp;&nbsp;&nbsp;&nbsp;&nbsp;&nbsp;&nbsp;&nbsp;&nbsp;&nbsp;&nbsp;&nbsp;&nbsp;&nbsp;&nbsp;&nbsp;&nbsp;&nbsp;</td><td style=\"border-left: 1px solid black; border-right: 1px solid black;\">&nbsp;&nbsp;&nbsp;&nbsp;&nbsp;&nbsp;&nbsp;&nbsp;&nbsp;&nbsp;&nbsp;&nbsp;&nbsp;&nbsp;&nbsp;&nbsp;&nbsp;&nbsp;&nbsp;&nbsp;</td><td style=\"border-left: 1px solid black; border-right: 1px solid black;\">0s          </td><td style=\"border-left: 1px solid black; border-right: 1px solid black;\">0s         </td><td style=\"border-left: 1px solid black; border-right: 1px solid black;\">1s           </td></tr>\n",
       "<tr><td style=\"border-left: 1px solid black; border-right: 1px solid black;\">plamsjob.002</td><td style=\"border-left: 1px solid black; border-right: 1px solid black;\">==========>&nbsp;&nbsp;&nbsp;&nbsp;&nbsp;&nbsp;&nbsp;&nbsp;&nbsp;                                        </td><td style=\"border-left: 1px solid black; border-right: 1px solid black;\">&nbsp;&nbsp;&nbsp;&nbsp;&nbsp;&nbsp;&nbsp;&nbsp;&nbsp;&nbsp;&nbsp;&nbsp;&nbsp;&nbsp;&nbsp;&nbsp;&nbsp;&nbsp;&nbsp;&nbsp;</td><td style=\"border-left: 1px solid black; border-right: 1px solid black;\">&nbsp;&nbsp;&nbsp;&nbsp;&nbsp;&nbsp;&nbsp;&nbsp;&nbsp;&nbsp;&nbsp;&nbsp;&nbsp;&nbsp;&nbsp;&nbsp;&nbsp;&nbsp;&nbsp;&nbsp;</td><td style=\"border-left: 1px solid black; border-right: 1px solid black;\">&nbsp;&nbsp;&nbsp;&nbsp;&nbsp;&nbsp;&nbsp;&nbsp;&nbsp;&nbsp;&nbsp;&nbsp;&nbsp;&nbsp;&nbsp;&nbsp;&nbsp;&nbsp;&nbsp;&nbsp;</td><td style=\"border-left: 1px solid black; border-right: 1px solid black;\">&nbsp;&nbsp;&nbsp;&nbsp;&nbsp;&nbsp;&nbsp;&nbsp;&nbsp;&nbsp;&nbsp;&nbsp;&nbsp;&nbsp;&nbsp;&nbsp;&nbsp;&nbsp;&nbsp;&nbsp;</td><td style=\"border-left: 1px solid black; border-right: 1px solid black;\">0s          </td><td style=\"border-left: 1px solid black; border-right: 1px solid black;\">6s         </td><td style=\"border-left: 1px solid black; border-right: 1px solid black;\">7s           </td></tr>\n",
       "<tr><td style=\"border-left: 1px solid black; border-right: 1px solid black;\">plamsjob.003</td><td style=\"border-left: 1px solid black; border-right: 1px solid black;\">====================                                                                                     </td><td style=\"border-left: 1px solid black; border-right: 1px solid black;\">=>&nbsp;&nbsp;&nbsp;&nbsp;&nbsp;&nbsp;&nbsp;&nbsp;&nbsp;&nbsp;&nbsp;&nbsp;&nbsp;&nbsp;&nbsp;&nbsp;&nbsp;&nbsp;          </td><td style=\"border-left: 1px solid black; border-right: 1px solid black;\">&nbsp;&nbsp;&nbsp;&nbsp;&nbsp;&nbsp;&nbsp;&nbsp;&nbsp;&nbsp;&nbsp;&nbsp;&nbsp;&nbsp;&nbsp;&nbsp;&nbsp;&nbsp;&nbsp;&nbsp;</td><td style=\"border-left: 1px solid black; border-right: 1px solid black;\">&nbsp;&nbsp;&nbsp;&nbsp;&nbsp;&nbsp;&nbsp;&nbsp;&nbsp;&nbsp;&nbsp;&nbsp;&nbsp;&nbsp;&nbsp;&nbsp;&nbsp;&nbsp;&nbsp;&nbsp;</td><td style=\"border-left: 1px solid black; border-right: 1px solid black;\">&nbsp;&nbsp;&nbsp;&nbsp;&nbsp;&nbsp;&nbsp;&nbsp;&nbsp;&nbsp;&nbsp;&nbsp;&nbsp;&nbsp;&nbsp;&nbsp;&nbsp;&nbsp;&nbsp;&nbsp;</td><td style=\"border-left: 1px solid black; border-right: 1px solid black;\">0s          </td><td style=\"border-left: 1px solid black; border-right: 1px solid black;\">15s        </td><td style=\"border-left: 1px solid black; border-right: 1px solid black;\">16s          </td></tr>\n",
       "<tr><td style=\"border-left: 1px solid black; border-right: 1px solid black;\">plamsjob.004</td><td style=\"border-left: 1px solid black; border-right: 1px solid black;\">==>&nbsp;&nbsp;&nbsp;&nbsp;&nbsp;&nbsp;&nbsp;&nbsp;&nbsp;&nbsp;&nbsp;&nbsp;&nbsp;&nbsp;&nbsp;&nbsp;&nbsp;</td><td style=\"border-left: 1px solid black; border-right: 1px solid black;\">&nbsp;&nbsp;&nbsp;&nbsp;&nbsp;&nbsp;&nbsp;&nbsp;&nbsp;&nbsp;&nbsp;&nbsp;&nbsp;&nbsp;&nbsp;&nbsp;&nbsp;&nbsp;&nbsp;&nbsp;</td><td style=\"border-left: 1px solid black; border-right: 1px solid black;\">&nbsp;&nbsp;&nbsp;&nbsp;&nbsp;&nbsp;&nbsp;&nbsp;&nbsp;&nbsp;&nbsp;&nbsp;&nbsp;&nbsp;&nbsp;&nbsp;&nbsp;&nbsp;&nbsp;&nbsp;</td><td style=\"border-left: 1px solid black; border-right: 1px solid black;\">&nbsp;&nbsp;&nbsp;&nbsp;&nbsp;&nbsp;&nbsp;&nbsp;&nbsp;&nbsp;&nbsp;&nbsp;&nbsp;&nbsp;&nbsp;&nbsp;&nbsp;&nbsp;&nbsp;&nbsp;</td><td style=\"border-left: 1px solid black; border-right: 1px solid black;\">&nbsp;&nbsp;&nbsp;&nbsp;&nbsp;&nbsp;&nbsp;&nbsp;&nbsp;&nbsp;&nbsp;&nbsp;&nbsp;&nbsp;&nbsp;&nbsp;&nbsp;&nbsp;&nbsp;&nbsp;</td><td style=\"border-left: 1px solid black; border-right: 1px solid black;\">0s          </td><td style=\"border-left: 1px solid black; border-right: 1px solid black;\">1s         </td><td style=\"border-left: 1px solid black; border-right: 1px solid black;\">1s           </td></tr>\n",
       "<tr><td style=\"border-left: 1px solid black; border-right: 1px solid black;\">plamsjob.005</td><td style=\"border-left: 1px solid black; border-right: 1px solid black;\">====================                                                                                     </td><td style=\"border-left: 1px solid black; border-right: 1px solid black;\">====================                                                                                                    </td><td style=\"border-left: 1px solid black; border-right: 1px solid black;\">=====>&nbsp;&nbsp;&nbsp;&nbsp;&nbsp;&nbsp;&nbsp;&nbsp;&nbsp;&nbsp;&nbsp;&nbsp;&nbsp;&nbsp;                              </td><td style=\"border-left: 1px solid black; border-right: 1px solid black;\">&nbsp;&nbsp;&nbsp;&nbsp;&nbsp;&nbsp;&nbsp;&nbsp;&nbsp;&nbsp;&nbsp;&nbsp;&nbsp;&nbsp;&nbsp;&nbsp;&nbsp;&nbsp;&nbsp;&nbsp;</td><td style=\"border-left: 1px solid black; border-right: 1px solid black;\">&nbsp;&nbsp;&nbsp;&nbsp;&nbsp;&nbsp;&nbsp;&nbsp;&nbsp;&nbsp;&nbsp;&nbsp;&nbsp;&nbsp;&nbsp;&nbsp;&nbsp;&nbsp;&nbsp;&nbsp;</td><td style=\"border-left: 1px solid black; border-right: 1px solid black;\">0s          </td><td style=\"border-left: 1px solid black; border-right: 1px solid black;\">32s        </td><td style=\"border-left: 1px solid black; border-right: 1px solid black;\">33s          </td></tr>\n",
       "<tr><td style=\"border-left: 1px solid black; border-right: 1px solid black;\">plamsjob.006</td><td style=\"border-left: 1px solid black; border-right: 1px solid black;\">====================                                                                                     </td><td style=\"border-left: 1px solid black; border-right: 1px solid black;\">====================                                                                                                    </td><td style=\"border-left: 1px solid black; border-right: 1px solid black;\">====================                                                                                                    </td><td style=\"border-left: 1px solid black; border-right: 1px solid black;\">===================*                                                                                                    </td><td style=\"border-left: 1px solid black; border-right: 1px solid black;\">>&nbsp;&nbsp;&nbsp;&nbsp;&nbsp;&nbsp;&nbsp;&nbsp;&nbsp;&nbsp;&nbsp;&nbsp;&nbsp;&nbsp;&nbsp;&nbsp;&nbsp;&nbsp;&nbsp;     </td><td style=\"border-left: 1px solid black; border-right: 1px solid black;\">0s          </td><td style=\"border-left: 1px solid black; border-right: 1px solid black;\">58s        </td><td style=\"border-left: 1px solid black; border-right: 1px solid black;\">58s          </td></tr>\n",
       "<tr><td style=\"border-left: 1px solid black; border-right: 1px solid black;\">plamsjob.007</td><td style=\"border-left: 1px solid black; border-right: 1px solid black;\">=*>&nbsp;&nbsp;&nbsp;&nbsp;&nbsp;&nbsp;&nbsp;&nbsp;&nbsp;&nbsp;&nbsp;&nbsp;&nbsp;&nbsp;&nbsp;&nbsp;&nbsp;</td><td style=\"border-left: 1px solid black; border-right: 1px solid black;\">&nbsp;&nbsp;&nbsp;&nbsp;&nbsp;&nbsp;&nbsp;&nbsp;&nbsp;&nbsp;&nbsp;&nbsp;&nbsp;&nbsp;&nbsp;&nbsp;&nbsp;&nbsp;&nbsp;&nbsp;</td><td style=\"border-left: 1px solid black; border-right: 1px solid black;\">&nbsp;&nbsp;&nbsp;&nbsp;&nbsp;&nbsp;&nbsp;&nbsp;&nbsp;&nbsp;&nbsp;&nbsp;&nbsp;&nbsp;&nbsp;&nbsp;&nbsp;&nbsp;&nbsp;&nbsp;</td><td style=\"border-left: 1px solid black; border-right: 1px solid black;\">&nbsp;&nbsp;&nbsp;&nbsp;&nbsp;&nbsp;&nbsp;&nbsp;&nbsp;&nbsp;&nbsp;&nbsp;&nbsp;&nbsp;&nbsp;&nbsp;&nbsp;&nbsp;&nbsp;&nbsp;</td><td style=\"border-left: 1px solid black; border-right: 1px solid black;\">&nbsp;&nbsp;&nbsp;&nbsp;&nbsp;&nbsp;&nbsp;&nbsp;&nbsp;&nbsp;&nbsp;&nbsp;&nbsp;&nbsp;&nbsp;&nbsp;&nbsp;&nbsp;&nbsp;&nbsp;</td><td style=\"border-left: 1px solid black; border-right: 1px solid black;\">0s          </td><td style=\"border-left: 1px solid black; border-right: 1px solid black;\">0s         </td><td style=\"border-left: 1px solid black; border-right: 1px solid black;\">1s           </td></tr>\n",
       "<tr><td style=\"border-left: 1px solid black; border-right: 1px solid black;\">plamsjob.008</td><td style=\"border-left: 1px solid black; border-right: 1px solid black;\">=======>&nbsp;&nbsp;&nbsp;&nbsp;&nbsp;&nbsp;&nbsp;&nbsp;&nbsp;&nbsp;&nbsp;&nbsp;                         </td><td style=\"border-left: 1px solid black; border-right: 1px solid black;\">&nbsp;&nbsp;&nbsp;&nbsp;&nbsp;&nbsp;&nbsp;&nbsp;&nbsp;&nbsp;&nbsp;&nbsp;&nbsp;&nbsp;&nbsp;&nbsp;&nbsp;&nbsp;&nbsp;&nbsp;</td><td style=\"border-left: 1px solid black; border-right: 1px solid black;\">&nbsp;&nbsp;&nbsp;&nbsp;&nbsp;&nbsp;&nbsp;&nbsp;&nbsp;&nbsp;&nbsp;&nbsp;&nbsp;&nbsp;&nbsp;&nbsp;&nbsp;&nbsp;&nbsp;&nbsp;</td><td style=\"border-left: 1px solid black; border-right: 1px solid black;\">&nbsp;&nbsp;&nbsp;&nbsp;&nbsp;&nbsp;&nbsp;&nbsp;&nbsp;&nbsp;&nbsp;&nbsp;&nbsp;&nbsp;&nbsp;&nbsp;&nbsp;&nbsp;&nbsp;&nbsp;</td><td style=\"border-left: 1px solid black; border-right: 1px solid black;\">&nbsp;&nbsp;&nbsp;&nbsp;&nbsp;&nbsp;&nbsp;&nbsp;&nbsp;&nbsp;&nbsp;&nbsp;&nbsp;&nbsp;&nbsp;&nbsp;&nbsp;&nbsp;&nbsp;&nbsp;</td><td style=\"border-left: 1px solid black; border-right: 1px solid black;\">0s          </td><td style=\"border-left: 1px solid black; border-right: 1px solid black;\">4s         </td><td style=\"border-left: 1px solid black; border-right: 1px solid black;\">5s           </td></tr>\n",
       "<tr><td style=\"border-left: 1px solid black; border-right: 1px solid black;\">plamsjob.009</td><td style=\"border-left: 1px solid black; border-right: 1px solid black;\">--=========>&nbsp;&nbsp;&nbsp;&nbsp;&nbsp;&nbsp;&nbsp;&nbsp;                                             </td><td style=\"border-left: 1px solid black; border-right: 1px solid black;\">&nbsp;&nbsp;&nbsp;&nbsp;&nbsp;&nbsp;&nbsp;&nbsp;&nbsp;&nbsp;&nbsp;&nbsp;&nbsp;&nbsp;&nbsp;&nbsp;&nbsp;&nbsp;&nbsp;&nbsp;</td><td style=\"border-left: 1px solid black; border-right: 1px solid black;\">&nbsp;&nbsp;&nbsp;&nbsp;&nbsp;&nbsp;&nbsp;&nbsp;&nbsp;&nbsp;&nbsp;&nbsp;&nbsp;&nbsp;&nbsp;&nbsp;&nbsp;&nbsp;&nbsp;&nbsp;</td><td style=\"border-left: 1px solid black; border-right: 1px solid black;\">&nbsp;&nbsp;&nbsp;&nbsp;&nbsp;&nbsp;&nbsp;&nbsp;&nbsp;&nbsp;&nbsp;&nbsp;&nbsp;&nbsp;&nbsp;&nbsp;&nbsp;&nbsp;&nbsp;&nbsp;</td><td style=\"border-left: 1px solid black; border-right: 1px solid black;\">&nbsp;&nbsp;&nbsp;&nbsp;&nbsp;&nbsp;&nbsp;&nbsp;&nbsp;&nbsp;&nbsp;&nbsp;&nbsp;&nbsp;&nbsp;&nbsp;&nbsp;&nbsp;&nbsp;&nbsp;</td><td style=\"border-left: 1px solid black; border-right: 1px solid black;\">0s          </td><td style=\"border-left: 1px solid black; border-right: 1px solid black;\">7s         </td><td style=\"border-left: 1px solid black; border-right: 1px solid black;\">8s           </td></tr>\n",
       "<tr><td style=\"border-left: 1px solid black; border-right: 1px solid black;\">plamsjob.010</td><td style=\"border-left: 1px solid black; border-right: 1px solid black;\">..=>&nbsp;&nbsp;&nbsp;&nbsp;&nbsp;&nbsp;&nbsp;&nbsp;&nbsp;&nbsp;&nbsp;&nbsp;&nbsp;&nbsp;&nbsp;&nbsp;     </td><td style=\"border-left: 1px solid black; border-right: 1px solid black;\">&nbsp;&nbsp;&nbsp;&nbsp;&nbsp;&nbsp;&nbsp;&nbsp;&nbsp;&nbsp;&nbsp;&nbsp;&nbsp;&nbsp;&nbsp;&nbsp;&nbsp;&nbsp;&nbsp;&nbsp;</td><td style=\"border-left: 1px solid black; border-right: 1px solid black;\">&nbsp;&nbsp;&nbsp;&nbsp;&nbsp;&nbsp;&nbsp;&nbsp;&nbsp;&nbsp;&nbsp;&nbsp;&nbsp;&nbsp;&nbsp;&nbsp;&nbsp;&nbsp;&nbsp;&nbsp;</td><td style=\"border-left: 1px solid black; border-right: 1px solid black;\">&nbsp;&nbsp;&nbsp;&nbsp;&nbsp;&nbsp;&nbsp;&nbsp;&nbsp;&nbsp;&nbsp;&nbsp;&nbsp;&nbsp;&nbsp;&nbsp;&nbsp;&nbsp;&nbsp;&nbsp;</td><td style=\"border-left: 1px solid black; border-right: 1px solid black;\">&nbsp;&nbsp;&nbsp;&nbsp;&nbsp;&nbsp;&nbsp;&nbsp;&nbsp;&nbsp;&nbsp;&nbsp;&nbsp;&nbsp;&nbsp;&nbsp;&nbsp;&nbsp;&nbsp;&nbsp;</td><td style=\"border-left: 1px solid black; border-right: 1px solid black;\">1s          </td><td style=\"border-left: 1px solid black; border-right: 1px solid black;\">0s         </td><td style=\"border-left: 1px solid black; border-right: 1px solid black;\">2s           </td></tr>\n",
       "<tr><td style=\"border-left: 1px solid black; border-right: 1px solid black;\">plamsjob.011</td><td style=\"border-left: 1px solid black; border-right: 1px solid black;\">..==============>&nbsp;&nbsp;&nbsp;                                                                      </td><td style=\"border-left: 1px solid black; border-right: 1px solid black;\">&nbsp;&nbsp;&nbsp;&nbsp;&nbsp;&nbsp;&nbsp;&nbsp;&nbsp;&nbsp;&nbsp;&nbsp;&nbsp;&nbsp;&nbsp;&nbsp;&nbsp;&nbsp;&nbsp;&nbsp;</td><td style=\"border-left: 1px solid black; border-right: 1px solid black;\">&nbsp;&nbsp;&nbsp;&nbsp;&nbsp;&nbsp;&nbsp;&nbsp;&nbsp;&nbsp;&nbsp;&nbsp;&nbsp;&nbsp;&nbsp;&nbsp;&nbsp;&nbsp;&nbsp;&nbsp;</td><td style=\"border-left: 1px solid black; border-right: 1px solid black;\">&nbsp;&nbsp;&nbsp;&nbsp;&nbsp;&nbsp;&nbsp;&nbsp;&nbsp;&nbsp;&nbsp;&nbsp;&nbsp;&nbsp;&nbsp;&nbsp;&nbsp;&nbsp;&nbsp;&nbsp;</td><td style=\"border-left: 1px solid black; border-right: 1px solid black;\">&nbsp;&nbsp;&nbsp;&nbsp;&nbsp;&nbsp;&nbsp;&nbsp;&nbsp;&nbsp;&nbsp;&nbsp;&nbsp;&nbsp;&nbsp;&nbsp;&nbsp;&nbsp;&nbsp;&nbsp;</td><td style=\"border-left: 1px solid black; border-right: 1px solid black;\">1s          </td><td style=\"border-left: 1px solid black; border-right: 1px solid black;\">10s        </td><td style=\"border-left: 1px solid black; border-right: 1px solid black;\">12s          </td></tr>\n",
       "<tr><td style=\"border-left: 1px solid black; border-right: 1px solid black;\">plamsjob.012</td><td style=\"border-left: 1px solid black; border-right: 1px solid black;\">..--================                                                                                     </td><td style=\"border-left: 1px solid black; border-right: 1px solid black;\">============>&nbsp;&nbsp;&nbsp;&nbsp;&nbsp;&nbsp;&nbsp;                                                                 </td><td style=\"border-left: 1px solid black; border-right: 1px solid black;\">&nbsp;&nbsp;&nbsp;&nbsp;&nbsp;&nbsp;&nbsp;&nbsp;&nbsp;&nbsp;&nbsp;&nbsp;&nbsp;&nbsp;&nbsp;&nbsp;&nbsp;&nbsp;&nbsp;&nbsp;</td><td style=\"border-left: 1px solid black; border-right: 1px solid black;\">&nbsp;&nbsp;&nbsp;&nbsp;&nbsp;&nbsp;&nbsp;&nbsp;&nbsp;&nbsp;&nbsp;&nbsp;&nbsp;&nbsp;&nbsp;&nbsp;&nbsp;&nbsp;&nbsp;&nbsp;</td><td style=\"border-left: 1px solid black; border-right: 1px solid black;\">&nbsp;&nbsp;&nbsp;&nbsp;&nbsp;&nbsp;&nbsp;&nbsp;&nbsp;&nbsp;&nbsp;&nbsp;&nbsp;&nbsp;&nbsp;&nbsp;&nbsp;&nbsp;&nbsp;&nbsp;</td><td style=\"border-left: 1px solid black; border-right: 1px solid black;\">1s          </td><td style=\"border-left: 1px solid black; border-right: 1px solid black;\">22s        </td><td style=\"border-left: 1px solid black; border-right: 1px solid black;\">23s          </td></tr>\n",
       "<tr><td style=\"border-left: 1px solid black; border-right: 1px solid black;\">plamsjob.013</td><td style=\"border-left: 1px solid black; border-right: 1px solid black;\">....---=>&nbsp;&nbsp;&nbsp;&nbsp;&nbsp;&nbsp;&nbsp;&nbsp;&nbsp;&nbsp;&nbsp;                              </td><td style=\"border-left: 1px solid black; border-right: 1px solid black;\">&nbsp;&nbsp;&nbsp;&nbsp;&nbsp;&nbsp;&nbsp;&nbsp;&nbsp;&nbsp;&nbsp;&nbsp;&nbsp;&nbsp;&nbsp;&nbsp;&nbsp;&nbsp;&nbsp;&nbsp;</td><td style=\"border-left: 1px solid black; border-right: 1px solid black;\">&nbsp;&nbsp;&nbsp;&nbsp;&nbsp;&nbsp;&nbsp;&nbsp;&nbsp;&nbsp;&nbsp;&nbsp;&nbsp;&nbsp;&nbsp;&nbsp;&nbsp;&nbsp;&nbsp;&nbsp;</td><td style=\"border-left: 1px solid black; border-right: 1px solid black;\">&nbsp;&nbsp;&nbsp;&nbsp;&nbsp;&nbsp;&nbsp;&nbsp;&nbsp;&nbsp;&nbsp;&nbsp;&nbsp;&nbsp;&nbsp;&nbsp;&nbsp;&nbsp;&nbsp;&nbsp;</td><td style=\"border-left: 1px solid black; border-right: 1px solid black;\">&nbsp;&nbsp;&nbsp;&nbsp;&nbsp;&nbsp;&nbsp;&nbsp;&nbsp;&nbsp;&nbsp;&nbsp;&nbsp;&nbsp;&nbsp;&nbsp;&nbsp;&nbsp;&nbsp;&nbsp;</td><td style=\"border-left: 1px solid black; border-right: 1px solid black;\">2s          </td><td style=\"border-left: 1px solid black; border-right: 1px solid black;\">2s         </td><td style=\"border-left: 1px solid black; border-right: 1px solid black;\">5s           </td></tr>\n",
       "<tr><td style=\"border-left: 1px solid black; border-right: 1px solid black;\">plamsjob.014</td><td style=\"border-left: 1px solid black; border-right: 1px solid black;\">.......-===>&nbsp;&nbsp;&nbsp;&nbsp;&nbsp;&nbsp;&nbsp;&nbsp;                                             </td><td style=\"border-left: 1px solid black; border-right: 1px solid black;\">&nbsp;&nbsp;&nbsp;&nbsp;&nbsp;&nbsp;&nbsp;&nbsp;&nbsp;&nbsp;&nbsp;&nbsp;&nbsp;&nbsp;&nbsp;&nbsp;&nbsp;&nbsp;&nbsp;&nbsp;</td><td style=\"border-left: 1px solid black; border-right: 1px solid black;\">&nbsp;&nbsp;&nbsp;&nbsp;&nbsp;&nbsp;&nbsp;&nbsp;&nbsp;&nbsp;&nbsp;&nbsp;&nbsp;&nbsp;&nbsp;&nbsp;&nbsp;&nbsp;&nbsp;&nbsp;</td><td style=\"border-left: 1px solid black; border-right: 1px solid black;\">&nbsp;&nbsp;&nbsp;&nbsp;&nbsp;&nbsp;&nbsp;&nbsp;&nbsp;&nbsp;&nbsp;&nbsp;&nbsp;&nbsp;&nbsp;&nbsp;&nbsp;&nbsp;&nbsp;&nbsp;</td><td style=\"border-left: 1px solid black; border-right: 1px solid black;\">&nbsp;&nbsp;&nbsp;&nbsp;&nbsp;&nbsp;&nbsp;&nbsp;&nbsp;&nbsp;&nbsp;&nbsp;&nbsp;&nbsp;&nbsp;&nbsp;&nbsp;&nbsp;&nbsp;&nbsp;</td><td style=\"border-left: 1px solid black; border-right: 1px solid black;\">5s          </td><td style=\"border-left: 1px solid black; border-right: 1px solid black;\">3s         </td><td style=\"border-left: 1px solid black; border-right: 1px solid black;\">8s           </td></tr>\n",
       "<tr><td style=\"border-left: 1px solid black; border-right: 1px solid black;\">plamsjob.015</td><td style=\"border-left: 1px solid black; border-right: 1px solid black;\">........--====>&nbsp;&nbsp;&nbsp;&nbsp;&nbsp;                                                            </td><td style=\"border-left: 1px solid black; border-right: 1px solid black;\">&nbsp;&nbsp;&nbsp;&nbsp;&nbsp;&nbsp;&nbsp;&nbsp;&nbsp;&nbsp;&nbsp;&nbsp;&nbsp;&nbsp;&nbsp;&nbsp;&nbsp;&nbsp;&nbsp;&nbsp;</td><td style=\"border-left: 1px solid black; border-right: 1px solid black;\">&nbsp;&nbsp;&nbsp;&nbsp;&nbsp;&nbsp;&nbsp;&nbsp;&nbsp;&nbsp;&nbsp;&nbsp;&nbsp;&nbsp;&nbsp;&nbsp;&nbsp;&nbsp;&nbsp;&nbsp;</td><td style=\"border-left: 1px solid black; border-right: 1px solid black;\">&nbsp;&nbsp;&nbsp;&nbsp;&nbsp;&nbsp;&nbsp;&nbsp;&nbsp;&nbsp;&nbsp;&nbsp;&nbsp;&nbsp;&nbsp;&nbsp;&nbsp;&nbsp;&nbsp;&nbsp;</td><td style=\"border-left: 1px solid black; border-right: 1px solid black;\">&nbsp;&nbsp;&nbsp;&nbsp;&nbsp;&nbsp;&nbsp;&nbsp;&nbsp;&nbsp;&nbsp;&nbsp;&nbsp;&nbsp;&nbsp;&nbsp;&nbsp;&nbsp;&nbsp;&nbsp;</td><td style=\"border-left: 1px solid black; border-right: 1px solid black;\">5s          </td><td style=\"border-left: 1px solid black; border-right: 1px solid black;\">4s         </td><td style=\"border-left: 1px solid black; border-right: 1px solid black;\">10s          </td></tr>\n",
       "<tr><td style=\"border-left: 1px solid black; border-right: 1px solid black;\">plamsjob.016</td><td style=\"border-left: 1px solid black; border-right: 1px solid black;\">..........-=>&nbsp;&nbsp;&nbsp;&nbsp;&nbsp;&nbsp;&nbsp;                                                  </td><td style=\"border-left: 1px solid black; border-right: 1px solid black;\">&nbsp;&nbsp;&nbsp;&nbsp;&nbsp;&nbsp;&nbsp;&nbsp;&nbsp;&nbsp;&nbsp;&nbsp;&nbsp;&nbsp;&nbsp;&nbsp;&nbsp;&nbsp;&nbsp;&nbsp;</td><td style=\"border-left: 1px solid black; border-right: 1px solid black;\">&nbsp;&nbsp;&nbsp;&nbsp;&nbsp;&nbsp;&nbsp;&nbsp;&nbsp;&nbsp;&nbsp;&nbsp;&nbsp;&nbsp;&nbsp;&nbsp;&nbsp;&nbsp;&nbsp;&nbsp;</td><td style=\"border-left: 1px solid black; border-right: 1px solid black;\">&nbsp;&nbsp;&nbsp;&nbsp;&nbsp;&nbsp;&nbsp;&nbsp;&nbsp;&nbsp;&nbsp;&nbsp;&nbsp;&nbsp;&nbsp;&nbsp;&nbsp;&nbsp;&nbsp;&nbsp;</td><td style=\"border-left: 1px solid black; border-right: 1px solid black;\">&nbsp;&nbsp;&nbsp;&nbsp;&nbsp;&nbsp;&nbsp;&nbsp;&nbsp;&nbsp;&nbsp;&nbsp;&nbsp;&nbsp;&nbsp;&nbsp;&nbsp;&nbsp;&nbsp;&nbsp;</td><td style=\"border-left: 1px solid black; border-right: 1px solid black;\">7s          </td><td style=\"border-left: 1px solid black; border-right: 1px solid black;\">1s         </td><td style=\"border-left: 1px solid black; border-right: 1px solid black;\">8s           </td></tr>\n",
       "<tr><td style=\"border-left: 1px solid black; border-right: 1px solid black;\">plamsjob.017</td><td style=\"border-left: 1px solid black; border-right: 1px solid black;\">...........========>                                                                                     </td><td style=\"border-left: 1px solid black; border-right: 1px solid black;\">&nbsp;&nbsp;&nbsp;&nbsp;&nbsp;&nbsp;&nbsp;&nbsp;&nbsp;&nbsp;&nbsp;&nbsp;&nbsp;&nbsp;&nbsp;&nbsp;&nbsp;&nbsp;&nbsp;&nbsp;</td><td style=\"border-left: 1px solid black; border-right: 1px solid black;\">&nbsp;&nbsp;&nbsp;&nbsp;&nbsp;&nbsp;&nbsp;&nbsp;&nbsp;&nbsp;&nbsp;&nbsp;&nbsp;&nbsp;&nbsp;&nbsp;&nbsp;&nbsp;&nbsp;&nbsp;</td><td style=\"border-left: 1px solid black; border-right: 1px solid black;\">&nbsp;&nbsp;&nbsp;&nbsp;&nbsp;&nbsp;&nbsp;&nbsp;&nbsp;&nbsp;&nbsp;&nbsp;&nbsp;&nbsp;&nbsp;&nbsp;&nbsp;&nbsp;&nbsp;&nbsp;</td><td style=\"border-left: 1px solid black; border-right: 1px solid black;\">&nbsp;&nbsp;&nbsp;&nbsp;&nbsp;&nbsp;&nbsp;&nbsp;&nbsp;&nbsp;&nbsp;&nbsp;&nbsp;&nbsp;&nbsp;&nbsp;&nbsp;&nbsp;&nbsp;&nbsp;</td><td style=\"border-left: 1px solid black; border-right: 1px solid black;\">8s          </td><td style=\"border-left: 1px solid black; border-right: 1px solid black;\">5s         </td><td style=\"border-left: 1px solid black; border-right: 1px solid black;\">13s          </td></tr>\n",
       "<tr><td style=\"border-left: 1px solid black; border-right: 1px solid black;\">plamsjob.018</td><td style=\"border-left: 1px solid black; border-right: 1px solid black;\">...........-========                                                                                     </td><td style=\"border-left: 1px solid black; border-right: 1px solid black;\">====>&nbsp;&nbsp;&nbsp;&nbsp;&nbsp;&nbsp;&nbsp;&nbsp;&nbsp;&nbsp;&nbsp;&nbsp;&nbsp;&nbsp;&nbsp;                         </td><td style=\"border-left: 1px solid black; border-right: 1px solid black;\">&nbsp;&nbsp;&nbsp;&nbsp;&nbsp;&nbsp;&nbsp;&nbsp;&nbsp;&nbsp;&nbsp;&nbsp;&nbsp;&nbsp;&nbsp;&nbsp;&nbsp;&nbsp;&nbsp;&nbsp;</td><td style=\"border-left: 1px solid black; border-right: 1px solid black;\">&nbsp;&nbsp;&nbsp;&nbsp;&nbsp;&nbsp;&nbsp;&nbsp;&nbsp;&nbsp;&nbsp;&nbsp;&nbsp;&nbsp;&nbsp;&nbsp;&nbsp;&nbsp;&nbsp;&nbsp;</td><td style=\"border-left: 1px solid black; border-right: 1px solid black;\">&nbsp;&nbsp;&nbsp;&nbsp;&nbsp;&nbsp;&nbsp;&nbsp;&nbsp;&nbsp;&nbsp;&nbsp;&nbsp;&nbsp;&nbsp;&nbsp;&nbsp;&nbsp;&nbsp;&nbsp;</td><td style=\"border-left: 1px solid black; border-right: 1px solid black;\">8s          </td><td style=\"border-left: 1px solid black; border-right: 1px solid black;\">9s         </td><td style=\"border-left: 1px solid black; border-right: 1px solid black;\">17s          </td></tr>\n",
       "<tr><td style=\"border-left: 1px solid black; border-right: 1px solid black;\">plamsjob.019</td><td style=\"border-left: 1px solid black; border-right: 1px solid black;\">............--=>&nbsp;&nbsp;&nbsp;&nbsp;                                                                 </td><td style=\"border-left: 1px solid black; border-right: 1px solid black;\">&nbsp;&nbsp;&nbsp;&nbsp;&nbsp;&nbsp;&nbsp;&nbsp;&nbsp;&nbsp;&nbsp;&nbsp;&nbsp;&nbsp;&nbsp;&nbsp;&nbsp;&nbsp;&nbsp;&nbsp;</td><td style=\"border-left: 1px solid black; border-right: 1px solid black;\">&nbsp;&nbsp;&nbsp;&nbsp;&nbsp;&nbsp;&nbsp;&nbsp;&nbsp;&nbsp;&nbsp;&nbsp;&nbsp;&nbsp;&nbsp;&nbsp;&nbsp;&nbsp;&nbsp;&nbsp;</td><td style=\"border-left: 1px solid black; border-right: 1px solid black;\">&nbsp;&nbsp;&nbsp;&nbsp;&nbsp;&nbsp;&nbsp;&nbsp;&nbsp;&nbsp;&nbsp;&nbsp;&nbsp;&nbsp;&nbsp;&nbsp;&nbsp;&nbsp;&nbsp;&nbsp;</td><td style=\"border-left: 1px solid black; border-right: 1px solid black;\">&nbsp;&nbsp;&nbsp;&nbsp;&nbsp;&nbsp;&nbsp;&nbsp;&nbsp;&nbsp;&nbsp;&nbsp;&nbsp;&nbsp;&nbsp;&nbsp;&nbsp;&nbsp;&nbsp;&nbsp;</td><td style=\"border-left: 1px solid black; border-right: 1px solid black;\">8s          </td><td style=\"border-left: 1px solid black; border-right: 1px solid black;\">2s         </td><td style=\"border-left: 1px solid black; border-right: 1px solid black;\">11s          </td></tr>\n",
       "<tr><td style=\"border-left: 1px solid black; border-right: 1px solid black;\">plamsjob.020</td><td style=\"border-left: 1px solid black; border-right: 1px solid black;\">..............--====                                                                                     </td><td style=\"border-left: 1px solid black; border-right: 1px solid black;\">====>&nbsp;&nbsp;&nbsp;&nbsp;&nbsp;&nbsp;&nbsp;&nbsp;&nbsp;&nbsp;&nbsp;&nbsp;&nbsp;&nbsp;&nbsp;                         </td><td style=\"border-left: 1px solid black; border-right: 1px solid black;\">&nbsp;&nbsp;&nbsp;&nbsp;&nbsp;&nbsp;&nbsp;&nbsp;&nbsp;&nbsp;&nbsp;&nbsp;&nbsp;&nbsp;&nbsp;&nbsp;&nbsp;&nbsp;&nbsp;&nbsp;</td><td style=\"border-left: 1px solid black; border-right: 1px solid black;\">&nbsp;&nbsp;&nbsp;&nbsp;&nbsp;&nbsp;&nbsp;&nbsp;&nbsp;&nbsp;&nbsp;&nbsp;&nbsp;&nbsp;&nbsp;&nbsp;&nbsp;&nbsp;&nbsp;&nbsp;</td><td style=\"border-left: 1px solid black; border-right: 1px solid black;\">&nbsp;&nbsp;&nbsp;&nbsp;&nbsp;&nbsp;&nbsp;&nbsp;&nbsp;&nbsp;&nbsp;&nbsp;&nbsp;&nbsp;&nbsp;&nbsp;&nbsp;&nbsp;&nbsp;&nbsp;</td><td style=\"border-left: 1px solid black; border-right: 1px solid black;\">10s         </td><td style=\"border-left: 1px solid black; border-right: 1px solid black;\">7s         </td><td style=\"border-left: 1px solid black; border-right: 1px solid black;\">17s          </td></tr>\n",
       "<tr><td style=\"border-left: 1px solid black; border-right: 1px solid black;\">plamsjob.021</td><td style=\"border-left: 1px solid black; border-right: 1px solid black;\">...............-====                                                                                     </td><td style=\"border-left: 1px solid black; border-right: 1px solid black;\">==========>&nbsp;&nbsp;&nbsp;&nbsp;&nbsp;&nbsp;&nbsp;&nbsp;&nbsp;                                                       </td><td style=\"border-left: 1px solid black; border-right: 1px solid black;\">&nbsp;&nbsp;&nbsp;&nbsp;&nbsp;&nbsp;&nbsp;&nbsp;&nbsp;&nbsp;&nbsp;&nbsp;&nbsp;&nbsp;&nbsp;&nbsp;&nbsp;&nbsp;&nbsp;&nbsp;</td><td style=\"border-left: 1px solid black; border-right: 1px solid black;\">&nbsp;&nbsp;&nbsp;&nbsp;&nbsp;&nbsp;&nbsp;&nbsp;&nbsp;&nbsp;&nbsp;&nbsp;&nbsp;&nbsp;&nbsp;&nbsp;&nbsp;&nbsp;&nbsp;&nbsp;</td><td style=\"border-left: 1px solid black; border-right: 1px solid black;\">&nbsp;&nbsp;&nbsp;&nbsp;&nbsp;&nbsp;&nbsp;&nbsp;&nbsp;&nbsp;&nbsp;&nbsp;&nbsp;&nbsp;&nbsp;&nbsp;&nbsp;&nbsp;&nbsp;&nbsp;</td><td style=\"border-left: 1px solid black; border-right: 1px solid black;\">11s         </td><td style=\"border-left: 1px solid black; border-right: 1px solid black;\">10s        </td><td style=\"border-left: 1px solid black; border-right: 1px solid black;\">22s          </td></tr>\n",
       "<tr><td style=\"border-left: 1px solid black; border-right: 1px solid black;\">plamsjob.022</td><td style=\"border-left: 1px solid black; border-right: 1px solid black;\">................---=                                                                                     </td><td style=\"border-left: 1px solid black; border-right: 1px solid black;\">=>&nbsp;&nbsp;&nbsp;&nbsp;&nbsp;&nbsp;&nbsp;&nbsp;&nbsp;&nbsp;&nbsp;&nbsp;&nbsp;&nbsp;&nbsp;&nbsp;&nbsp;&nbsp;          </td><td style=\"border-left: 1px solid black; border-right: 1px solid black;\">&nbsp;&nbsp;&nbsp;&nbsp;&nbsp;&nbsp;&nbsp;&nbsp;&nbsp;&nbsp;&nbsp;&nbsp;&nbsp;&nbsp;&nbsp;&nbsp;&nbsp;&nbsp;&nbsp;&nbsp;</td><td style=\"border-left: 1px solid black; border-right: 1px solid black;\">&nbsp;&nbsp;&nbsp;&nbsp;&nbsp;&nbsp;&nbsp;&nbsp;&nbsp;&nbsp;&nbsp;&nbsp;&nbsp;&nbsp;&nbsp;&nbsp;&nbsp;&nbsp;&nbsp;&nbsp;</td><td style=\"border-left: 1px solid black; border-right: 1px solid black;\">&nbsp;&nbsp;&nbsp;&nbsp;&nbsp;&nbsp;&nbsp;&nbsp;&nbsp;&nbsp;&nbsp;&nbsp;&nbsp;&nbsp;&nbsp;&nbsp;&nbsp;&nbsp;&nbsp;&nbsp;</td><td style=\"border-left: 1px solid black; border-right: 1px solid black;\">11s         </td><td style=\"border-left: 1px solid black; border-right: 1px solid black;\">3s         </td><td style=\"border-left: 1px solid black; border-right: 1px solid black;\">14s          </td></tr>\n",
       "<tr><td style=\"border-left: 1px solid black; border-right: 1px solid black;\">plamsjob.023</td><td style=\"border-left: 1px solid black; border-right: 1px solid black;\">...................-                                                                                     </td><td style=\"border-left: 1px solid black; border-right: 1px solid black;\">-===================                                                                                                    </td><td style=\"border-left: 1px solid black; border-right: 1px solid black;\">==>&nbsp;&nbsp;&nbsp;&nbsp;&nbsp;&nbsp;&nbsp;&nbsp;&nbsp;&nbsp;&nbsp;&nbsp;&nbsp;&nbsp;&nbsp;&nbsp;&nbsp;               </td><td style=\"border-left: 1px solid black; border-right: 1px solid black;\">&nbsp;&nbsp;&nbsp;&nbsp;&nbsp;&nbsp;&nbsp;&nbsp;&nbsp;&nbsp;&nbsp;&nbsp;&nbsp;&nbsp;&nbsp;&nbsp;&nbsp;&nbsp;&nbsp;&nbsp;</td><td style=\"border-left: 1px solid black; border-right: 1px solid black;\">&nbsp;&nbsp;&nbsp;&nbsp;&nbsp;&nbsp;&nbsp;&nbsp;&nbsp;&nbsp;&nbsp;&nbsp;&nbsp;&nbsp;&nbsp;&nbsp;&nbsp;&nbsp;&nbsp;&nbsp;</td><td style=\"border-left: 1px solid black; border-right: 1px solid black;\">13s         </td><td style=\"border-left: 1px solid black; border-right: 1px solid black;\">16s        </td><td style=\"border-left: 1px solid black; border-right: 1px solid black;\">30s          </td></tr>\n",
       "<tr><td style=\"border-left: 1px solid black; border-right: 1px solid black;\">plamsjob.024</td><td style=\"border-left: 1px solid black; border-right: 1px solid black;\">....................                                                                                     </td><td style=\"border-left: 1px solid black; border-right: 1px solid black;\">.===================                                                                                                    </td><td style=\"border-left: 1px solid black; border-right: 1px solid black;\">=================>&nbsp;&nbsp;                                                                                          </td><td style=\"border-left: 1px solid black; border-right: 1px solid black;\">&nbsp;&nbsp;&nbsp;&nbsp;&nbsp;&nbsp;&nbsp;&nbsp;&nbsp;&nbsp;&nbsp;&nbsp;&nbsp;&nbsp;&nbsp;&nbsp;&nbsp;&nbsp;&nbsp;&nbsp;</td><td style=\"border-left: 1px solid black; border-right: 1px solid black;\">&nbsp;&nbsp;&nbsp;&nbsp;&nbsp;&nbsp;&nbsp;&nbsp;&nbsp;&nbsp;&nbsp;&nbsp;&nbsp;&nbsp;&nbsp;&nbsp;&nbsp;&nbsp;&nbsp;&nbsp;</td><td style=\"border-left: 1px solid black; border-right: 1px solid black;\">15s         </td><td style=\"border-left: 1px solid black; border-right: 1px solid black;\">26s        </td><td style=\"border-left: 1px solid black; border-right: 1px solid black;\">41s          </td></tr>\n",
       "<tr><td style=\"border-left: 1px solid black; border-right: 1px solid black;\">plamsjob.025</td><td style=\"border-left: 1px solid black; border-right: 1px solid black;\">....................                                                                                     </td><td style=\"border-left: 1px solid black; border-right: 1px solid black;\">.---=X&nbsp;&nbsp;&nbsp;&nbsp;&nbsp;&nbsp;&nbsp;&nbsp;&nbsp;&nbsp;&nbsp;&nbsp;&nbsp;&nbsp;                              </td><td style=\"border-left: 1px solid black; border-right: 1px solid black;\">&nbsp;&nbsp;&nbsp;&nbsp;&nbsp;&nbsp;&nbsp;&nbsp;&nbsp;&nbsp;&nbsp;&nbsp;&nbsp;&nbsp;&nbsp;&nbsp;&nbsp;&nbsp;&nbsp;&nbsp;</td><td style=\"border-left: 1px solid black; border-right: 1px solid black;\">&nbsp;&nbsp;&nbsp;&nbsp;&nbsp;&nbsp;&nbsp;&nbsp;&nbsp;&nbsp;&nbsp;&nbsp;&nbsp;&nbsp;&nbsp;&nbsp;&nbsp;&nbsp;&nbsp;&nbsp;</td><td style=\"border-left: 1px solid black; border-right: 1px solid black;\">&nbsp;&nbsp;&nbsp;&nbsp;&nbsp;&nbsp;&nbsp;&nbsp;&nbsp;&nbsp;&nbsp;&nbsp;&nbsp;&nbsp;&nbsp;&nbsp;&nbsp;&nbsp;&nbsp;&nbsp;</td><td style=\"border-left: 1px solid black; border-right: 1px solid black;\">15s         </td><td style=\"border-left: 1px solid black; border-right: 1px solid black;\">3s         </td><td style=\"border-left: 1px solid black; border-right: 1px solid black;\">18s          </td></tr>\n",
       "<tr><td style=\"border-left: 1px solid black; border-right: 1px solid black;\">plamsjob.026</td><td style=\"border-left: 1px solid black; border-right: 1px solid black;\">....................                                                                                     </td><td style=\"border-left: 1px solid black; border-right: 1px solid black;\">....====>&nbsp;&nbsp;&nbsp;&nbsp;&nbsp;&nbsp;&nbsp;&nbsp;&nbsp;&nbsp;&nbsp;                                             </td><td style=\"border-left: 1px solid black; border-right: 1px solid black;\">&nbsp;&nbsp;&nbsp;&nbsp;&nbsp;&nbsp;&nbsp;&nbsp;&nbsp;&nbsp;&nbsp;&nbsp;&nbsp;&nbsp;&nbsp;&nbsp;&nbsp;&nbsp;&nbsp;&nbsp;</td><td style=\"border-left: 1px solid black; border-right: 1px solid black;\">&nbsp;&nbsp;&nbsp;&nbsp;&nbsp;&nbsp;&nbsp;&nbsp;&nbsp;&nbsp;&nbsp;&nbsp;&nbsp;&nbsp;&nbsp;&nbsp;&nbsp;&nbsp;&nbsp;&nbsp;</td><td style=\"border-left: 1px solid black; border-right: 1px solid black;\">&nbsp;&nbsp;&nbsp;&nbsp;&nbsp;&nbsp;&nbsp;&nbsp;&nbsp;&nbsp;&nbsp;&nbsp;&nbsp;&nbsp;&nbsp;&nbsp;&nbsp;&nbsp;&nbsp;&nbsp;</td><td style=\"border-left: 1px solid black; border-right: 1px solid black;\">17s         </td><td style=\"border-left: 1px solid black; border-right: 1px solid black;\">2s         </td><td style=\"border-left: 1px solid black; border-right: 1px solid black;\">20s          </td></tr>\n",
       "</tbody>\n",
       "</table>\n",
       "</div>"
      ],
      "text/plain": [
       "<IPython.core.display.HTML object>"
      ]
     },
     "metadata": {},
     "output_type": "display_data"
    }
   ],
   "source": [
    "ja.display_timeline(fmt=\"html\")"
   ]
  },
  {
   "cell_type": "code",
   "execution_count": null,
   "id": "2fc077a1-5398-49f4-a9f9-e6772b56f512",
   "metadata": {},
   "outputs": [],
   "source": []
  }
 ],
 "metadata": {
  "kernelspec": {
   "display_name": "Python 3 (ipykernel)",
   "language": "python",
   "name": "python3"
  },
  "language_info": {
   "codemirror_mode": {
    "name": "ipython",
    "version": 3
   },
   "file_extension": ".py",
   "mimetype": "text/x-python",
   "name": "python",
   "nbconvert_exporter": "python",
   "pygments_lexer": "ipython3",
   "version": "3.8.16"
  }
 },
 "nbformat": 4,
 "nbformat_minor": 5
}
