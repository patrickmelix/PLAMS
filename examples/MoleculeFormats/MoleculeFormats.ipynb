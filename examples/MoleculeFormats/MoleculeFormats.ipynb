{
 "cells": [
  {
   "cell_type": "markdown",
   "id": "d9f04f8d-949a-421d-b65d-1b43878cc057",
   "metadata": {},
   "source": [
    "## Complete guide to storing and converting PLAMS Molecules between Python libraries and file formats"
   ]
  },
  {
   "cell_type": "code",
   "execution_count": 1,
   "id": "f609f4c1-5dab-4349-9250-d4bb89ddb656",
   "metadata": {},
   "outputs": [],
   "source": [
    "import os\n",
    "from os.path import expandvars\n",
    "from pathlib import Path\n",
    "\n",
    "# make sure to source amsbashrc.sh before launching this example so that\n",
    "# the AMSHOME environment variable is set.\n",
    "\n",
    "AMSHOME = os.environ[\"AMSHOME\"]\n",
    "cif_file = f\"{AMSHOME}/atomicdata/Molecules/IZA-Zeolites/ABW.cif\"\n",
    "xyz_file = f\"{AMSHOME}/scripting/scm/params/examples/benchmark/ISOL6/e_13.xyz\"\n",
    "\n",
    "assert Path(cif_file).exists(), f\"{cif_file} does not exist.\"\n",
    "assert Path(xyz_file).exists(), f\"{xyz_file} does not exist.\"\n",
    "\n",
    "\n",
    "def head(filename, n: int = 4):\n",
    "    \"\"\"Print the first ``n`` lines of a file\"\"\"\n",
    "    with open(filename, \"r\") as f:\n",
    "        lines = f.readlines()\n",
    "        lines = lines[: min(n, len(lines))]\n",
    "    print(\"\".join(lines))"
   ]
  },
  {
   "cell_type": "markdown",
   "id": "4b30b7c2-f933-4d69-a5c3-7e19b8bfb447",
   "metadata": {},
   "source": [
    "### SMILES"
   ]
  },
  {
   "cell_type": "markdown",
   "id": "03c12f87-f53b-42b7-974e-1b6271e68019",
   "metadata": {},
   "source": [
    "#### Load PLAMS Molecule from SMILES string"
   ]
  },
  {
   "cell_type": "code",
   "execution_count": 2,
   "id": "9ad1c2c4-29e9-4320-bf8b-1df2df7b7831",
   "metadata": {},
   "outputs": [
    {
     "name": "stdout",
     "output_type": "stream",
     "text": [
      "type(mol)=<class 'scm.plams.mol.molecule.Molecule'>\n"
     ]
    },
    {
     "data": {
      "image/png": "[encoded data removed]",
      "text/plain": [
       "<Figure size 144x144 with 1 Axes>"
      ]
     },
     "metadata": {
      "needs_background": "light"
     },
     "output_type": "display_data"
    }
   ],
   "source": [
    "from scm.plams import from_smiles, Molecule, plot_molecule\n",
    "\n",
    "mol = from_smiles(\"CCCCO\")\n",
    "print(f\"{type(mol)=}\")\n",
    "plot_molecule(mol);"
   ]
  },
  {
   "cell_type": "markdown",
   "id": "df623aba-c463-4734-aedb-86b259ec52b9",
   "metadata": {},
   "source": [
    "#### Convert PLAMS Molecule to SMILES string\n",
    "\n",
    "Note: This requires that bonds are defined in the PLAMS Molecule."
   ]
  },
  {
   "cell_type": "code",
   "execution_count": 3,
   "id": "8f21e769-031a-414a-ac65-cb5cfe5a193b",
   "metadata": {},
   "outputs": [
    {
     "name": "stdout",
     "output_type": "stream",
     "text": [
      "CCCCO\n"
     ]
    }
   ],
   "source": [
    "from scm.plams import to_smiles\n",
    "\n",
    "smiles = to_smiles(mol)\n",
    "print(smiles)"
   ]
  },
  {
   "cell_type": "markdown",
   "id": "b9840965-c354-41fc-8cab-2306fc10b26f",
   "metadata": {},
   "source": [
    "### .xyz files"
   ]
  },
  {
   "cell_type": "markdown",
   "id": "cb2fdb27-47ad-4835-acbb-d93d6df4bcf2",
   "metadata": {},
   "source": [
    "#### Load PLAMS Molecule from .xyz file"
   ]
  },
  {
   "cell_type": "code",
   "execution_count": 4,
   "id": "c50ddd01-c601-4bb1-855c-5c57370123b7",
   "metadata": {},
   "outputs": [
    {
     "name": "stdout",
     "output_type": "stream",
     "text": [
      "type(mol)=<class 'scm.plams.mol.molecule.Molecule'>\n"
     ]
    },
    {
     "data": {
      "image/png": "[encoded data removed]",
      "text/plain": [
       "<Figure size 144x144 with 1 Axes>"
      ]
     },
     "metadata": {
      "needs_background": "light"
     },
     "output_type": "display_data"
    }
   ],
   "source": [
    "from scm.plams import Molecule, plot_molecule\n",
    "\n",
    "mol = Molecule(xyz_file)\n",
    "print(f\"{type(mol)=}\")\n",
    "plot_molecule(mol);"
   ]
  },
  {
   "cell_type": "markdown",
   "id": "d2967ded-7cad-4d4c-92d2-d0cead4ebaf4",
   "metadata": {
    "tags": []
   },
   "source": [
    "#### Write PLAMS Molecule to .xyz file"
   ]
  },
  {
   "cell_type": "code",
   "execution_count": 5,
   "id": "01e5758f-cefa-4d80-8c75-2ec08fc0ff33",
   "metadata": {},
   "outputs": [],
   "source": [
    "mol.properties.comment = \"The comment line (2nd line after the number of atoms)\"\n",
    "mol.write(\"out.xyz\")"
   ]
  },
  {
   "cell_type": "code",
   "execution_count": 6,
   "id": "e6299460-fde0-4f9f-9df2-5d9cdf61a3fa",
   "metadata": {},
   "outputs": [
    {
     "name": "stdout",
     "output_type": "stream",
     "text": [
      "26\n",
      "The comment line (2nd line after the number of atoms)\n",
      "         C      -1.47627000      -1.15316000      -0.29279600\n",
      "         C      -2.86892000      -1.15881000      -0.29469200\n",
      "\n"
     ]
    }
   ],
   "source": [
    "head(\"out.xyz\")"
   ]
  },
  {
   "cell_type": "markdown",
   "id": "40ad8899-7d61-4f3f-a865-17edae3fc99c",
   "metadata": {},
   "source": [
    "### .cif files"
   ]
  },
  {
   "cell_type": "markdown",
   "id": "34858f49-4e5b-44d5-8b25-1722e3cb3e05",
   "metadata": {},
   "source": [
    "#### Load PLAMS Molecule from .cif file\n",
    "\n",
    "PLAMS cannot natively read .cif files. Instead, go through another library, for example ASE or pymatgen."
   ]
  },
  {
   "cell_type": "code",
   "execution_count": 7,
   "id": "bd212e28-b10d-46c3-b1e8-e5022d19efee",
   "metadata": {},
   "outputs": [
    {
     "name": "stdout",
     "output_type": "stream",
     "text": [
      "type(mol)=<class 'scm.plams.mol.molecule.Molecule'>\n"
     ]
    },
    {
     "name": "stderr",
     "output_type": "stream",
     "text": [
      "/home/user/adfhome/bin/python3.8/lib/python3.8/site-packages/ase/io/cif.py:401: UserWarning: crystal system 'orthorhombic' is not interpreted for space group Spacegroup(74, setting=1). This may result in wrong setting!\n",
      "  warnings.warn(\n"
     ]
    },
    {
     "data": {
      "image/png": "[encoded data removed]",
      "text/plain": [
       "<Figure size 144x144 with 1 Axes>"
      ]
     },
     "metadata": {
      "needs_background": "light"
     },
     "output_type": "display_data"
    }
   ],
   "source": [
    "from ase.io import read\n",
    "from scm.plams import fromASE\n",
    "\n",
    "mol: Molecule = fromASE(read(cif_file))\n",
    "print(f\"{type(mol)=}\")\n",
    "plot_molecule(mol);"
   ]
  },
  {
   "cell_type": "markdown",
   "id": "d826de39-6929-4c6b-a1f7-488b1b0003cf",
   "metadata": {},
   "source": [
    "#### Write PLAMS Molecule to .cif file\n",
    "\n",
    "PLAMS cannot natively export to .cif files. Instead, go through another library, for example ASE or pymatgen.\n",
    "\n",
    "ASE can be used to write many file formats. See https://wiki.fysik.dtu.dk/ase/ase/io/io.html"
   ]
  },
  {
   "cell_type": "code",
   "execution_count": 8,
   "id": "4de4e588-9f26-48b8-a306-c7ad498ef511",
   "metadata": {},
   "outputs": [
    {
     "name": "stdout",
     "output_type": "stream",
     "text": [
      "data_image0\n",
      "_chemical_formula_structural       O16Si8\n",
      "_chemical_formula_sum              \"O16 Si8\"\n",
      "_cell_length_a       9.873\n",
      "\n"
     ]
    }
   ],
   "source": [
    "from scm.plams import toASE\n",
    "\n",
    "toASE(mol).write(\"out.cif\")\n",
    "head(\"out.cif\")"
   ]
  },
  {
   "cell_type": "markdown",
   "id": "3b10bce0-fd11-4803-bb72-fe614ff435b7",
   "metadata": {},
   "source": [
    "### AMS .in system block format\n",
    "\n",
    "#### Write PLAMS Molecule to AMS .in system file"
   ]
  },
  {
   "cell_type": "code",
   "execution_count": 9,
   "id": "2026498d-f78e-4337-993a-109a05094a8d",
   "metadata": {},
   "outputs": [
    {
     "name": "stdout",
     "output_type": "stream",
     "text": [
      "System\n",
      "  Atoms\n",
      "              O       4.9365000000       1.3135000000       3.0896710000\n",
      "              O       0.0000000000       3.9405000000       7.4746710000\n",
      "\n"
     ]
    }
   ],
   "source": [
    "mol.write(\"ams_system_block.in\")\n",
    "head(\"ams_system_block.in\")"
   ]
  },
  {
   "cell_type": "markdown",
   "id": "c0788fef-dd4d-4851-919f-4f423eb15f43",
   "metadata": {},
   "source": [
    "#### Load PLAMS Molecule from AMS .in system file"
   ]
  },
  {
   "cell_type": "code",
   "execution_count": 10,
   "id": "1846a459-afdc-48d6-98c6-3741c41d1453",
   "metadata": {},
   "outputs": [
    {
     "data": {
      "image/png": "[encoded data removed]",
      "text/plain": [
       "<Figure size 144x144 with 1 Axes>"
      ]
     },
     "metadata": {
      "needs_background": "light"
     },
     "output_type": "display_data"
    }
   ],
   "source": [
    "from scm.plams import Molecule\n",
    "\n",
    "mol = Molecule(\"ams_system_block.in\")\n",
    "plot_molecule(mol);"
   ]
  },
  {
   "cell_type": "markdown",
   "id": "4e3960d8-74af-41a6-92bf-b0ff798bef38",
   "metadata": {},
   "source": [
    "### POSCAR/CONTCAR (VASP input format)"
   ]
  },
  {
   "cell_type": "markdown",
   "id": "e1d58bbd-46f0-42d0-91c4-a781e52fcf74",
   "metadata": {},
   "source": [
    "#### Write PLAMS Molecule to POSCAR/CONTCAR (VASP input format)\n",
    "\n",
    "ASE can be used to write many file formats. See https://wiki.fysik.dtu.dk/ase/ase/io/io.html"
   ]
  },
  {
   "cell_type": "code",
   "execution_count": 11,
   "id": "13ba6b79-71e3-4cdb-bd9c-cebbfb25c9e6",
   "metadata": {},
   "outputs": [
    {
     "name": "stdout",
     "output_type": "stream",
     "text": [
      " O Si \n",
      " 1.0000000000000000\n",
      "     9.8729999999999993    0.0000000000000000    0.0000000000000000\n",
      "     0.0000000000000000    5.2539999999999996    0.0000000000000000\n",
      "     0.0000000000000000    0.0000000000000000    8.7699999999999996\n",
      " O   Si \n",
      "  16   8\n",
      "Cartesian\n",
      "  4.9364999999999997  1.3134999999999999  3.0896710000000001\n",
      "  0.0000000000000000  3.9405000000000001  7.4746709999999998\n",
      "\n"
     ]
    }
   ],
   "source": [
    "from scm.plams import toASE\n",
    "\n",
    "toASE(mol).write(\"POSCAR\")\n",
    "head(\"POSCAR\", 10)"
   ]
  },
  {
   "cell_type": "markdown",
   "id": "da19ccd8-8f02-4fb7-a8dd-daf850ace16d",
   "metadata": {},
   "source": [
    "#### Load PLAMS Molecule from POSCAR/CONTCAR (VASP input format)"
   ]
  },
  {
   "cell_type": "code",
   "execution_count": 12,
   "id": "9d4538fe-ebf2-483e-9cb9-2bb79e74265d",
   "metadata": {},
   "outputs": [
    {
     "name": "stdout",
     "output_type": "stream",
     "text": [
      "type(mol)=<class 'scm.plams.mol.molecule.Molecule'>\n"
     ]
    },
    {
     "data": {
      "image/png": "[encoded data removed]",
      "text/plain": [
       "<Figure size 144x144 with 1 Axes>"
      ]
     },
     "metadata": {
      "needs_background": "light"
     },
     "output_type": "display_data"
    }
   ],
   "source": [
    "from scm.plams import fromASE\n",
    "from ase.io import read\n",
    "\n",
    "mol: Molecule = fromASE(read(\"POSCAR\"))\n",
    "\n",
    "print(f\"{type(mol)=}\")\n",
    "plot_molecule(mol);"
   ]
  },
  {
   "cell_type": "markdown",
   "id": "22da54f8-642f-4251-bfca-19ff3f29ebf8",
   "metadata": {},
   "source": [
    "### ASE Atoms Python class"
   ]
  },
  {
   "cell_type": "markdown",
   "id": "81ca9d0c-230c-4bde-ba32-7b84444e7d37",
   "metadata": {},
   "source": [
    "#### Convert PLAMS Molecule to ASE Atoms"
   ]
  },
  {
   "cell_type": "code",
   "execution_count": 13,
   "id": "f475f91d-b65c-4566-a35d-dba3fd11c041",
   "metadata": {},
   "outputs": [
    {
     "name": "stdout",
     "output_type": "stream",
     "text": [
      "type(mol)=<class 'scm.plams.mol.molecule.Molecule'>\n",
      "mol.get_formula()='O16Si8'\n",
      "type(ase_atoms)=<class 'ase.atoms.Atoms'>\n",
      "ase_atoms.get_chemical_formula()='O16Si8'\n"
     ]
    },
    {
     "data": {
      "image/png": "[encoded data removed]",
      "text/plain": [
       "<Figure size 432x288 with 1 Axes>"
      ]
     },
     "metadata": {
      "needs_background": "light"
     },
     "output_type": "display_data"
    }
   ],
   "source": [
    "from scm.plams import toASE\n",
    "from ase import Atoms\n",
    "from ase.visualize.plot import plot_atoms\n",
    "\n",
    "print(f\"{type(mol)=}\")\n",
    "print(f\"{mol.get_formula()=}\")\n",
    "\n",
    "ase_atoms: Atoms = toASE(mol)\n",
    "print(f\"{type(ase_atoms)=}\")\n",
    "print(f\"{ase_atoms.get_chemical_formula()=}\")\n",
    "\n",
    "plot_atoms(ase_atoms, rotation=\"-85x,5y,0z\");"
   ]
  },
  {
   "cell_type": "markdown",
   "id": "3627b652-b523-4113-a2f6-1cf716efbda7",
   "metadata": {},
   "source": [
    "#### Convert ASE Atoms to PLAMS Molecule"
   ]
  },
  {
   "cell_type": "code",
   "execution_count": 14,
   "id": "3cf52bd7-5892-48f7-bc6b-9a5f24ca6ae2",
   "metadata": {},
   "outputs": [
    {
     "name": "stdout",
     "output_type": "stream",
     "text": [
      "type(mol)=<class 'scm.plams.mol.molecule.Molecule'>\n"
     ]
    },
    {
     "data": {
      "image/png": "[encoded data removed]",
      "text/plain": [
       "<Figure size 144x144 with 1 Axes>"
      ]
     },
     "metadata": {
      "needs_background": "light"
     },
     "output_type": "display_data"
    }
   ],
   "source": [
    "from scm.plams import fromASE, plot_molecule, Molecule\n",
    "\n",
    "mol: Molecule = fromASE(ase_atoms)\n",
    "print(f\"{type(mol)=}\")\n",
    "plot_molecule(mol, rotation=\"-85x,5y,0z\");"
   ]
  },
  {
   "cell_type": "markdown",
   "id": "af5218b8-d203-4ceb-8d91-c4097068716a",
   "metadata": {},
   "source": [
    "### RDKit Mol Python class"
   ]
  },
  {
   "cell_type": "markdown",
   "id": "9dd59753-79ca-45e8-9ba5-701e1010fb07",
   "metadata": {},
   "source": [
    "#### Convert PLAMS Molecule to RDKit Mol"
   ]
  },
  {
   "cell_type": "code",
   "execution_count": 15,
   "id": "a9d0f944-cfcf-40bd-b874-0d4b081788af",
   "metadata": {},
   "outputs": [
    {
     "name": "stdout",
     "output_type": "stream",
     "text": [
      "type(rdkit_mol)=<class 'rdkit.Chem.rdchem.Mol'>\n"
     ]
    },
    {
     "data": {
      "image/png": "[encoded data removed]",
      "image/svg+xml": [
       "<?xml version='1.0' encoding='iso-8859-1'?>\n",
       "<svg version='1.1' baseProfile='full'\n",
       "              xmlns:svg='http://www.w3.org/2000/svg'\n",
       "                      xmlns:rdkit='http://www.rdkit.org/xml'\n",
       "                      xmlns:xlink='http://www.w3.org/1999/xlink'\n",
       "                  xml:space='preserve'\n",
       "width='250px' height='250px' >\n",
       "<rect style='opacity:1.0;fill:#FFFFFF;stroke:none' width='250' height='250' x='0' y='0'> </rect>\n",
       "<path d='M 95.319,148.185 67.3192,148.298' style='fill:none;fill-rule:evenodd;stroke:#000000;stroke-width:2px;stroke-linecap:butt;stroke-linejoin:miter;stroke-opacity:1' />\n",
       "<path d='M 91.0945,142.17 71.4947,142.25' style='fill:none;fill-rule:evenodd;stroke:#000000;stroke-width:2px;stroke-linecap:butt;stroke-linejoin:miter;stroke-opacity:1' />\n",
       "<path d='M 95.319,148.185 110.136,124.995' style='fill:none;fill-rule:evenodd;stroke:#000000;stroke-width:2px;stroke-linecap:butt;stroke-linejoin:miter;stroke-opacity:1' />\n",
       "<path d='M 95.319,148.185 103.04,161.348' style='fill:none;fill-rule:evenodd;stroke:#000000;stroke-width:2px;stroke-linecap:butt;stroke-linejoin:miter;stroke-opacity:1' />\n",
       "<path d='M 67.3192,148.298 52.7761,124.963' style='fill:none;fill-rule:evenodd;stroke:#000000;stroke-width:2px;stroke-linecap:butt;stroke-linejoin:miter;stroke-opacity:1' />\n",
       "<path d='M 67.3192,148.298 59.4691,161.523' style='fill:none;fill-rule:evenodd;stroke:#000000;stroke-width:2px;stroke-linecap:butt;stroke-linejoin:miter;stroke-opacity:1' />\n",
       "<path d='M 52.7761,124.963 67.3328,101.646' style='fill:none;fill-rule:evenodd;stroke:#000000;stroke-width:2px;stroke-linecap:butt;stroke-linejoin:miter;stroke-opacity:1' />\n",
       "<path d='M 60.076,124.659 70.2658,108.337' style='fill:none;fill-rule:evenodd;stroke:#000000;stroke-width:2px;stroke-linecap:butt;stroke-linejoin:miter;stroke-opacity:1' />\n",
       "<path d='M 52.7761,124.963 40.8937,125.096' style='fill:none;fill-rule:evenodd;stroke:#000000;stroke-width:2px;stroke-linecap:butt;stroke-linejoin:miter;stroke-opacity:1' />\n",
       "<path d='M 40.8937,125.096 29.0112,125.23' style='fill:none;fill-rule:evenodd;stroke:#0000FF;stroke-width:2px;stroke-linecap:butt;stroke-linejoin:miter;stroke-opacity:1' />\n",
       "<path d='M 67.3328,101.646 95.3306,101.788' style='fill:none;fill-rule:evenodd;stroke:#000000;stroke-width:2px;stroke-linecap:butt;stroke-linejoin:miter;stroke-opacity:1' />\n",
       "<path d='M 67.3328,101.646 59.4931,88.4475' style='fill:none;fill-rule:evenodd;stroke:#000000;stroke-width:2px;stroke-linecap:butt;stroke-linejoin:miter;stroke-opacity:1' />\n",
       "<path d='M 95.3306,101.788 110.136,124.995' style='fill:none;fill-rule:evenodd;stroke:#000000;stroke-width:2px;stroke-linecap:butt;stroke-linejoin:miter;stroke-opacity:1' />\n",
       "<path d='M 92.4665,108.513 102.83,124.758' style='fill:none;fill-rule:evenodd;stroke:#000000;stroke-width:2px;stroke-linecap:butt;stroke-linejoin:miter;stroke-opacity:1' />\n",
       "<path d='M 95.3306,101.788 103.063,88.6108' style='fill:none;fill-rule:evenodd;stroke:#000000;stroke-width:2px;stroke-linecap:butt;stroke-linejoin:miter;stroke-opacity:1' />\n",
       "<path d='M 110.136,124.995 139.864,125.005' style='fill:none;fill-rule:evenodd;stroke:#000000;stroke-width:2px;stroke-linecap:butt;stroke-linejoin:miter;stroke-opacity:1' />\n",
       "<path d='M 154.681,101.815 182.681,101.702' style='fill:none;fill-rule:evenodd;stroke:#000000;stroke-width:2px;stroke-linecap:butt;stroke-linejoin:miter;stroke-opacity:1' />\n",
       "<path d='M 158.905,107.83 178.505,107.75' style='fill:none;fill-rule:evenodd;stroke:#000000;stroke-width:2px;stroke-linecap:butt;stroke-linejoin:miter;stroke-opacity:1' />\n",
       "<path d='M 154.681,101.815 139.864,125.005' style='fill:none;fill-rule:evenodd;stroke:#000000;stroke-width:2px;stroke-linecap:butt;stroke-linejoin:miter;stroke-opacity:1' />\n",
       "<path d='M 154.681,101.815 146.96,88.6524' style='fill:none;fill-rule:evenodd;stroke:#000000;stroke-width:2px;stroke-linecap:butt;stroke-linejoin:miter;stroke-opacity:1' />\n",
       "<path d='M 139.864,125.005 154.669,148.212' style='fill:none;fill-rule:evenodd;stroke:#000000;stroke-width:2px;stroke-linecap:butt;stroke-linejoin:miter;stroke-opacity:1' />\n",
       "<path d='M 147.17,125.242 157.534,141.487' style='fill:none;fill-rule:evenodd;stroke:#000000;stroke-width:2px;stroke-linecap:butt;stroke-linejoin:miter;stroke-opacity:1' />\n",
       "<path d='M 154.669,148.212 182.667,148.354' style='fill:none;fill-rule:evenodd;stroke:#000000;stroke-width:2px;stroke-linecap:butt;stroke-linejoin:miter;stroke-opacity:1' />\n",
       "<path d='M 154.669,148.212 146.937,161.389' style='fill:none;fill-rule:evenodd;stroke:#000000;stroke-width:2px;stroke-linecap:butt;stroke-linejoin:miter;stroke-opacity:1' />\n",
       "<path d='M 182.667,148.354 197.224,125.037' style='fill:none;fill-rule:evenodd;stroke:#000000;stroke-width:2px;stroke-linecap:butt;stroke-linejoin:miter;stroke-opacity:1' />\n",
       "<path d='M 179.734,141.663 189.924,125.341' style='fill:none;fill-rule:evenodd;stroke:#000000;stroke-width:2px;stroke-linecap:butt;stroke-linejoin:miter;stroke-opacity:1' />\n",
       "<path d='M 182.667,148.354 190.507,161.552' style='fill:none;fill-rule:evenodd;stroke:#000000;stroke-width:2px;stroke-linecap:butt;stroke-linejoin:miter;stroke-opacity:1' />\n",
       "<path d='M 197.224,125.037 182.681,101.702' style='fill:none;fill-rule:evenodd;stroke:#000000;stroke-width:2px;stroke-linecap:butt;stroke-linejoin:miter;stroke-opacity:1' />\n",
       "<path d='M 197.224,125.037 209.106,124.904' style='fill:none;fill-rule:evenodd;stroke:#000000;stroke-width:2px;stroke-linecap:butt;stroke-linejoin:miter;stroke-opacity:1' />\n",
       "<path d='M 209.106,124.904 220.989,124.77' style='fill:none;fill-rule:evenodd;stroke:#0000FF;stroke-width:2px;stroke-linecap:butt;stroke-linejoin:miter;stroke-opacity:1' />\n",
       "<path d='M 182.681,101.702 190.531,88.4767' style='fill:none;fill-rule:evenodd;stroke:#000000;stroke-width:2px;stroke-linecap:butt;stroke-linejoin:miter;stroke-opacity:1' />\n",
       "<path d='M 228.453,119.695 229.805,117.51' style='fill:none;fill-rule:evenodd;stroke:#0000FF;stroke-width:2px;stroke-linecap:butt;stroke-linejoin:miter;stroke-opacity:1' />\n",
       "<path d='M 229.805,117.51 231.156,115.324' style='fill:none;fill-rule:evenodd;stroke:#000000;stroke-width:2px;stroke-linecap:butt;stroke-linejoin:miter;stroke-opacity:1' />\n",
       "<path d='M 227.822,129.748 229.813,133.786' style='fill:none;fill-rule:evenodd;stroke:#0000FF;stroke-width:2px;stroke-linecap:butt;stroke-linejoin:miter;stroke-opacity:1' />\n",
       "<path d='M 229.813,133.786 231.803,137.824' style='fill:none;fill-rule:evenodd;stroke:#000000;stroke-width:2px;stroke-linecap:butt;stroke-linejoin:miter;stroke-opacity:1' />\n",
       "<path d='M 21.5468,130.305 20.1955,132.49' style='fill:none;fill-rule:evenodd;stroke:#0000FF;stroke-width:2px;stroke-linecap:butt;stroke-linejoin:miter;stroke-opacity:1' />\n",
       "<path d='M 20.1955,132.49 18.8441,134.676' style='fill:none;fill-rule:evenodd;stroke:#000000;stroke-width:2px;stroke-linecap:butt;stroke-linejoin:miter;stroke-opacity:1' />\n",
       "<path d='M 22.1775,120.252 20.1874,116.214' style='fill:none;fill-rule:evenodd;stroke:#0000FF;stroke-width:2px;stroke-linecap:butt;stroke-linejoin:miter;stroke-opacity:1' />\n",
       "<path d='M 20.1874,116.214 18.1974,112.176' style='fill:none;fill-rule:evenodd;stroke:#000000;stroke-width:2px;stroke-linecap:butt;stroke-linejoin:miter;stroke-opacity:1' />\n",
       "<text x='220.989' y='129.748' style='font-size:10px;font-style:normal;font-weight:normal;fill-opacity:1;stroke:none;font-family:sans-serif;text-anchor:start;fill:#0000FF' ><tspan>N</tspan></text>\n",
       "<text x='20.2981' y='130.305' style='font-size:10px;font-style:normal;font-weight:normal;fill-opacity:1;stroke:none;font-family:sans-serif;text-anchor:start;fill:#0000FF' ><tspan>N</tspan></text>\n",
       "<text x='101.632' y='171.4' style='font-size:10px;font-style:normal;font-weight:normal;fill-opacity:1;stroke:none;font-family:sans-serif;text-anchor:start;fill:#000000' ><tspan>H</tspan></text>\n",
       "<text x='52.129' y='171.576' style='font-size:10px;font-style:normal;font-weight:normal;fill-opacity:1;stroke:none;font-family:sans-serif;text-anchor:start;fill:#000000' ><tspan>H</tspan></text>\n",
       "<text x='52.1509' y='88.4475' style='font-size:10px;font-style:normal;font-weight:normal;fill-opacity:1;stroke:none;font-family:sans-serif;text-anchor:start;fill:#000000' ><tspan>H</tspan></text>\n",
       "<text x='101.655' y='88.6108' style='font-size:10px;font-style:normal;font-weight:normal;fill-opacity:1;stroke:none;font-family:sans-serif;text-anchor:start;fill:#000000' ><tspan>H</tspan></text>\n",
       "<text x='139.655' y='88.6524' style='font-size:10px;font-style:normal;font-weight:normal;fill-opacity:1;stroke:none;font-family:sans-serif;text-anchor:start;fill:#000000' ><tspan>H</tspan></text>\n",
       "<text x='139.632' y='171.442' style='font-size:10px;font-style:normal;font-weight:normal;fill-opacity:1;stroke:none;font-family:sans-serif;text-anchor:start;fill:#000000' ><tspan>H</tspan></text>\n",
       "<text x='189.136' y='171.605' style='font-size:10px;font-style:normal;font-weight:normal;fill-opacity:1;stroke:none;font-family:sans-serif;text-anchor:start;fill:#000000' ><tspan>H</tspan></text>\n",
       "<text x='189.158' y='88.4767' style='font-size:10px;font-style:normal;font-weight:normal;fill-opacity:1;stroke:none;font-family:sans-serif;text-anchor:start;fill:#000000' ><tspan>H</tspan></text>\n",
       "<text x='229.923' y='147.877' style='font-size:10px;font-style:normal;font-weight:normal;fill-opacity:1;stroke:none;font-family:sans-serif;text-anchor:start;fill:#000000' ><tspan>H</tspan></text>\n",
       "<text x='229.907' y='115.324' style='font-size:10px;font-style:normal;font-weight:normal;fill-opacity:1;stroke:none;font-family:sans-serif;text-anchor:start;fill:#000000' ><tspan>H</tspan></text>\n",
       "<text x='11.3797' y='144.729' style='font-size:10px;font-style:normal;font-weight:normal;fill-opacity:1;stroke:none;font-family:sans-serif;text-anchor:start;fill:#000000' ><tspan>H</tspan></text>\n",
       "<text x='11.3636' y='112.176' style='font-size:10px;font-style:normal;font-weight:normal;fill-opacity:1;stroke:none;font-family:sans-serif;text-anchor:start;fill:#000000' ><tspan>H</tspan></text>\n",
       "</svg>\n"
      ],
      "text/plain": [
       "<rdkit.Chem.rdchem.Mol at 0x77b0c5b64ee0>"
      ]
     },
     "execution_count": 15,
     "metadata": {},
     "output_type": "execute_result"
    }
   ],
   "source": [
    "from scm.plams import to_rdmol, Molecule\n",
    "from rdkit.Chem import Draw\n",
    "from rdkit.Chem.Draw import IPythonConsole\n",
    "\n",
    "IPythonConsole.ipython_useSVG = True\n",
    "IPythonConsole.molSize = 250, 250\n",
    "\n",
    "plams_mol = Molecule(xyz_file)\n",
    "# guess bonds, the bonds will be included in the RDKit molecule\n",
    "plams_mol.guess_bonds()\n",
    "\n",
    "rdkit_mol = to_rdmol(plams_mol)\n",
    "print(f\"{type(rdkit_mol)=}\")\n",
    "rdkit_mol"
   ]
  },
  {
   "cell_type": "markdown",
   "id": "ca39cbe8-38fe-4b81-a427-5411b356ddcb",
   "metadata": {},
   "source": [
    "#### Convert RDKit Mol to PLAMS Molecule"
   ]
  },
  {
   "cell_type": "code",
   "execution_count": 16,
   "id": "2154888a-8305-423b-8d99-341e5a52f44a",
   "metadata": {},
   "outputs": [
    {
     "name": "stdout",
     "output_type": "stream",
     "text": [
      "type(rdkit_mol)=<class 'rdkit.Chem.rdchem.Mol'>\n",
      "type(mol)=<class 'scm.plams.mol.molecule.Molecule'>\n"
     ]
    },
    {
     "data": {
      "image/png": "[encoded data removed]",
      "text/plain": [
       "<Figure size 144x144 with 1 Axes>"
      ]
     },
     "metadata": {
      "needs_background": "light"
     },
     "output_type": "display_data"
    }
   ],
   "source": [
    "from scm.plams import from_rdmol, plot_molecule, Molecule\n",
    "\n",
    "mol: Molecule = from_rdmol(rdkit_mol)\n",
    "\n",
    "print(f\"{type(rdkit_mol)=}\")\n",
    "print(f\"{type(mol)=}\")\n",
    "plot_molecule(mol);"
   ]
  },
  {
   "cell_type": "markdown",
   "id": "3d18c8c5-a1f6-4ef7-bb63-44d14faa3333",
   "metadata": {},
   "source": [
    "### SCM libbase UnifiedChemicalSystem Python class\n",
    "\n",
    "#### Convert PLAMS Molecule to UnifiedChemicalSystem"
   ]
  },
  {
   "cell_type": "code",
   "execution_count": 17,
   "id": "99d4138e-9dac-4f70-bdd3-be072b5dfc34",
   "metadata": {},
   "outputs": [
    {
     "name": "stdout",
     "output_type": "stream",
     "text": [
      "type(chemsys)=<class 'scm_libbase_internal.UnifiedChemicalSystem'>\n",
      "System\n",
      "   Atoms\n",
      "      C   -1.4762700000000000 -1.1531600000000000 -0.2927960000000000\n",
      "      C   -2.8689200000000001 -1.1588099999999999 -0.2946920000000000\n",
      "      C   -3.5922599999999996  0.0018495600000000  0.0382389000000000\n",
      "      C   -2.8682400000000001  1.1615899999999997  0.3732800000000000\n",
      "      C   -1.4756899999999997  1.1545000000000001  0.3733980000000000\n",
      "      C   -0.7393110000000001  0.0002348960000000  0.0410634000000000\n",
      "      C    1.4762700000000000  1.1531600000000000 -0.2927960000000000\n",
      "      C    0.7393110000000001 -0.0002348960000000  0.0410634000000000\n",
      "      C    1.4756899999999997 -1.1545000000000001  0.3733980000000000\n",
      "      C    2.8682400000000001 -1.1615899999999997  0.3732800000000000\n",
      "      C    3.5922599999999996 -0.0018495600000000  0.0382389000000000\n",
      "      C    2.8689200000000001  1.1588099999999999 -0.2946920000000000\n",
      "      N    4.9909600000000003  0.0138526000000000  0.0923716000000000\n",
      "      N   -4.9909600000000003 -0.0138526000000000  0.0923716000000000\n",
      "      H   -0.9455750000000001 -2.0578500000000002 -0.5825910000000000\n",
      "      H   -3.4077600000000001 -2.0665900000000001 -0.5655390000000000\n",
      "      H   -3.4066700000000001  2.0680399999999999  0.6490430000000000\n",
      "      H   -0.9444339999999999  2.0599200000000000  0.6597379999999999\n",
      "      H    0.9455750000000001  2.0578500000000002 -0.5825910000000000\n",
      "      H    0.9444339999999999 -2.0599200000000000  0.6597379999999999\n",
      "      H    3.4066700000000001 -2.0680399999999999  0.6490430000000000\n",
      "      H    3.4077600000000001  2.0665900000000001 -0.5655390000000000\n",
      "      H    5.4353400000000001 -0.8878359999999998 -0.0246370000000000\n",
      "      H    5.4345399999999993  0.7312659999999999 -0.4668780000000000\n",
      "      H   -5.4345399999999993 -0.7312659999999999 -0.4668780000000000\n",
      "      H   -5.4353400000000001  0.8878359999999998 -0.0246370000000000\n",
      "   End\n",
      "End\n"
     ]
    }
   ],
   "source": [
    "from scm.utils.conversions import plams_molecule_to_chemsys, chemsys_to_plams_molecule\n",
    "from scm.plams import Molecule\n",
    "from scm.libbase import UnifiedChemicalSystem\n",
    "\n",
    "mol = Molecule(xyz_file)\n",
    "chemsys = plams_molecule_to_chemsys(mol)\n",
    "print(f\"{type(chemsys)=}\")\n",
    "print(chemsys)"
   ]
  },
  {
   "cell_type": "markdown",
   "id": "b50a29db-0a73-45e4-b15d-e181522819d6",
   "metadata": {},
   "source": [
    "#### Convert UnifiedChemicalSystem to PLAMS Molecule"
   ]
  },
  {
   "cell_type": "code",
   "execution_count": 18,
   "id": "33026182-f8d0-4950-a9f4-58f2ff784f9f",
   "metadata": {},
   "outputs": [
    {
     "name": "stdout",
     "output_type": "stream",
     "text": [
      "type(chemsys)=<class 'scm_libbase_internal.UnifiedChemicalSystem'>\n",
      "type(mol)=<class 'scm.plams.mol.molecule.Molecule'>\n"
     ]
    },
    {
     "data": {
      "image/png": "[encoded data removed]",
      "text/plain": [
       "<Figure size 144x144 with 1 Axes>"
      ]
     },
     "metadata": {
      "needs_background": "light"
     },
     "output_type": "display_data"
    }
   ],
   "source": [
    "from scm.utils.conversions import plams_molecule_to_chemsys, chemsys_to_plams_molecule\n",
    "from scm.plams import Molecule\n",
    "from scm.libbase import UnifiedChemicalSystem\n",
    "\n",
    "mol = chemsys_to_plams_molecule(chemsys)\n",
    "print(f\"{type(chemsys)=}\")\n",
    "print(f\"{type(mol)=}\")\n",
    "plot_molecule(mol);"
   ]
  },
  {
   "cell_type": "markdown",
   "id": "6101a3ee-e500-4624-b5a8-fb737f55fb31",
   "metadata": {},
   "source": [
    "### pymatgen Structure and Molecule Python classes"
   ]
  },
  {
   "cell_type": "markdown",
   "id": "3bc035d5-2b0a-4c6b-a611-a4372f820b17",
   "metadata": {},
   "source": [
    "#### Convert PLAMS Molecule to pymatgen Structure (periodic)\n",
    "\n",
    "There is no builtin converter between PLAMS Molecule and pymatgen Structure (periodic crystal). Instead, you need to go through the ASE interface to both packages:"
   ]
  },
  {
   "cell_type": "code",
   "execution_count": 19,
   "id": "3cbe2fad-76f0-40cb-8d6a-ecde2b2b5be2",
   "metadata": {},
   "outputs": [
    {
     "name": "stdout",
     "output_type": "stream",
     "text": [
      "type(mol)=<class 'scm.plams.mol.molecule.Molecule'>\n",
      "type(pymatgen_structure)=<class 'pymatgen.core.structure.Structure'>\n",
      "Full Formula (Si8 O16)\n",
      "Reduced Formula: SiO2\n",
      "abc   :   9.873000   5.254000   8.770000\n",
      "angles:  90.000000  90.000000  90.000000\n",
      "pbc   :       True       True       True\n",
      "Sites (24)\n",
      "  #  SP         a     b       c\n",
      "---  ----  ------  ----  ------\n",
      "  0  O     0.5     0.25  0.3523\n",
      "  1  O     0       0.75  0.8523\n",
      "  2  O     0.5     0.75  0.6477\n",
      "  3  O     0       0.25  0.1477\n",
      "  4  O     0.31    0     0.5\n",
      "  5  O     0.81    0.5   0\n",
      "  6  O     0.69    0     0.5\n",
      "  7  O     0.19    0.5   0\n",
      "  8  O     0.31    0.5   0.5\n",
      "  9  O     0.81    0     0\n",
      " 10  O     0.69    0.5   0.5\n",
      " 11  O     0.19    0     0\n",
      " 12  O     0.25    0.25  0.25\n",
      " 13  O     0.75    0.75  0.75\n",
      " 14  O     0.75    0.25  0.25\n",
      " 15  O     0.25    0.75  0.75\n",
      " 16  Si    0.3428  0.25  0.4007\n",
      " 17  Si    0.8428  0.75  0.9007\n",
      " 18  Si    0.6572  0.25  0.4007\n",
      " 19  Si    0.1572  0.75  0.9007\n",
      " 20  Si    0.6572  0.75  0.5993\n",
      " 21  Si    0.1572  0.25  0.0993\n",
      " 22  Si    0.3428  0.75  0.5993\n",
      " 23  Si    0.8428  0.25  0.0993\n"
     ]
    },
    {
     "name": "stderr",
     "output_type": "stream",
     "text": [
      "/home/user/adfhome/bin/python3.8/lib/python3.8/site-packages/ase/io/cif.py:401: UserWarning: crystal system 'orthorhombic' is not interpreted for space group Spacegroup(74, setting=1). This may result in wrong setting!\n",
      "  warnings.warn(\n"
     ]
    }
   ],
   "source": [
    "from pymatgen.core.structure import Structure\n",
    "from pymatgen.io.ase import AseAtomsAdaptor\n",
    "import scm.plams\n",
    "from scm.plams import fromASE, toASE, Molecule\n",
    "from ase.io import read\n",
    "\n",
    "\n",
    "def convert_plams_molecule_to_pymatgen_structure(mol: Molecule) -> Structure:\n",
    "    return AseAtomsAdaptor().get_structure(toASE(mol))\n",
    "\n",
    "\n",
    "mol: scm.plams.Molecule = fromASE(read(cif_file))\n",
    "\n",
    "pymatgen_structure: Structure = convert_plams_molecule_to_pymatgen_structure(mol)\n",
    "\n",
    "print(f\"{type(mol)=}\")\n",
    "print(f\"{type(pymatgen_structure)=}\")\n",
    "print(pymatgen_structure)"
   ]
  },
  {
   "cell_type": "markdown",
   "id": "e5cbf591-feb1-4ce9-b1b4-78d916809637",
   "metadata": {},
   "source": [
    "#### Convert pymatgen Structure (periodic) to PLAMS Molecule\n",
    "\n",
    "Go through the ASE interface:"
   ]
  },
  {
   "cell_type": "code",
   "execution_count": 20,
   "id": "ec807839-44a4-4add-9be0-7879045dc747",
   "metadata": {},
   "outputs": [
    {
     "name": "stdout",
     "output_type": "stream",
     "text": [
      "type(pymatgen_structure)=<class 'pymatgen.core.structure.Structure'>\n",
      "type(mol)=<class 'scm.plams.mol.molecule.Molecule'>\n"
     ]
    }
   ],
   "source": [
    "from pymatgen.io.ase import AseAtomsAdaptor\n",
    "from pymatgen.core.structure import Structure\n",
    "from scm.plams import fromASE\n",
    "from scm.plams import Molecule\n",
    "\n",
    "\n",
    "def pymatgen_structure_to_plams_molecule(pymatgen_structure: Structure) -> Molecule:\n",
    "    return fromASE(AseAtomsAdaptor().get_atoms(pymatgen_structure))\n",
    "\n",
    "\n",
    "print(f\"{type(pymatgen_structure)=}\")\n",
    "\n",
    "mol = pymatgen_structure_to_plams_molecule(pymatgen_structure)\n",
    "print(f\"{type(mol)=}\")"
   ]
  },
  {
   "cell_type": "markdown",
   "id": "149b468f-a1f5-482b-a366-a2628fb179f3",
   "metadata": {},
   "source": [
    "#### Convert PLAMS Molecule to pymatgen Molecule (non-periodic)\n",
    "\n",
    "pymatgen has a special ``Molecule`` class for non-periodic systems. In PLAMS, the ``Molecule`` class is used for both periodic and non-periodic systems."
   ]
  },
  {
   "cell_type": "code",
   "execution_count": 21,
   "id": "1e76a470-1c6c-4c51-85d1-4ffd423f6cbf",
   "metadata": {},
   "outputs": [
    {
     "name": "stdout",
     "output_type": "stream",
     "text": [
      "type(plams_molecule)=<class 'scm.plams.mol.molecule.Molecule'>\n",
      "type(pymatgen_molecule)=<class 'pymatgen.core.structure.Molecule'>\n",
      "Full Formula (H12 C12 N2)\n",
      "Reduced Formula: H6C6N\n",
      "Charge = 0, Spin Mult = 1\n",
      "Sites (26)\n",
      "0 C    -1.476270    -1.153160    -0.292796\n",
      "1 C    -2.868920    -1.158810    -0.294692\n",
      "2 C    -3.592260     0.001850     0.038239\n",
      "3 C    -2.868240     1.161590     0.373280\n",
      "4 C    -1.475690     1.154500     0.373398\n",
      "5 C    -0.739311     0.000235     0.041063\n",
      "6 C     1.476270     1.153160    -0.292796\n",
      "7 C     0.739311    -0.000235     0.041063\n",
      "8 C     1.475690    -1.154500     0.373398\n",
      "9 C     2.868240    -1.161590     0.373280\n",
      "10 C     3.592260    -0.001850     0.038239\n",
      "11 C     2.868920     1.158810    -0.294692\n",
      "12 N     4.990960     0.013853     0.092372\n",
      "13 N    -4.990960    -0.013853     0.092372\n",
      "14 H    -0.945575    -2.057850    -0.582591\n",
      "15 H    -3.407760    -2.066590    -0.565539\n",
      "16 H    -3.406670     2.068040     0.649043\n",
      "17 H    -0.944434     2.059920     0.659738\n",
      "18 H     0.945575     2.057850    -0.582591\n",
      "19 H     0.944434    -2.059920     0.659738\n",
      "20 H     3.406670    -2.068040     0.649043\n",
      "21 H     3.407760     2.066590    -0.565539\n",
      "22 H     5.435340    -0.887836    -0.024637\n",
      "23 H     5.434540     0.731266    -0.466878\n",
      "24 H    -5.434540    -0.731266    -0.466878\n",
      "25 H    -5.435340     0.887836    -0.024637\n"
     ]
    }
   ],
   "source": [
    "import pymatgen.core.structure\n",
    "import scm.plams\n",
    "from pymatgen.io.ase import AseAtomsAdaptor\n",
    "from scm.plams import toASE\n",
    "\n",
    "\n",
    "def convert_plams_molecule_to_pymatgen_molecule(\n",
    "    mol: scm.plams.Molecule,\n",
    ") -> pymatgen.core.structure.Molecule:\n",
    "    return AseAtomsAdaptor().get_molecule(toASE(mol))\n",
    "\n",
    "\n",
    "plams_molecule = scm.plams.Molecule(xyz_file)\n",
    "\n",
    "pymatgen_molecule: pymatgen.core.structure.Molecule = convert_plams_molecule_to_pymatgen_molecule(plams_molecule)\n",
    "\n",
    "print(f\"{type(plams_molecule)=}\")\n",
    "print(f\"{type(pymatgen_molecule)=}\")\n",
    "print(pymatgen_molecule)"
   ]
  },
  {
   "cell_type": "markdown",
   "id": "8fbfb59a-6e33-4cc3-8ca7-bd3e21b4030f",
   "metadata": {},
   "source": [
    "#### Convert pymatgen Molecule (non-periodic) to PLAMS Molecule"
   ]
  },
  {
   "cell_type": "code",
   "execution_count": 22,
   "id": "bce3f898-2f36-4027-85cf-ce0a2f76b6d3",
   "metadata": {},
   "outputs": [
    {
     "name": "stdout",
     "output_type": "stream",
     "text": [
      "type(pymatgen_molecule)=<class 'pymatgen.core.structure.Molecule'>\n",
      "type(mol)=<class 'scm.plams.mol.molecule.Molecule'>\n"
     ]
    },
    {
     "data": {
      "image/png": "[encoded data removed]",
      "text/plain": [
       "<Figure size 144x144 with 1 Axes>"
      ]
     },
     "metadata": {
      "needs_background": "light"
     },
     "output_type": "display_data"
    }
   ],
   "source": [
    "from pymatgen.io.ase import AseAtomsAdaptor\n",
    "import pymatgen.core.structure\n",
    "from scm.plams import fromASE\n",
    "from scm.plams import Molecule\n",
    "\n",
    "\n",
    "def pymatgen_molecule_to_plams_molecule(\n",
    "    pymatgen_molecule: pymatgen.core.structure.Molecule,\n",
    ") -> scm.plams.Molecule:\n",
    "    return fromASE(AseAtomsAdaptor().get_atoms(pymatgen_molecule))\n",
    "\n",
    "\n",
    "print(f\"{type(pymatgen_molecule)=}\")\n",
    "\n",
    "mol = pymatgen_molecule_to_plams_molecule(pymatgen_molecule)\n",
    "print(f\"{type(mol)=}\")\n",
    "plot_molecule(mol);"
   ]
  }
 ],
 "metadata": {
  "kernelspec": {
   "display_name": "Python 3 (ipykernel)",
   "language": "python",
   "name": "python3"
  },
  "language_info": {
   "codemirror_mode": {
    "name": "ipython",
    "version": 3
   },
   "file_extension": ".py",
   "mimetype": "text/x-python",
   "name": "python",
   "nbconvert_exporter": "python",
   "pygments_lexer": "ipython3",
   "version": "3.8.16"
  }
 },
 "nbformat": 4,
 "nbformat_minor": 5
}
