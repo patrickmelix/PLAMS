{
 "cells": [
  {
   "cell_type": "markdown",
   "id": "8656c0d1-d101-4d1e-bb5f-87eb07c8059f",
   "metadata": {},
   "source": [
    "## Initialization"
   ]
  },
  {
   "cell_type": "code",
   "execution_count": 1,
   "id": "6fc8050f-5451-4c49-9213-08143f9b111d",
   "metadata": {},
   "outputs": [],
   "source": [
    "from scm.plams import Settings, fromASE, plot_molecule\n",
    "from scm.plams.recipes.bandfragment import BANDFragmentJob\n",
    "\n",
    "# build the surface\n",
    "from ase import Atoms\n",
    "from ase.build import fcc111, add_adsorbate"
   ]
  },
  {
   "cell_type": "markdown",
   "id": "b8d0c426-63d1-4a60-8868-8f63bdd9889a",
   "metadata": {},
   "source": [
    "## Build Surface & Fragments"
   ]
  },
  {
   "cell_type": "markdown",
   "id": "35b58534-0180-4028-99fd-8eb8a0bb9539",
   "metadata": {},
   "source": [
    "We first build a gold surface and add the hydrogen adsorbate."
   ]
  },
  {
   "cell_type": "code",
   "execution_count": 2,
   "id": "7157a638-eb62-447d-85b3-4965b0c8f7fe",
   "metadata": {},
   "outputs": [
    {
     "data": {
      "image/png": "[encoded data removed]",
      "text/plain": [
       "<Figure size 200x200 with 1 Axes>"
      ]
     },
     "metadata": {},
     "output_type": "display_data"
    }
   ],
   "source": [
    "mol = fcc111(\"Au\", size=(2, 2, 3))\n",
    "add_adsorbate(mol, \"H\", 1.5, \"ontop\")\n",
    "mol.center(vacuum=10.0, axis=2)\n",
    "plot_molecule(mol);"
   ]
  },
  {
   "cell_type": "markdown",
   "id": "ae35b03e-7d99-494f-a2c7-d7c7c4a182b7",
   "metadata": {},
   "source": [
    "The system is then split into two fragments based on the species."
   ]
  },
  {
   "cell_type": "code",
   "execution_count": 3,
   "id": "4c25aeb8-4893-4389-b373-ae12d9ed3a8a",
   "metadata": {},
   "outputs": [],
   "source": [
    "surface = mol.copy()\n",
    "symbols = surface.get_chemical_symbols()\n",
    "del surface[[i for i in range(len(symbols)) if symbols[i] != \"Au\"]]\n",
    "adsorbate = mol.copy()\n",
    "del adsorbate[[i for i in range(len(symbols)) if symbols[i] == \"Au\"]]"
   ]
  },
  {
   "cell_type": "markdown",
   "id": "1245bc4b-2914-44c7-b281-74fd3f70f6d3",
   "metadata": {},
   "source": [
    "If available, optimized fragments can also be loaded."
   ]
  },
  {
   "cell_type": "code",
   "execution_count": 4,
   "id": "6243ece2-bfe2-4864-8e46-052b8c13ef43",
   "metadata": {},
   "outputs": [],
   "source": [
    "# from ase import io\n",
    "# surface_opt = io.read(\"surface_opt.xyz\")\n",
    "# adsorbate_opt = io.read(\"adsorbate_opt.xyz\")\n",
    "# assert len(surface_opt) == len(surface)\n",
    "# assert len(adsorbate_opt) == len(adsorbate)"
   ]
  },
  {
   "cell_type": "markdown",
   "id": "b8361589-3a1b-4aa0-9c0d-491420cb5ca0",
   "metadata": {},
   "source": [
    "## Set Up & Run Job"
   ]
  },
  {
   "cell_type": "markdown",
   "id": "cece4839-9caf-4489-a8a0-2580dae86918",
   "metadata": {},
   "source": [
    "For efficiency in this example, we use a minimal basis and reduced computational details to run the job."
   ]
  },
  {
   "cell_type": "code",
   "execution_count": 5,
   "id": "c1d0da8d-195b-4e9a-9b72-1fa113f52c6d",
   "metadata": {},
   "outputs": [],
   "source": [
    "base_settings = Settings()\n",
    "base_settings.input.ams.task = \"SinglePoint\"\n",
    "base_settings.input.band.basis.type = \"SZ\"\n",
    "base_settings.input.band.basis.core = \"Large\"\n",
    "base_settings.input.band.dos.calcdos = \"No\"\n",
    "base_settings.input.band.kspace.regular.numberofpoints = \"3 3\"\n",
    "base_settings.input.band.beckegrid.quality = \"Basic\"\n",
    "base_settings.input.band.zlmfit.quality = \"Basic\"\n",
    "base_settings.input.band.usesymmetry = \"No\"\n",
    "base_settings.input.band.xc.gga = \"PBE\"\n",
    "base_settings.input.band.xc.dispersion = \"Grimme4\"\n",
    "\n",
    "eda_settings = Settings()\n",
    "eda_settings.input.band.peda = \"\"\n",
    "\n",
    "eda_job = BANDFragmentJob(\n",
    "    fragment1=fromASE(surface),\n",
    "    fragment2=fromASE(adsorbate),\n",
    "    settings=base_settings,\n",
    "    full_settings=eda_settings,\n",
    "    #    fragment1_opt=fromASE(surface_opt),\n",
    "    #    fragment2_opt=fromASE(adsorbate_opt),\n",
    ")"
   ]
  },
  {
   "cell_type": "code",
   "execution_count": 6,
   "id": "6c5b3e43-5ff9-472e-8bb0-bdfba6138231",
   "metadata": {},
   "outputs": [
    {
     "name": "stdout",
     "output_type": "stream",
     "text": [
      "[25.07|16:11:02] JOB plamsjob STARTED\n",
      "[25.07|16:11:02] JOB plamsjob RUNNING\n",
      "[25.07|16:11:02] JOB plamsjob/frag1 STARTED\n",
      "[25.07|16:11:02] JOB plamsjob/frag1 RUNNING\n",
      "[25.07|16:11:49] JOB plamsjob/frag1 FINISHED\n",
      "[25.07|16:11:49] JOB plamsjob/frag1 SUCCESSFUL\n",
      "[25.07|16:11:49] JOB plamsjob/frag2 STARTED\n",
      "[25.07|16:11:49] JOB plamsjob/frag2 RUNNING\n",
      "[25.07|16:11:52] JOB plamsjob/frag2 FINISHED\n",
      "[25.07|16:11:52] JOB plamsjob/frag2 SUCCESSFUL\n",
      "[25.07|16:11:52] JOB plamsjob/full STARTED\n",
      "[25.07|16:11:52] JOB plamsjob/full RUNNING\n",
      "[25.07|16:12:38] JOB plamsjob/full FINISHED\n",
      "[25.07|16:12:38] JOB plamsjob/full SUCCESSFUL\n",
      "[25.07|16:12:38] JOB plamsjob FINISHED\n",
      "[25.07|16:12:38] JOB plamsjob SUCCESSFUL\n"
     ]
    },
    {
     "data": {
      "text/plain": [
       "<scm.plams.recipes.bandfragment.BANDFragmentResults at 0x12f943e20>"
      ]
     },
     "execution_count": 6,
     "metadata": {},
     "output_type": "execute_result"
    }
   ],
   "source": [
    "eda_job.run()"
   ]
  },
  {
   "cell_type": "markdown",
   "id": "408bad71-c651-4ed0-85c6-977893425841",
   "metadata": {},
   "source": [
    "## Print Results"
   ]
  },
  {
   "cell_type": "code",
   "execution_count": 8,
   "id": "f4935d02-6269-49c3-91de-47291bb35f83",
   "metadata": {},
   "outputs": [
    {
     "name": "stdout",
     "output_type": "stream",
     "text": [
      "Term                 Energy [kJ/mol]\n",
      "E_int                 -181.9734\n",
      "E_int_disp              -9.1367\n",
      "E_Pauli               1122.6899\n",
      "E_elstat              -519.8489\n",
      "E_orb                 -775.6514\n",
      "E_1                  -1861.0731\n",
      "E_2                     -1.7452\n"
     ]
    }
   ],
   "source": [
    "results = eda_job.results\n",
    "eda_res = eda_job.results.get_energy_decomposition()\n",
    "print(\"{:<20} {:>10}\".format(\"Term\", \"Energy [kJ/mol]\"))\n",
    "for key, value in eda_res.items():\n",
    "    print(\"{:<20} {:>10.4f}\".format(key, value))"
   ]
  }
 ],
 "metadata": {
  "kernelspec": {
   "display_name": "Python 3 (ipykernel)",
   "language": "python",
   "name": "python3"
  },
  "language_info": {
   "codemirror_mode": {
    "name": "ipython",
    "version": 3
   },
   "file_extension": ".py",
   "mimetype": "text/x-python",
   "name": "python",
   "nbconvert_exporter": "python",
   "pygments_lexer": "ipython3",
   "version": "3.8.16"
  }
 },
 "nbformat": 4,
 "nbformat_minor": 5
}
