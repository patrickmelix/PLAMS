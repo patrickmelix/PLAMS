{
 "cells": [
  {
   "cell_type": "markdown",
   "id": "dbdeb9b0-adaf-4663-8558-0cbc72ae1a0b",
   "metadata": {},
   "source": [
    "## Initial imports"
   ]
  },
  {
   "cell_type": "code",
   "execution_count": 1,
   "id": "0aa88d32-1696-4a3a-9394-1533e5a955dc",
   "metadata": {},
   "outputs": [],
   "source": [
    "from scm.plams import *\n",
    "import numpy as np\n",
    "import os\n",
    "import matplotlib.pyplot as plt\n",
    "from typing import List"
   ]
  },
  {
   "cell_type": "markdown",
   "id": "6757c176-5f21-40a3-8544-5b9d90fd7128",
   "metadata": {},
   "source": [
    "## Function definitions\n",
    "\n",
    "The ``addition()`` function \n",
    "\n",
    "* performs a preliminary MD simulation with UFF to arrange the two reactant molecules at an approximate transition state,\n",
    "\n",
    "* then does a transition state search with DFTB, specifying the known reaction coordinate (bond formation),\n",
    "\n",
    "* then uses the PESExploration LandscapeRefinement tool to get the two corresponding minima and energy landscape. Alternatively, one could also do an IRC (intrinsic reaction coordinate) calculation."
   ]
  },
  {
   "cell_type": "code",
   "execution_count": 2,
   "id": "38725c5d-09d3-472e-b6de-5aa5b4a97ef0",
   "metadata": {},
   "outputs": [],
   "source": [
    "def addition(\n",
    "    mol1: Molecule,\n",
    "    mol2: Molecule,\n",
    "    covalent_radius_multiplier: float = 1.2,\n",
    "):\n",
    "    mol1_ind = get_active_i(mol1)\n",
    "    mol2_ind = get_active_i(mol2)\n",
    "    if len(mol1_ind) != 2:\n",
    "        raise ValueError(f\"Set at.properties.active_bond for two atoms in mol1. Current mol1_ind: {mol1_ind}\")\n",
    "    if len(mol2_ind) != 2:\n",
    "        raise ValueError(f\"Set at.properties.active_bond for two atoms in mol2. Current mol2_ind: {mol2_ind}\")\n",
    "\n",
    "    target_distances = []\n",
    "\n",
    "    for i1, i2 in zip(mol1_ind, mol2_ind):\n",
    "        r = get_atom_radius(mol1[i1]) + get_atom_radius(mol2[i2])\n",
    "        target_distances.append(r * covalent_radius_multiplier)\n",
    "\n",
    "    combined = mol1.copy()\n",
    "    combined.add_molecule(mol2, margin=2)\n",
    "    combined.properties.charge = mol1.properties.get(\"charge\", 0) + mol2.properties.get(\"charge\", 0)\n",
    "\n",
    "    mol2_ind = [x + len(mol1) for x in mol2_ind]\n",
    "\n",
    "    preliminary_md_results = preliminary_md(\n",
    "        combined,\n",
    "        mol1_ind,\n",
    "        mol2_ind,\n",
    "        target_distances=target_distances,\n",
    "        temperature=600,\n",
    "        nsteps=20000,\n",
    "    )\n",
    "    mol = preliminary_md_results.get_main_molecule()\n",
    "\n",
    "    ts_search_results = ts_search(mol, mol1_ind, mol2_ind)\n",
    "    mol = ts_search_results.get_main_molecule()\n",
    "\n",
    "    relax_from_saddle_results = relax_from_saddle(mol)\n",
    "\n",
    "    return preliminary_md_results, ts_search_results, relax_from_saddle_results\n",
    "\n",
    "\n",
    "def ts_search(molecule, atom_indices_1: List[int], atom_indices_2: List[int], settings: Settings = None) -> AMSResults:\n",
    "    if settings is None:\n",
    "        settings = Settings()\n",
    "        settings.input.DFTB\n",
    "        # settings.runscript.nproc = 1\n",
    "        settings.input.ams.GeometryOptimization.InitialHessian.Type = \"Calculate\"\n",
    "        settings.input.ams.Properties.NormalModes = \"Yes\"\n",
    "        settings.input.ams.GeometryOptimization.Convergence.Quality = \"Good\"\n",
    "\n",
    "    s = settings.copy()\n",
    "    s.input.ams.task = \"TransitionStateSearch\"\n",
    "    s.input.ams.TransitionStateSearch.ReactionCoordinate.Distance = [\n",
    "        f\"{a1} {a2} 1.0\" for a1, a2 in zip(atom_indices_1, atom_indices_2)\n",
    "    ]\n",
    "\n",
    "    job = AMSJob(settings=s, name=\"ts_search\", molecule=molecule)\n",
    "    job.run()\n",
    "\n",
    "    return job.results\n",
    "\n",
    "\n",
    "def relax_from_saddle(molecule: Molecule, settings: Settings = None) -> AMSResults:\n",
    "    if settings is None:\n",
    "        settings = Settings()\n",
    "        settings.input.DFTB\n",
    "        settings.input.ams.GeometryOptimization.InitialHessian.Type = \"Calculate\"\n",
    "        # settings.runscript.nproc = 1\n",
    "\n",
    "    s = settings.copy()\n",
    "    s.input.ams.task = \"PESExploration\"\n",
    "    s.input.ams.PESExploration.Job = \"LandscapeRefinement\"\n",
    "    s.input.ams.PESExploration.LandscapeRefinement.RelaxFromSaddlePoint = \"T\"\n",
    "\n",
    "    dummy = from_smiles(\"[HH]\")\n",
    "    m = {\"state1 ts=Yes\": molecule, \"\": dummy}\n",
    "\n",
    "    job = AMSJob(settings=s, name=\"refinement\", molecule=m)\n",
    "    job.run()\n",
    "\n",
    "    return job.results\n",
    "\n",
    "\n",
    "def irc(molecule: Molecule, settings: Settings = None):\n",
    "    if settings is None:\n",
    "        settings = Settings()\n",
    "        settings.input.DFTB\n",
    "        # settings.runscript.nproc = 1\n",
    "\n",
    "    s = settings.copy()\n",
    "    s.input.ams.task = \"IRC\"\n",
    "    s.input.ams.IRC.MinEnergyProfile = \"Yes\"\n",
    "\n",
    "    job = AMSJob(settings=s, name=\"irc\", molecule=molecule)\n",
    "    job.run()\n",
    "\n",
    "    converged = job.results.get_history_property(\"Converged\")\n",
    "    direction = job.results.get_history_property(\"IRCDirection\")\n",
    "    energies = job.results.get_history_property(\"Energy\")\n",
    "    ind = dict()\n",
    "    energy = dict()\n",
    "    for i, (c, d, e) in enumerate(zip(converged, direction, energies)):\n",
    "        if c:\n",
    "            ind[d] = i + 1\n",
    "            energy[d] = e\n",
    "\n",
    "    min1 = job.results.get_history_molecule(ind[1])\n",
    "    min2 = job.results.get_history_molecule(ind[2])\n",
    "    ts = job.results.get_input_molecule()\n",
    "\n",
    "    return min1, energy[1], min2, energy[2], ts, energies[0]\n",
    "\n",
    "\n",
    "def preliminary_md(\n",
    "    molecule: Molecule,\n",
    "    atom_indices_1: List[int],\n",
    "    atom_indices_2: List[int],\n",
    "    target_distances: List[float],\n",
    "    nsteps: int = 10000,\n",
    "    kappa: float = 100000,\n",
    "    settings: Settings = None,\n",
    "    temperature: float = 300,\n",
    ") -> Molecule:\n",
    "    if settings is None:\n",
    "        settings = Settings()\n",
    "        settings.input.ForceField.Type = \"UFF\"\n",
    "        settings.runscript.nproc = 1\n",
    "\n",
    "    plumed_input = \"\\n\"\n",
    "    for a1, a2, d in zip(atom_indices_1, atom_indices_2, target_distances):\n",
    "        # current_d = molecule[a1].distance_to(molecule[a2])\n",
    "        plumed_input += f\"DISTANCE ATOMS={a1},{a2} LABEL=d_{a1}_{a2}\\n\"\n",
    "        plumed_input += f\"MOVINGRESTRAINT ARG=d_{a1}_{a2}\"\n",
    "        plumed_input += f\" STEP0=1 AT0={d*0.1} KAPPA0=0\"\n",
    "        plumed_input += f\" STEP1={1*nsteps//4} KAPPA1={kappa/1000}\"\n",
    "        plumed_input += f\" STEP2={2*nsteps//4} KAPPA2={kappa/100}\"\n",
    "        plumed_input += f\" STEP3={3*nsteps//4} KAPPA3={kappa/10}\"\n",
    "        plumed_input += f\" STEP4={4*nsteps//4} KAPPA4={kappa}\"\n",
    "        plumed_input += f\"\\n\"\n",
    "\n",
    "    plumed_input += \"   End\"\n",
    "    settings.input.ams.MolecularDynamics.Plumed.Input = plumed_input\n",
    "\n",
    "    job = AMSNVTJob(\n",
    "        name=\"preliminary_md\",\n",
    "        settings=settings,\n",
    "        molecule=molecule,\n",
    "        nsteps=nsteps,\n",
    "        temperature=3 * [temperature] + [1],\n",
    "    )\n",
    "    job.run()\n",
    "\n",
    "    return job.results\n",
    "\n",
    "\n",
    "def set_active(mol: Molecule, indices: List[int]):\n",
    "    for at in mol:\n",
    "        if \"active_bond\" in at.properties:\n",
    "            del at.properties[\"active_bond\"]\n",
    "    for i, ind in enumerate(indices, 1):\n",
    "        mol[ind].properties.active_bond = i\n",
    "\n",
    "\n",
    "def get_active_i(mol: Molecule) -> List[int]:\n",
    "    d = {}\n",
    "    for i, at in enumerate(mol, 1):\n",
    "        if \"active_bond\" in at.properties and at.properties.active_bond:\n",
    "            d[i] = at.properties.active_bond\n",
    "\n",
    "    return sorted(d, key=lambda x: d[x])\n",
    "\n",
    "\n",
    "def get_atom_radius(at: Atom) -> float:\n",
    "    return PeriodicTable.get_radius(at.symbol)"
   ]
  },
  {
   "cell_type": "markdown",
   "id": "39594112-2dc1-4649-a478-07205f37cc51",
   "metadata": {},
   "source": [
    "## Run the calculations"
   ]
  },
  {
   "cell_type": "code",
   "execution_count": 3,
   "id": "ce769685-eed9-4800-9501-7d52e116044a",
   "metadata": {},
   "outputs": [
    {
     "name": "stdout",
     "output_type": "stream",
     "text": [
      "PLAMS working folder: /home/hellstrom/adfhome/scripting/scm/plams/doc/source/examples/AMSTSWorkflow/plams_workdir\n"
     ]
    }
   ],
   "source": [
    "init()"
   ]
  },
  {
   "cell_type": "code",
   "execution_count": 4,
   "id": "6c98359e-a2d9-484b-b8ed-6f4c2296cea2",
   "metadata": {},
   "outputs": [],
   "source": [
    "diene_smiles = \"C1C=CC=C1\"\n",
    "diene = from_smiles(\n",
    "    diene_smiles\n",
    ")  # carbon 2, 4 will form bonds. Do diene.write('diene.xyz') and open diene.xyz in the AMS GUI to find out which atom indices are correct.\n",
    "set_active(diene, [2, 4])"
   ]
  },
  {
   "cell_type": "code",
   "execution_count": 5,
   "id": "f3ed28c8-59e0-4aa2-9182-bd4ca7808e5e",
   "metadata": {},
   "outputs": [
    {
     "data": {
      "image/png": "[encoded data removed]",
      "text/plain": [
       "<Figure size 144x144 with 1 Axes>"
      ]
     },
     "metadata": {
      "needs_background": "light"
     },
     "output_type": "display_data"
    }
   ],
   "source": [
    "plot_molecule(diene)\n",
    "plt.title(\"Diene (cyclopentadiene)\");"
   ]
  },
  {
   "cell_type": "code",
   "execution_count": 6,
   "id": "1e191434-aa36-4789-8259-0954078d60fb",
   "metadata": {},
   "outputs": [],
   "source": [
    "dienophile = from_smiles(\"N#CC=C\")  # carbon 1, 2 will form bonds\n",
    "set_active(dienophile, [1, 2])"
   ]
  },
  {
   "cell_type": "code",
   "execution_count": 7,
   "id": "64c3cdb4-3c66-440a-882b-5d998afac2b2",
   "metadata": {},
   "outputs": [
    {
     "data": {
      "image/png": "[encoded data removed]",
      "text/plain": [
       "<Figure size 144x144 with 1 Axes>"
      ]
     },
     "metadata": {
      "needs_background": "light"
     },
     "output_type": "display_data"
    }
   ],
   "source": [
    "plot_molecule(dienophile)\n",
    "plt.title(\"Dienophile (acrylonitrile)\");"
   ]
  },
  {
   "cell_type": "code",
   "execution_count": 8,
   "id": "cf21dd46-46ef-42ae-b67a-8489e684950c",
   "metadata": {},
   "outputs": [
    {
     "name": "stdout",
     "output_type": "stream",
     "text": [
      "[28.03|14:41:11] JOB preliminary_md STARTED\n",
      "[28.03|14:41:11] JOB preliminary_md RUNNING\n",
      "[28.03|14:41:18] JOB preliminary_md FINISHED\n",
      "[28.03|14:41:18] JOB preliminary_md SUCCESSFUL\n",
      "[28.03|14:41:18] JOB ts_search STARTED\n",
      "[28.03|14:41:18] JOB ts_search RUNNING\n",
      "[28.03|14:41:21] JOB ts_search FINISHED\n",
      "[28.03|14:41:21] JOB ts_search SUCCESSFUL\n",
      "[28.03|14:41:21] JOB refinement STARTED\n",
      "[28.03|14:41:21] JOB refinement RUNNING\n",
      "[28.03|14:41:27] JOB refinement FINISHED\n",
      "[28.03|14:41:27] JOB refinement SUCCESSFUL\n"
     ]
    }
   ],
   "source": [
    "preliminary_md_results, ts_search_results, relax_from_saddle_results = addition(diene, dienophile)"
   ]
  },
  {
   "cell_type": "markdown",
   "id": "757adcce-c9c3-440c-be89-f24863ca0e31",
   "metadata": {},
   "source": [
    "## Preliminary biased MD results (UFF)"
   ]
  },
  {
   "cell_type": "code",
   "execution_count": 9,
   "id": "dd2cb7b9-510d-48f0-af47-f736b089f2fb",
   "metadata": {},
   "outputs": [
    {
     "data": {
      "image/png": "[encoded data removed]",
      "text/plain": [
       "<Figure size 144x144 with 1 Axes>"
      ]
     },
     "metadata": {
      "needs_background": "light"
     },
     "output_type": "display_data"
    }
   ],
   "source": [
    "final_md_system = preliminary_md_results.get_main_molecule()\n",
    "plot_molecule(final_md_system)\n",
    "plt.title(\"Final system from preliminary biased MD\");"
   ]
  },
  {
   "cell_type": "markdown",
   "id": "d0bc51bd-1ac6-4dac-a769-7d309636c8ac",
   "metadata": {},
   "source": [
    "## TS search results (DFTB)"
   ]
  },
  {
   "cell_type": "code",
   "execution_count": 10,
   "id": "0d1af8ff-303b-4d0f-a658-55cc4bc62ad0",
   "metadata": {},
   "outputs": [
    {
     "data": {
      "image/png": "[encoded data removed]",
      "text/plain": [
       "<Figure size 144x144 with 1 Axes>"
      ]
     },
     "metadata": {
      "needs_background": "light"
     },
     "output_type": "display_data"
    }
   ],
   "source": [
    "final_ts_system = ts_search_results.get_main_molecule()\n",
    "plot_molecule(final_ts_system)\n",
    "plt.title(\"DFTB-optimized transition state\");"
   ]
  },
  {
   "cell_type": "markdown",
   "id": "744d0264-086e-4d57-b8f0-81357d59250e",
   "metadata": {},
   "source": [
    "## Energy landscape refinement results (DFTB)"
   ]
  },
  {
   "cell_type": "code",
   "execution_count": 11,
   "id": "37602521-c365-40ae-a2dd-dfcadad61747",
   "metadata": {},
   "outputs": [
    {
     "name": "stdout",
     "output_type": "stream",
     "text": [
      "All stationary points:\n",
      "======================\n",
      "State 1: C8H9N local minimum @ -24.90376082 Hartree (found 1 times, results on State-1_MIN)\n",
      "State 2: C8H9N local minimum @ -24.83422501 Hartree (found 1 times, results on State-2_MIN)\n",
      "State 3: C8H9N transition state @ -24.82034339 Hartree (found 1 times, results on State-3_TS_1-2)\n",
      "  +- Reactants: State 1: C8H9N local minimum @ -24.90376082 Hartree (found 1 times, results on State-1_MIN)\n",
      "     Products:  State 2: C8H9N local minimum @ -24.83422501 Hartree (found 1 times, results on State-2_MIN)\n",
      "     Prefactors: 0.000E+00:0.000E+00 s^-1\n",
      "     Barriers: 2.270:0.378 eV\n"
     ]
    }
   ],
   "source": [
    "landscape = relax_from_saddle_results.get_energy_landscape()\n",
    "print(landscape)"
   ]
  },
  {
   "cell_type": "markdown",
   "id": "a00e9def-80eb-4e18-912a-a26fbb95634d",
   "metadata": {},
   "source": [
    "Above we see that the forward and backward barriers are 2.27 and 0.39 eV, respectively."
   ]
  },
  {
   "cell_type": "code",
   "execution_count": 12,
   "id": "6a1f9ecd-ebe4-43f0-b776-e09d48c41110",
   "metadata": {},
   "outputs": [
    {
     "data": {
      "image/png": "[encoded data removed]",
      "text/plain": [
       "<Figure size 432x288 with 1 Axes>"
      ]
     },
     "metadata": {
      "needs_background": "light"
     },
     "output_type": "display_data"
    }
   ],
   "source": [
    "Ha2eV = Units.convert(1.0, \"hartree\", \"eV\")\n",
    "energies = landscape[1].energy, landscape[3].energy, landscape[2].energy\n",
    "energies = (np.array(energies) - landscape[1].energy) * Ha2eV\n",
    "plt.plot(energies)\n",
    "plt.ylabel(\"Relative energy (eV)\")\n",
    "plt.xticks([0, 1, 2], [\"State 1 (min)\", \"State 3 (TS)\", \"State 2 (min)\"]);"
   ]
  },
  {
   "cell_type": "code",
   "execution_count": 13,
   "id": "62c6c64d-b847-4697-957b-140f5f6a64fa",
   "metadata": {},
   "outputs": [
    {
     "data": {
      "image/png": "[encoded data removed]",
      "text/plain": [
       "<Figure size 144x144 with 1 Axes>"
      ]
     },
     "metadata": {
      "needs_background": "light"
     },
     "output_type": "display_data"
    }
   ],
   "source": [
    "plot_molecule(landscape[1].molecule)\n",
    "plt.title(\"State 1 (minimum)\");"
   ]
  },
  {
   "cell_type": "code",
   "execution_count": 14,
   "id": "9fc165bb-7ac1-4f6c-b2f3-2db1abedee94",
   "metadata": {},
   "outputs": [
    {
     "data": {
      "image/png": "[encoded data removed]",
      "text/plain": [
       "<Figure size 144x144 with 1 Axes>"
      ]
     },
     "metadata": {
      "needs_background": "light"
     },
     "output_type": "display_data"
    }
   ],
   "source": [
    "plot_molecule(landscape[2].molecule)\n",
    "plt.title(\"State 2 (minimum)\");"
   ]
  },
  {
   "cell_type": "code",
   "execution_count": 15,
   "id": "0d4f3bd2-de8a-458e-bd40-309e8e336b3f",
   "metadata": {},
   "outputs": [
    {
     "data": {
      "image/png": "[encoded data removed]",
      "text/plain": [
       "<Figure size 144x144 with 1 Axes>"
      ]
     },
     "metadata": {
      "needs_background": "light"
     },
     "output_type": "display_data"
    }
   ],
   "source": [
    "plot_molecule(landscape[3].molecule)\n",
    "plt.title(\"State 3 (Transition state)\");"
   ]
  },
  {
   "cell_type": "markdown",
   "id": "31a3972e-74bb-4fdd-bbdc-ed2ffd257513",
   "metadata": {},
   "source": [
    "## Finish plams"
   ]
  },
  {
   "cell_type": "code",
   "execution_count": 16,
   "id": "27feef51-3001-410a-8fa2-ae6ee19f3699",
   "metadata": {},
   "outputs": [
    {
     "name": "stdout",
     "output_type": "stream",
     "text": [
      "[28.03|14:41:28] PLAMS run finished. Goodbye\n"
     ]
    }
   ],
   "source": [
    "finish()"
   ]
  }
 ],
 "metadata": {
  "kernelspec": {
   "display_name": "Python 3",
   "language": "python",
   "name": "python3"
  },
  "language_info": {
   "codemirror_mode": {
    "name": "ipython",
    "version": 3
   },
   "file_extension": ".py",
   "mimetype": "text/x-python",
   "name": "python",
   "nbconvert_exporter": "python",
   "pygments_lexer": "ipython3",
   "version": "3.8.12"
  }
 },
 "nbformat": 4,
 "nbformat_minor": 5
}
