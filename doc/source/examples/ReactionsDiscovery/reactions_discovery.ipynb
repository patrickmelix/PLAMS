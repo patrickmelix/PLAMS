{
 "cells": [
  {
   "cell_type": "markdown",
   "id": "54c81d8b-b0bc-463a-a89a-eace54106f2d",
   "metadata": {},
   "source": [
    "## Initial imports"
   ]
  },
  {
   "cell_type": "code",
   "execution_count": 1,
   "id": "646ac933-1033-4a21-be93-145e6b8218b3",
   "metadata": {},
   "outputs": [],
   "source": [
    "from typing import List\n",
    "import scm.plams as plams\n",
    "from scm.input_classes import engines\n",
    "from scm.reactions_discovery import ReactionsDiscoveryJob\n",
    "from rdkit import Chem\n",
    "from rdkit.Chem import Draw\n",
    "#Settings for displaying molecules in the notebook\n",
    "from rdkit.Chem.Draw import IPythonConsole\n",
    "IPythonConsole.ipython_useSVG = True\n",
    "IPythonConsole.molSize = 250, 250"
   ]
  },
  {
   "cell_type": "markdown",
   "id": "dccfa8cf-d714-4794-8cee-16f2a2c7a56e",
   "metadata": {},
   "source": [
    "## Helpers for showing molecules"
   ]
  },
  {
   "cell_type": "code",
   "execution_count": 2,
   "id": "75b4eb3a-7df4-4d07-849d-b26b0648c565",
   "metadata": {},
   "outputs": [],
   "source": [
    "def draw_molecules(molecules: List[plams.Molecule]):\n",
    "    smiles = [molecule.properties.smiles for molecule in molecules]\n",
    "    return draw_smiles(smiles)\n",
    "    \n",
    "def draw_smiles(smiles: List[str]):\n",
    "    rd_mols = [Chem.MolFromSmiles(s) for s in smiles]\n",
    "    return Draw.MolsToGridImage(rd_mols)    "
   ]
  },
  {
   "cell_type": "markdown",
   "id": "c20519db-4075-4ed7-b9f4-8c71efd95ea0",
   "metadata": {},
   "source": [
    "## The ReactionsDiscoveryJob class"
   ]
  },
  {
   "cell_type": "code",
   "execution_count": 3,
   "id": "4eb04a9f-76f2-4f50-9474-afeff147d9be",
   "metadata": {},
   "outputs": [],
   "source": [
    "job = ReactionsDiscoveryJob(name='MyDiscovery')\n",
    "driver = job.input\n",
    "md = driver.MolecularDynamics"
   ]
  },
  {
   "cell_type": "markdown",
   "id": "7428aa3d-cffe-405d-acee-05b338eaf425",
   "metadata": {},
   "source": [
    "## Setting up the reactants for molecular dynamics"
   ]
  },
  {
   "cell_type": "code",
   "execution_count": 4,
   "id": "cfd00f27-0f8b-4739-a359-8d6871159da7",
   "metadata": {},
   "outputs": [
    {
     "data": {
      "image/svg+xml": [
       "<svg xmlns:svg=\"http://www.w3.org/2000/svg\" xmlns:rdkit=\"http://www.rdkit.org/xml\" xmlns:xlink=\"http://www.w3.org/1999/xlink\" version=\"1.1\" baseProfile=\"full\" xml:space=\"preserve\" width=\"600px\" height=\"200px\">\n",
       "<rect style=\"opacity:1.0;fill:#FFFFFF;stroke:none\" width=\"600\" height=\"200\" x=\"0\" y=\"0\"> </rect>\n",
       "<text x=\"83.9916\" y=\"108.25\" style=\"font-size:15px;font-style:normal;font-weight:normal;fill-opacity:1;stroke:none;font-family:sans-serif;text-anchor:start;fill:#FF0000\"><tspan>H</tspan><tspan style=\"baseline-shift:sub;font-size:11.25px;\">2</tspan><tspan>O</tspan></text>\n",
       "<path d=\"M 375.405,99.671 351.465,89.4839\" style=\"fill:none;fill-rule:evenodd;stroke:#0000FF;stroke-width:2px;stroke-linecap:butt;stroke-linejoin:miter;stroke-opacity:1\"/>\n",
       "<path d=\"M 351.465,89.4839 327.525,79.2968\" style=\"fill:none;fill-rule:evenodd;stroke:#000000;stroke-width:2px;stroke-linecap:butt;stroke-linejoin:miter;stroke-opacity:1\"/>\n",
       "<path d=\"M 327.525,79.2968 272.475,120.703\" style=\"fill:none;fill-rule:evenodd;stroke:#000000;stroke-width:2px;stroke-linecap:butt;stroke-linejoin:miter;stroke-opacity:1\"/>\n",
       "<path d=\"M 272.475,120.703 247.536,110.091\" style=\"fill:none;fill-rule:evenodd;stroke:#000000;stroke-width:2px;stroke-linecap:butt;stroke-linejoin:miter;stroke-opacity:1\"/>\n",
       "<path d=\"M 247.536,110.091 222.596,99.4785\" style=\"fill:none;fill-rule:evenodd;stroke:#FF0000;stroke-width:2px;stroke-linecap:butt;stroke-linejoin:miter;stroke-opacity:1\"/>\n",
       "<text x=\"375.405\" y=\"114.518\" style=\"font-size:15px;font-style:normal;font-weight:normal;fill-opacity:1;stroke:none;font-family:sans-serif;text-anchor:start;fill:#0000FF\"><tspan>NH</tspan><tspan style=\"baseline-shift:sub;font-size:11.25px;\">2</tspan><tspan/></text>\n",
       "<text x=\"195.586\" y=\"101.232\" style=\"font-size:15px;font-style:normal;font-weight:normal;fill-opacity:1;stroke:none;font-family:sans-serif;text-anchor:start;fill:#FF0000\"><tspan>HO</tspan></text>\n",
       "<path d=\"M 493.112,38.616 493.112,69.308\" style=\"fill:none;fill-rule:evenodd;stroke:#FF0000;stroke-width:2px;stroke-linecap:butt;stroke-linejoin:miter;stroke-opacity:1\"/>\n",
       "<path d=\"M 493.112,69.308 493.112,100\" style=\"fill:none;fill-rule:evenodd;stroke:#000000;stroke-width:2px;stroke-linecap:butt;stroke-linejoin:miter;stroke-opacity:1\"/>\n",
       "<path d=\"M 506.888,38.616 506.888,69.308\" style=\"fill:none;fill-rule:evenodd;stroke:#FF0000;stroke-width:2px;stroke-linecap:butt;stroke-linejoin:miter;stroke-opacity:1\"/>\n",
       "<path d=\"M 506.888,69.308 506.888,100\" style=\"fill:none;fill-rule:evenodd;stroke:#000000;stroke-width:2px;stroke-linecap:butt;stroke-linejoin:miter;stroke-opacity:1\"/>\n",
       "<path d=\"M 493.112,100 493.112,130.692\" style=\"fill:none;fill-rule:evenodd;stroke:#000000;stroke-width:2px;stroke-linecap:butt;stroke-linejoin:miter;stroke-opacity:1\"/>\n",
       "<path d=\"M 493.112,130.692 493.112,161.384\" style=\"fill:none;fill-rule:evenodd;stroke:#FF0000;stroke-width:2px;stroke-linecap:butt;stroke-linejoin:miter;stroke-opacity:1\"/>\n",
       "<path d=\"M 506.888,100 506.888,130.692\" style=\"fill:none;fill-rule:evenodd;stroke:#000000;stroke-width:2px;stroke-linecap:butt;stroke-linejoin:miter;stroke-opacity:1\"/>\n",
       "<path d=\"M 506.888,130.692 506.888,161.384\" style=\"fill:none;fill-rule:evenodd;stroke:#FF0000;stroke-width:2px;stroke-linecap:butt;stroke-linejoin:miter;stroke-opacity:1\"/>\n",
       "<text x=\"492.995\" y=\"38.616\" style=\"font-size:15px;font-style:normal;font-weight:normal;fill-opacity:1;stroke:none;font-family:sans-serif;text-anchor:start;fill:#FF0000\"><tspan>O</tspan></text>\n",
       "<text x=\"492.995\" y=\"176.384\" style=\"font-size:15px;font-style:normal;font-weight:normal;fill-opacity:1;stroke:none;font-family:sans-serif;text-anchor:start;fill:#FF0000\"><tspan>O</tspan></text>\n",
       "</svg>"
      ],
      "text/plain": [
       "<IPython.core.display.SVG object>"
      ]
     },
     "execution_count": 4,
     "metadata": {},
     "output_type": "execute_result"
    }
   ],
   "source": [
    "md.NumSimulations = 4\n",
    "build = md.BuildSystem\n",
    "build.NumAtoms = 250\n",
    "build.Density = 0.9\n",
    "build.Molecule[0].SMILES = 'O'  # Water\n",
    "build.Molecule[0].MoleFraction = 1\n",
    "build.Molecule[1].SMILES = 'NCCO'  #MEA\n",
    "build.Molecule[1].MoleFraction = 2\n",
    "build.Molecule[2].SMILES = 'O=C=O'  #Carbondioxide\n",
    "build.Molecule[2].MoleFraction = 3\n",
    "draw_smiles([build.Molecule[i].SMILES.val for i in range(len(build.Molecule))])"
   ]
  },
  {
   "cell_type": "markdown",
   "id": "80c6cf90-1ff3-4fe4-917f-8f08b489e18d",
   "metadata": {},
   "source": [
    "## Setting up reactive molecular dynamics"
   ]
  },
  {
   "cell_type": "code",
   "execution_count": 5,
   "id": "74a4161c-af92-4b80-90e5-02cddcf6291e",
   "metadata": {},
   "outputs": [],
   "source": [
    "md.Enabled = 'Yes'\n",
    "md.Type = 'NanoReactor'\n",
    "reactor = md.NanoReactor\n",
    "reactor.NumCycles = 10\n",
    "reactor.Temperature = 500\n",
    "reactor.MinVolumeFraction = 0.6"
   ]
  },
  {
   "cell_type": "markdown",
   "id": "68065274-aafe-4c71-a3b6-c7874e2f1346",
   "metadata": {},
   "source": [
    "## Setting up network extraction and ranking"
   ]
  },
  {
   "cell_type": "code",
   "execution_count": 6,
   "id": "ad3a5359-ba17-4078-952b-2011b3f7e4aa",
   "metadata": {},
   "outputs": [],
   "source": [
    "network = driver.NetworkExtraction\n",
    "network.Enabled = 'Yes'\n",
    "network.UseCharges = 'Yes'\n",
    "ranking = driver.ProductRanking\n",
    "ranking.Enabled = 'Yes'"
   ]
  },
  {
   "cell_type": "markdown",
   "id": "8e12fa12-45cf-482e-b08b-f882e52721e0",
   "metadata": {},
   "source": [
    "## Selecting the AMS engine to use"
   ]
  },
  {
   "cell_type": "code",
   "execution_count": 7,
   "id": "6cb9802e-1f11-45cd-a6c1-4e451278e3d3",
   "metadata": {},
   "outputs": [],
   "source": [
    "engine = engines.ReaxFF()\n",
    "engine.ForceField = 'Glycine.ff'\n",
    "engine.TaperBO = 'Yes' # This is a really important setting for reaction analysis with ReaxFF potentials\n",
    "driver.Engine = engine"
   ]
  },
  {
   "cell_type": "markdown",
   "id": "09e24a5e-c921-40d1-a76f-3a9a2dd569f6",
   "metadata": {},
   "source": [
    "## Running reactions discovery"
   ]
  },
  {
   "cell_type": "code",
   "execution_count": 8,
   "id": "edd1b191-327e-40b8-9389-6229ace022c6",
   "metadata": {},
   "outputs": [
    {
     "name": "stdout",
     "output_type": "stream",
     "text": [
      "PLAMS working folder: /home/spiering/prog/ams_svn_workdir/scripting/scm/plams/doc/source/examples/ReactionsDiscovery/plams_workdir\n",
      "[04.10|16:18:26] JOB MyDiscovery STARTED\n",
      "[04.10|16:18:26] JOB MyDiscovery RUNNING\n",
      "[04.10|16:20:11] JOB MyDiscovery FINISHED\n",
      "[04.10|16:20:11] JOB MyDiscovery SUCCESSFUL\n"
     ]
    },
    {
     "data": {
      "text/plain": [
       "True"
      ]
     },
     "execution_count": 8,
     "metadata": {},
     "output_type": "execute_result"
    }
   ],
   "source": [
    "plams.init()  # setup PLAMS\n",
    "result = job.run()  # start the job\n",
    "job.check()  # check if job was succesful"
   ]
  },
  {
   "cell_type": "markdown",
   "id": "f4d5a1ba-3601-4119-af28-2aa1fabd1424",
   "metadata": {},
   "source": [
    "## Obtain the results"
   ]
  },
  {
   "cell_type": "code",
   "execution_count": 9,
   "id": "bb2f3296-d277-42c7-9217-6b2fd7256075",
   "metadata": {},
   "outputs": [
    {
     "name": "stdout",
     "output_type": "stream",
     "text": [
      "  0   1   2   3   4   5   6   7   8   9  10  11  12  13  14  15  16  17  18  19  20  21  22  23  24 \n",
      " 25  26  27  28  29  30  31  32  33  34  35  36  37  38  39  40  41  42  43  44  45  46  47  48  49 \n",
      " 50  51  52  53  54  55  56  57  58  59  60  61  62  63  64  65  66  67  68  69  70  71  72  73  74 \n",
      " 75  76  77  78  79  80  81  82  83  84  85  86  87  88  89  90  91  92  93  94  95  96  97  98  99 \n",
      "100 101 102 103 104 105 106 107 108 109 110 111 112 113 114 115 116 117 118 119 120 121 122 123 124 \n",
      "125 126 127 128 129 130 131 132 133 134 135 136 137 138 139 140 141 142 143 144 145 146 147 148 149 \n",
      "150 151 152 153 154 155 156 157 158 159 160 161 162 163 164 165 166 167 168 169 170 171 172 173 174 \n",
      "175 176 177 178 179 180 181 182 183 184 185 186 187 188 189 190 191 192 193 194 195 196 197 198 199 \n",
      "200 201 202 203 204 205 206 207 208 209 210 211 212 213 214 215 216 217 218 219 220 221 222 223 224 \n",
      "225 226 227 228 229 230 231 232 233 234 235 236 237 238 239 240 241 242 243 244 245 246 247 248 249 \n",
      "250 251 252 253 254 255 256 257 258 259 260 261 262 263 264 265 266 267 268 269 270 271 272 273 274 \n",
      "275 276 277 278 279 280 281 282 283 284 285 286 287 288 289 290 291 292 293 294 295 296 297 298 299 \n",
      "300 301 302 303 304 305 306 307 308 309 310 311 312 313 314 315 316 317 318 319 320 321 322 323 324 \n",
      "\n"
     ]
    }
   ],
   "source": [
    "graph, molecules, categories = result.get_network()"
   ]
  },
  {
   "cell_type": "markdown",
   "id": "261ff4dd-5232-4c62-90ef-76b643654e27",
   "metadata": {},
   "source": [
    "## Categories\n",
    "\n",
    "The categories are `Products` `Reactants` and `Unstable`, as described in the reactions discovery manual. `molecules` is a dictionairy with keys equal to the categories and each concomitant value is a list of PLAMS molecules."
   ]
  },
  {
   "cell_type": "code",
   "execution_count": 10,
   "id": "2a4dc01a-416e-4f84-bf94-8bdff68541d0",
   "metadata": {},
   "outputs": [
    {
     "name": "stdout",
     "output_type": "stream",
     "text": [
      "['Unstable', 'Reactants', 'Products']\n"
     ]
    }
   ],
   "source": [
    "print(categories)"
   ]
  },
  {
   "cell_type": "code",
   "execution_count": 11,
   "id": "273eeb7d-fd8c-4013-8d26-ade0573dbca8",
   "metadata": {},
   "outputs": [
    {
     "data": {
      "image/svg+xml": [
       "<svg xmlns:svg=\"http://www.w3.org/2000/svg\" xmlns:rdkit=\"http://www.rdkit.org/xml\" xmlns:xlink=\"http://www.w3.org/1999/xlink\" version=\"1.1\" baseProfile=\"full\" xml:space=\"preserve\" width=\"600px\" height=\"200px\">\n",
       "<rect style=\"opacity:1.0;fill:#FFFFFF;stroke:none\" width=\"600\" height=\"200\" x=\"0\" y=\"0\"> </rect>\n",
       "<path d=\"M 175.405,99.671 151.465,89.4839\" style=\"fill:none;fill-rule:evenodd;stroke:#0000FF;stroke-width:2px;stroke-linecap:butt;stroke-linejoin:miter;stroke-opacity:1\"/>\n",
       "<path d=\"M 151.465,89.4839 127.525,79.2968\" style=\"fill:none;fill-rule:evenodd;stroke:#000000;stroke-width:2px;stroke-linecap:butt;stroke-linejoin:miter;stroke-opacity:1\"/>\n",
       "<path d=\"M 127.525,79.2968 72.4749,120.703\" style=\"fill:none;fill-rule:evenodd;stroke:#000000;stroke-width:2px;stroke-linecap:butt;stroke-linejoin:miter;stroke-opacity:1\"/>\n",
       "<path d=\"M 72.4749,120.703 47.5356,110.091\" style=\"fill:none;fill-rule:evenodd;stroke:#000000;stroke-width:2px;stroke-linecap:butt;stroke-linejoin:miter;stroke-opacity:1\"/>\n",
       "<path d=\"M 47.5356,110.091 22.5963,99.4785\" style=\"fill:none;fill-rule:evenodd;stroke:#FF0000;stroke-width:2px;stroke-linecap:butt;stroke-linejoin:miter;stroke-opacity:1\"/>\n",
       "<text x=\"175.405\" y=\"114.518\" style=\"font-size:15px;font-style:normal;font-weight:normal;fill-opacity:1;stroke:none;font-family:sans-serif;text-anchor:start;fill:#0000FF\"><tspan>NH</tspan><tspan style=\"baseline-shift:sub;font-size:11.25px;\">2</tspan><tspan/></text>\n",
       "<text x=\"-4.41449\" y=\"101.232\" style=\"font-size:15px;font-style:normal;font-weight:normal;fill-opacity:1;stroke:none;font-family:sans-serif;text-anchor:start;fill:#FF0000\"><tspan>HO</tspan></text>\n",
       "<path d=\"M 293.112,38.616 293.112,69.308\" style=\"fill:none;fill-rule:evenodd;stroke:#FF0000;stroke-width:2px;stroke-linecap:butt;stroke-linejoin:miter;stroke-opacity:1\"/>\n",
       "<path d=\"M 293.112,69.308 293.112,100\" style=\"fill:none;fill-rule:evenodd;stroke:#000000;stroke-width:2px;stroke-linecap:butt;stroke-linejoin:miter;stroke-opacity:1\"/>\n",
       "<path d=\"M 306.888,38.616 306.888,69.308\" style=\"fill:none;fill-rule:evenodd;stroke:#FF0000;stroke-width:2px;stroke-linecap:butt;stroke-linejoin:miter;stroke-opacity:1\"/>\n",
       "<path d=\"M 306.888,69.308 306.888,100\" style=\"fill:none;fill-rule:evenodd;stroke:#000000;stroke-width:2px;stroke-linecap:butt;stroke-linejoin:miter;stroke-opacity:1\"/>\n",
       "<path d=\"M 293.112,100 293.112,130.692\" style=\"fill:none;fill-rule:evenodd;stroke:#000000;stroke-width:2px;stroke-linecap:butt;stroke-linejoin:miter;stroke-opacity:1\"/>\n",
       "<path d=\"M 293.112,130.692 293.112,161.384\" style=\"fill:none;fill-rule:evenodd;stroke:#FF0000;stroke-width:2px;stroke-linecap:butt;stroke-linejoin:miter;stroke-opacity:1\"/>\n",
       "<path d=\"M 306.888,100 306.888,130.692\" style=\"fill:none;fill-rule:evenodd;stroke:#000000;stroke-width:2px;stroke-linecap:butt;stroke-linejoin:miter;stroke-opacity:1\"/>\n",
       "<path d=\"M 306.888,130.692 306.888,161.384\" style=\"fill:none;fill-rule:evenodd;stroke:#FF0000;stroke-width:2px;stroke-linecap:butt;stroke-linejoin:miter;stroke-opacity:1\"/>\n",
       "<text x=\"292.995\" y=\"38.616\" style=\"font-size:15px;font-style:normal;font-weight:normal;fill-opacity:1;stroke:none;font-family:sans-serif;text-anchor:start;fill:#FF0000\"><tspan>O</tspan></text>\n",
       "<text x=\"292.995\" y=\"176.384\" style=\"font-size:15px;font-style:normal;font-weight:normal;fill-opacity:1;stroke:none;font-family:sans-serif;text-anchor:start;fill:#FF0000\"><tspan>O</tspan></text>\n",
       "<text x=\"483.992\" y=\"108.25\" style=\"font-size:15px;font-style:normal;font-weight:normal;fill-opacity:1;stroke:none;font-family:sans-serif;text-anchor:start;fill:#FF0000\"><tspan>H</tspan><tspan style=\"baseline-shift:sub;font-size:11.25px;\">2</tspan><tspan>O</tspan></text>\n",
       "</svg>"
      ],
      "text/plain": [
       "<IPython.core.display.SVG object>"
      ]
     },
     "execution_count": 11,
     "metadata": {},
     "output_type": "execute_result"
    }
   ],
   "source": [
    "draw_molecules(molecules['Reactants'])"
   ]
  },
  {
   "cell_type": "markdown",
   "id": "7be84197-8c90-4622-9255-413fdfaf217a",
   "metadata": {},
   "source": [
    "## Products\n",
    "\n",
    "These are the side products that reactions discovery found in the order as found by the ranking algorithm."
   ]
  },
  {
   "cell_type": "code",
   "execution_count": 12,
   "id": "ab518b1e-694b-406a-a46d-f61fae9356d1",
   "metadata": {},
   "outputs": [
    {
     "data": {
      "image/svg+xml": [
       "<svg xmlns:svg=\"http://www.w3.org/2000/svg\" xmlns:rdkit=\"http://www.rdkit.org/xml\" xmlns:xlink=\"http://www.w3.org/1999/xlink\" version=\"1.1\" baseProfile=\"full\" xml:space=\"preserve\" width=\"600px\" height=\"400px\">\n",
       "<rect style=\"opacity:1.0;fill:#FFFFFF;stroke:none\" width=\"600\" height=\"400\" x=\"0\" y=\"0\"> </rect>\n",
       "<text x=\"81.9165\" y=\"122.744\" style=\"font-size:17px;font-style:normal;font-weight:normal;fill-opacity:1;stroke:none;font-family:sans-serif;text-anchor:start;fill:#0000FF\"><tspan>NH</tspan><tspan style=\"baseline-shift:sub;font-size:12.75px;\">3</tspan><tspan/></text>\n",
       "<path d=\"M 281.927,118.37 318.073,118.37\" style=\"fill:none;fill-rule:evenodd;stroke:#FF0000;stroke-width:2px;stroke-linecap:butt;stroke-linejoin:miter;stroke-opacity:1\"/>\n",
       "<path d=\"M 281.927,107.873 318.073,107.873\" style=\"fill:none;fill-rule:evenodd;stroke:#FF0000;stroke-width:2px;stroke-linecap:butt;stroke-linejoin:miter;stroke-opacity:1\"/>\n",
       "<text x=\"265.587\" y=\"121.869\" style=\"font-size:17px;font-style:normal;font-weight:normal;fill-opacity:1;stroke:none;font-family:sans-serif;text-anchor:start;fill:#FF0000\"><tspan>O</tspan></text>\n",
       "<text x=\"318.073\" y=\"121.869\" style=\"font-size:17px;font-style:normal;font-weight:normal;fill-opacity:1;stroke:none;font-family:sans-serif;text-anchor:start;fill:#FF0000\"><tspan>O</tspan></text>\n",
       "<path d=\"M 551.185,110.203 536.079,103.775\" style=\"fill:none;fill-rule:evenodd;stroke:#0000FF;stroke-width:2px;stroke-linecap:butt;stroke-linejoin:miter;stroke-opacity:1\"/>\n",
       "<path d=\"M 536.079,103.775 520.973,97.3467\" style=\"fill:none;fill-rule:evenodd;stroke:#000000;stroke-width:2px;stroke-linecap:butt;stroke-linejoin:miter;stroke-opacity:1\"/>\n",
       "<path d=\"M 520.973,97.3467 479.027,128.896\" style=\"fill:none;fill-rule:evenodd;stroke:#000000;stroke-width:2px;stroke-linecap:butt;stroke-linejoin:miter;stroke-opacity:1\"/>\n",
       "<path d=\"M 481.082,124.067 461.02,115.53\" style=\"fill:none;fill-rule:evenodd;stroke:#000000;stroke-width:2px;stroke-linecap:butt;stroke-linejoin:miter;stroke-opacity:1\"/>\n",
       "<path d=\"M 461.02,115.53 440.957,106.992\" style=\"fill:none;fill-rule:evenodd;stroke:#FF0000;stroke-width:2px;stroke-linecap:butt;stroke-linejoin:miter;stroke-opacity:1\"/>\n",
       "<path d=\"M 476.972,133.726 456.909,125.189\" style=\"fill:none;fill-rule:evenodd;stroke:#000000;stroke-width:2px;stroke-linecap:butt;stroke-linejoin:miter;stroke-opacity:1\"/>\n",
       "<path d=\"M 456.909,125.189 436.847,116.652\" style=\"fill:none;fill-rule:evenodd;stroke:#FF0000;stroke-width:2px;stroke-linecap:butt;stroke-linejoin:miter;stroke-opacity:1\"/>\n",
       "<text x=\"551.185\" y=\"127.52\" style=\"font-size:17px;font-style:normal;font-weight:normal;fill-opacity:1;stroke:none;font-family:sans-serif;text-anchor:start;fill:#0000FF\"><tspan>NH</tspan><tspan style=\"baseline-shift:sub;font-size:12.75px;\">2</tspan><tspan/></text>\n",
       "<text x=\"422.561\" y=\"117.093\" style=\"font-size:17px;font-style:normal;font-weight:normal;fill-opacity:1;stroke:none;font-family:sans-serif;text-anchor:start;fill:#FF0000\"><tspan>O</tspan></text>\n",
       "<path d=\"M 24.2424,311.372 39.3939,320.12\" style=\"fill:none;fill-rule:evenodd;stroke:#FF0000;stroke-width:2px;stroke-linecap:butt;stroke-linejoin:miter;stroke-opacity:1\"/>\n",
       "<path d=\"M 39.3939,320.12 54.5455,328.868\" style=\"fill:none;fill-rule:evenodd;stroke:#000000;stroke-width:2px;stroke-linecap:butt;stroke-linejoin:miter;stroke-opacity:1\"/>\n",
       "<path d=\"M 54.5455,328.868 100,302.624\" style=\"fill:none;fill-rule:evenodd;stroke:#000000;stroke-width:2px;stroke-linecap:butt;stroke-linejoin:miter;stroke-opacity:1\"/>\n",
       "<path d=\"M 100,302.624 115.152,311.372\" style=\"fill:none;fill-rule:evenodd;stroke:#000000;stroke-width:2px;stroke-linecap:butt;stroke-linejoin:miter;stroke-opacity:1\"/>\n",
       "<path d=\"M 115.152,311.372 130.303,320.12\" style=\"fill:none;fill-rule:evenodd;stroke:#0000FF;stroke-width:2px;stroke-linecap:butt;stroke-linejoin:miter;stroke-opacity:1\"/>\n",
       "<path d=\"M 160.606,320.12 168.182,315.746\" style=\"fill:none;fill-rule:evenodd;stroke:#0000FF;stroke-width:2px;stroke-linecap:butt;stroke-linejoin:miter;stroke-opacity:1\"/>\n",
       "<path d=\"M 168.182,315.746 175.758,311.372\" style=\"fill:none;fill-rule:evenodd;stroke:#FF0000;stroke-width:2px;stroke-linecap:butt;stroke-linejoin:miter;stroke-opacity:1\"/>\n",
       "<text x=\"-6.66131\" y=\"311.372\" style=\"font-size:17px;font-style:normal;font-weight:normal;fill-opacity:1;stroke:none;font-family:sans-serif;text-anchor:start;fill:#FF0000\"><tspan>HO</tspan></text>\n",
       "<text x=\"130.29\" y=\"337.615\" style=\"font-size:17px;font-style:normal;font-weight:normal;fill-opacity:1;stroke:none;font-family:sans-serif;text-anchor:start;fill:#0000FF\"><tspan>NH</tspan></text>\n",
       "<text x=\"175.157\" y=\"311.372\" style=\"font-size:17px;font-style:normal;font-weight:normal;fill-opacity:1;stroke:none;font-family:sans-serif;text-anchor:start;fill:#FF0000\"><tspan>OH</tspan></text>\n",
       "<path d=\"M 243.939,322.744 258.333,331.054\" style=\"fill:none;fill-rule:evenodd;stroke:#0000FF;stroke-width:2px;stroke-linecap:butt;stroke-linejoin:miter;stroke-opacity:1\"/>\n",
       "<path d=\"M 258.333,331.054 272.727,339.365\" style=\"fill:none;fill-rule:evenodd;stroke:#000000;stroke-width:2px;stroke-linecap:butt;stroke-linejoin:miter;stroke-opacity:1\"/>\n",
       "<path d=\"M 272.727,339.365 318.182,313.122\" style=\"fill:none;fill-rule:evenodd;stroke:#000000;stroke-width:2px;stroke-linecap:butt;stroke-linejoin:miter;stroke-opacity:1\"/>\n",
       "<path d=\"M 318.182,313.122 333.333,321.869\" style=\"fill:none;fill-rule:evenodd;stroke:#000000;stroke-width:2px;stroke-linecap:butt;stroke-linejoin:miter;stroke-opacity:1\"/>\n",
       "<path d=\"M 333.333,321.869 348.485,330.617\" style=\"fill:none;fill-rule:evenodd;stroke:#FF0000;stroke-width:2px;stroke-linecap:butt;stroke-linejoin:miter;stroke-opacity:1\"/>\n",
       "<path d=\"M 318.182,313.122 318.182,291.252\" style=\"fill:none;fill-rule:evenodd;stroke:#000000;stroke-width:2px;stroke-linecap:butt;stroke-linejoin:miter;stroke-opacity:1\"/>\n",
       "<path d=\"M 318.182,291.252 318.182,269.383\" style=\"fill:none;fill-rule:evenodd;stroke:#FF0000;stroke-width:2px;stroke-linecap:butt;stroke-linejoin:miter;stroke-opacity:1\"/>\n",
       "<text x=\"209.189\" y=\"322.744\" style=\"font-size:17px;font-style:normal;font-weight:normal;fill-opacity:1;stroke:none;font-family:sans-serif;text-anchor:start;fill:#0000FF\"><tspan>H</tspan><tspan style=\"baseline-shift:sub;font-size:12.75px;\">2</tspan><tspan>N</tspan></text>\n",
       "<text x=\"347.884\" y=\"348.113\" style=\"font-size:17px;font-style:normal;font-weight:normal;fill-opacity:1;stroke:none;font-family:sans-serif;text-anchor:start;fill:#FF0000\"><tspan>OH</tspan></text>\n",
       "<text x=\"302.43\" y=\"269.383\" style=\"font-size:17px;font-style:normal;font-weight:normal;fill-opacity:1;stroke:none;font-family:sans-serif;text-anchor:start;fill:#FF0000\"><tspan>OH</tspan></text>\n",
       "<path d=\"M 489.509,313.122 510.491,313.122\" style=\"fill:none;fill-rule:evenodd;stroke:#FF0000;stroke-width:2px;stroke-linecap:butt;stroke-linejoin:miter;stroke-opacity:1\"/>\n",
       "<text x=\"458.005\" y=\"321.869\" style=\"font-size:17px;font-style:normal;font-weight:normal;fill-opacity:1;stroke:none;font-family:sans-serif;text-anchor:start;fill:#FF0000\"><tspan>HO</tspan></text>\n",
       "<text x=\"510.491\" y=\"321.869\" style=\"font-size:17px;font-style:normal;font-weight:normal;fill-opacity:1;stroke:none;font-family:sans-serif;text-anchor:start;fill:#FF0000\"><tspan>OH</tspan></text>\n",
       "</svg>"
      ],
      "text/plain": [
       "<IPython.core.display.SVG object>"
      ]
     },
     "execution_count": 12,
     "metadata": {},
     "output_type": "execute_result"
    }
   ],
   "source": [
    "draw_molecules(molecules['Products'][:6])"
   ]
  },
  {
   "cell_type": "markdown",
   "id": "f4b119bf-147a-4251-83f2-f7ccb5d7d400",
   "metadata": {},
   "source": [
    "## Unstable\n",
    "\n",
    "Unstable products were determined to not likely exist outside of reactive dynamics. This e.g. includes radicals or structures that don't form stable molecules in isolation. Not all unstable molecules have a sensible 2d structure, so instead we plot their 3d structure."
   ]
  },
  {
   "cell_type": "code",
   "execution_count": 13,
   "id": "369bfce7-7cfa-4bfd-bd35-5f901e6d5cfb",
   "metadata": {},
   "outputs": [
    {
     "data": {
      "image/png": "[encoded data removed]",
      "text/plain": [
       "<Figure size 144x144 with 1 Axes>"
      ]
     },
     "metadata": {
      "needs_background": "light"
     },
     "output_type": "display_data"
    },
    {
     "data": {
      "image/png": "[encoded data removed]",
      "text/plain": [
       "<Figure size 144x144 with 1 Axes>"
      ]
     },
     "metadata": {
      "needs_background": "light"
     },
     "output_type": "display_data"
    },
    {
     "data": {
      "image/png": "[encoded data removed]",
      "text/plain": [
       "<Figure size 144x144 with 1 Axes>"
      ]
     },
     "metadata": {
      "needs_background": "light"
     },
     "output_type": "display_data"
    }
   ],
   "source": [
    "for unstable_molecule in molecules['Unstable'][:3]:\n",
    "    plams.plot_molecule(unstable_molecule)"
   ]
  },
  {
   "cell_type": "markdown",
   "id": "537e6ab5-1684-48ba-8b2f-1c96301bb235",
   "metadata": {},
   "source": [
    "## Graph of the reaction network\n",
    "\n",
    "The graph is a bipartate networkx DiGraph with reaction and molecule nodes. This can be stored on disk in standard graph formats, e.g. `.gml`"
   ]
  },
  {
   "cell_type": "code",
   "execution_count": 14,
   "id": "9322fa85-6f75-4fa9-9d0c-ba79de4ce649",
   "metadata": {},
   "outputs": [],
   "source": [
    "import networkx as nx\n",
    "nx.write_gml(graph, 'reaction_network.gml')"
   ]
  },
  {
   "cell_type": "markdown",
   "id": "d6155c64-420a-4e13-ad0d-945f4eda143a",
   "metadata": {},
   "source": [
    "## Load a job not originally run by PLAMS"
   ]
  },
  {
   "cell_type": "code",
   "execution_count": 15,
   "id": "26b955b1-5777-4d89-9080-7e897ac14197",
   "metadata": {},
   "outputs": [],
   "source": [
    "job = ReactionsDiscoveryJob.load_external('plams_workdir/MyDiscovery')"
   ]
  },
  {
   "cell_type": "code",
   "execution_count": 16,
   "id": "1623d93c-c57d-47ab-a870-df219b503e41",
   "metadata": {},
   "outputs": [
    {
     "name": "stdout",
     "output_type": "stream",
     "text": [
      "  0   1   2   3   4   5   6   7   8   9  10  11  12  13  14  15  16  17  18  19  20  21  22  23  24 \n",
      " 25  26  27  28  29  30  31  32  33  34  35  36  37  38  39  40  41  42  43  44  45  46  47  48  49 \n",
      " 50  51  52  53  54  55  56  57  58  59  60  61  62  63  64  65  66  67  68  69  70  71  72  73  74 \n",
      " 75  76  77  78  79  80  81  82  83  84  85  86  87  88  89  90  91  92  93  94  95  96  97  98  99 \n",
      "100 101 102 103 104 105 106 107 108 109 110 111 112 113 114 115 116 117 118 119 120 121 122 123 124 \n",
      "125 126 127 128 129 130 131 132 133 134 135 136 137 138 139 140 141 142 143 144 145 146 147 148 149 \n",
      "150 151 152 153 154 155 156 157 158 159 160 161 162 163 164 165 166 167 168 169 170 171 172 173 174 \n",
      "175 176 177 178 179 180 181 182 183 184 185 186 187 188 189 190 191 192 193 194 195 196 197 198 199 \n",
      "200 201 202 203 204 205 206 207 208 209 210 211 212 213 214 215 216 217 218 219 220 221 222 223 224 \n",
      "225 226 227 228 229 230 231 232 233 234 235 236 237 238 239 240 241 242 243 244 245 246 247 248 249 \n",
      "250 251 252 253 254 255 256 257 258 259 260 261 262 263 264 265 266 267 268 269 270 271 272 273 274 \n",
      "275 276 277 278 279 280 281 282 283 284 285 286 287 288 289 290 291 292 293 294 295 296 297 298 299 \n",
      "300 301 302 303 304 305 306 307 308 309 310 311 312 313 314 315 316 317 318 319 320 321 322 323 324 \n",
      "\n"
     ]
    }
   ],
   "source": [
    "graph, molecules, categories = job.results.get_network()"
   ]
  }
 ],
 "metadata": {
  "kernelspec": {
   "display_name": "Python 3",
   "language": "python",
   "name": "python3"
  },
  "language_info": {
   "codemirror_mode": {
    "name": "ipython",
    "version": 3
   },
   "file_extension": ".py",
   "mimetype": "text/x-python",
   "name": "python",
   "nbconvert_exporter": "python",
   "pygments_lexer": "ipython3",
   "version": "3.8.12"
  }
 },
 "nbformat": 4,
 "nbformat_minor": 5
}
